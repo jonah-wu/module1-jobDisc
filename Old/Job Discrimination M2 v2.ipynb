{
 "cells": [
  {
   "cell_type": "markdown",
   "metadata": {},
   "source": [
    "# Milestone 2\n",
    "\n",
    "## Puzzle 4: Understanding the KPIs\n",
    "\n",
    "In the previous milestone we considered various models for the evaluation of candidates at Sprawlmart, and we mainly evaluated those algorithms based off of compliance with anti-discrimination statutes that we learned.  However, in a corporation, that is clearly not the only metric a model must obtain. More importantly, the model has to actually accomplish the goal defined by your objective.  In Sprawlmart's case that is selecting the best candidates. Those who are most capable of the job.\n",
    "\n",
    "In the following exercise we expose a new model evaluating employees, but the dataset we are using is viewed as data on past employees.  As such, the dataset has an additional column \"Performance\", denoting whether the employee was truly satisfactory or not.  \n",
    "\n",
    "We introduce concepts for model evaluation, different fairness formalizations, and give a basic overview to what software engineers often call the \"Machine Learning Pipeline\". \n",
    "\n",
    "Legal features - "
   ]
  },
  {
   "cell_type": "markdown",
   "metadata": {},
   "source": [
    "## Puzzle 5:  The Legality of Bias Correction\n",
    "Must re-read Ricci Weber distinction\n",
    "Must look into Pymetrics \"bias correction\" techniques\n",
    "Must create a new \"train set\" with a holdout...\n",
    " * Part 1: Consider X race-aware correction under our ranking model - results, legal implications ?\n",
    " * Part 2: Consider Y race-aware correction under our nearest neighbor model - results, legal implications ?\n",
    " * Part 3: Consider Z race-aware correction under our new logisticReg model - what are its results, legal implications ?\n",
    " * Describe what protocol is required to cast a race-aware correction in terms of an affirmative action program. How would you frame this model's function as an instantiation of an affirmative action program. \n",
    " * From the viewpoint of the law are there types of \"corrections\" that are more prone to be litigated because of their nature.  E.g. they just look more flat out discriminatory? \n",
    "\n",
    "Lead in, one core approach to addressing bias is the collection of better and more data.\n",
    "## Puzzle 5.5: Grey Areas - Contemplating the Legal Implications Behind Data Problems\n",
    "### The Opportunity Cost of Taking on Larger/Custom Datasets to Reduce Legal Risk\n",
    "    * Dollar Cost\n",
    "    * Performance Cost\n",
    "We ask students given these set of facts, and your understanding of the law, how would you provide counsel to the engineering team as to whether they ought to gather more data.\n",
    "\n",
    "Provide an illustration of what the inclusion of a big dataset with a perhaps different distribution might do to your dataset.  \n",
    "* Ideally it largely resolves your bias problem but your performance is hit - so that when we test on our holdout dataset we  actually don't do well because there we labelled individuals with technical skills and leadeership and hirevue capability as successful whereas the bought dataset sort of relied on  just soft skills and cultural fit.\n",
    "\n",
    "* Because the 4/5ths rule is not determinative list the set of factors you believe would be important in a discrimination claim to determining whether the proper approach was taken - along Zach's line of thought.\n",
    "\n",
    "## Final Puzzle: Developing your own model. \n",
    "Design model\n",
    "Evaluate It For Bias - Disparate Impact under Title VII, ADEA, ADA. \n",
    "Evaluate for Performance on the Train & Holdout\n",
    "Discuss Legal Risks - Disparate Treatment\n",
    "Discuss Adoption of Any Affirmative Action programs. "
   ]
  }
 ],
 "metadata": {
  "kernelspec": {
   "display_name": "Python 3",
   "language": "python",
   "name": "python3"
  },
  "language_info": {
   "codemirror_mode": {
    "name": "ipython",
    "version": 3
   },
   "file_extension": ".py",
   "mimetype": "text/x-python",
   "name": "python",
   "nbconvert_exporter": "python",
   "pygments_lexer": "ipython3",
   "version": "3.7.7"
  }
 },
 "nbformat": 4,
 "nbformat_minor": 4
}
