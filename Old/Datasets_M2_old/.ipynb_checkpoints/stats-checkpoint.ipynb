{
 "cells": [
  {
   "cell_type": "code",
   "execution_count": 3,
   "metadata": {},
   "outputs": [],
   "source": [
    "import math\n",
    "import pandas as pd"
   ]
  },
  {
   "cell_type": "code",
   "execution_count": 4,
   "metadata": {},
   "outputs": [],
   "source": [
    "def loadPpl(race, gender):\n",
    "    numPpl = 10000\n",
    "    Gender = {\"male\": .60, \"female\": .40}\n",
    "\n",
    "    races = {\n",
    "        \"Caucasian\": .55,\n",
    "        \"African-American\": .14,\n",
    "        \"Asian\": .15,\n",
    "        \"Hispanic\": .10,\n",
    "        \"Other\": .06\n",
    "    }\n",
    "    \n",
    "    return int(math.floor(numPpl * Gender[gender] * races[race]))"
   ]
  },
  {
   "cell_type": "code",
   "execution_count": 5,
   "metadata": {},
   "outputs": [
    {
     "data": {
      "text/plain": [
       "3300"
      ]
     },
     "execution_count": 5,
     "metadata": {},
     "output_type": "execute_result"
    }
   ],
   "source": [
    "loadPpl(\"Caucasian\", \"male\")"
   ]
  },
  {
   "cell_type": "markdown",
   "metadata": {},
   "source": [
    "# Run Cell Below to Form Up Dataset"
   ]
  },
  {
   "cell_type": "code",
   "execution_count": 18,
   "metadata": {},
   "outputs": [
    {
     "name": "stdout",
     "output_type": "stream",
     "text": [
      "Race\n",
      "African-American    1400\n",
      "Asian               1500\n",
      "Caucasian           5500\n",
      "Hispanic            1000\n",
      "Other                600\n",
      "dtype: int64\n"
     ]
    }
   ],
   "source": [
    "def loadDataset():\n",
    "    genders = [\"male\", \"female\"]\n",
    "\n",
    "    races = [\n",
    "        \"Caucasian\",\n",
    "        \"African-American\",\n",
    "        \"Asian\",\n",
    "        \"Hispanic\",\n",
    "        \"Other\"\n",
    "        ]\n",
    "    \n",
    "    \n",
    "    dfs = []\n",
    "    for gender in genders:\n",
    "        for race in races:\n",
    "            dfs.append(pd.read_csv(\"employeeData_\" + gender + \"_\" + race + \".csv\", index_col=0))\n",
    "            \n",
    "    dataset = pd.concat(dfs)\n",
    "    \n",
    "    \n",
    "    cols = dataset.columns.tolist()\n",
    "    cols = cols[-7:] + cols[:-7]\n",
    "    dataset = dataset[cols]\n",
    "    dataset.info()\n",
    "    \n",
    "    return dataset\n",
    "\n",
    "dataset = loadDataset()\n",
    "dataset.to_csv(\"employees_milestone2.csv\", index=False)"
   ]
  },
  {
   "cell_type": "code",
   "execution_count": null,
   "metadata": {},
   "outputs": [],
   "source": []
  },
  {
   "cell_type": "code",
   "execution_count": null,
   "metadata": {},
   "outputs": [],
   "source": []
  }
 ],
 "metadata": {
  "kernelspec": {
   "display_name": "Python 3",
   "language": "python",
   "name": "python3"
  },
  "language_info": {
   "codemirror_mode": {
    "name": "ipython",
    "version": 3
   },
   "file_extension": ".py",
   "mimetype": "text/x-python",
   "name": "python",
   "nbconvert_exporter": "python",
   "pygments_lexer": "ipython3",
   "version": "3.7.7"
  }
 },
 "nbformat": 4,
 "nbformat_minor": 4
}
