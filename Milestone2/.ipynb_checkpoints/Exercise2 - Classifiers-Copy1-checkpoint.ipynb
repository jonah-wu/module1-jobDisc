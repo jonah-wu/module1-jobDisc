{
 "cells": [
  {
   "cell_type": "code",
   "execution_count": 52,
   "metadata": {},
   "outputs": [],
   "source": [
    "import nbimporter\n",
    "import pandas as pd \n",
    "import numpy as np\n",
    "import matplotlib.pyplot as plt; plt.rcdefaults()\n",
    "import numpy as np\n",
    "import pandas as pd\n",
    "import math\n",
    "\n",
    "from scipy.linalg import eigh, cholesky\n",
    "from scipy.stats import norm\n",
    "from pylab import plot, show, axis, subplot, xlabel, ylabel, grid\n",
    "\n",
    "\n",
    "import matplotlib.pyplot as plt\n",
    "%matplotlib inline\n",
    "\n",
    "\n",
    "from sklearn.linear_model import LogisticRegression\n",
    "from sklearn.model_selection import train_test_split\n",
    "from sklearn.multiclass import OneVsRestClassifier\n",
    "from sklearn.neighbors import KNeighborsClassifier\n",
    "from sklearn.preprocessing import MinMaxScaler\n",
    "from sklearn.metrics import accuracy_score, f1_score, recall_score, precision_score, confusion_matrix"
   ]
  },
  {
   "cell_type": "code",
   "execution_count": 30,
   "metadata": {},
   "outputs": [],
   "source": [
    "def graphSelectionRates(selected, candidates, protectedClass):\n",
    "    selected_candidates = selected.copy()\n",
    "    candidates_all = candidates.copy()\n",
    "    raceIndxs = {\"Caucasian\": 0, \"African-American\": 1, \"Asian\": 2, \"Hispanic\": 3, \"Other\": 4 }\n",
    "    sexIndxs = {\"Male\":0, \"Female\":1}\n",
    "    \n",
    "    if protectedClass == \"race\":\n",
    "        features = [col for col in selected_candidates if col.startswith(\"race_\")]\n",
    "        race_selected = selected_candidates[features].idxmax(axis=1).str.replace('race_', '')\n",
    "        race_all = candidates_all[features].idxmax(axis=1).str.replace('race_', '')\n",
    "        \n",
    "        candidates_all[\"Race\"] = race_all\n",
    "        selected_candidates[\"Race\"] = race_selected\n",
    "\n",
    "        numCandidates = candidates_all[\"Race\"].value_counts()\n",
    "        numQualified = selected_candidates[\"Race\"].value_counts()\n",
    "\n",
    "        selectionRate1 = numQualified[\"Caucasian\"] / numCandidates[\"Caucasian\"]\n",
    "        selectionRate2 = numQualified[\"Asian\"] / numCandidates[\"Asian\"]\n",
    "        selectionRate3 = numQualified[\"African-American\"] / numCandidates[\"African-American\"]\n",
    "        selectionRate4 = numQualified[\"Hispanic\"] / numCandidates[\"Hispanic\"]\n",
    "        \n",
    "        print(\"The selection rate for \" + \"Caucasian\" + \"s: \",selectionRate1)\n",
    "        print(\"The selection rate for \" + \"Asian\" + \"s: \", selectionRate2)\n",
    "        print(\"The selection rate for \" + \"African-American\" + \"s: \",selectionRate3)\n",
    "        print(\"The selection rate for \" + \"Hispanic\" + \"s: \",selectionRate4)\n",
    "        \n",
    "        y_pos = np.arange(4)\n",
    "        performance = [selectionRate1, selectionRate2, selectionRate3, selectionRate4]\n",
    "        plt.bar(y_pos, performance, align='center', alpha=0.5)\n",
    "        plt.xticks(y_pos, (\"Caucasian\", \"Asian\", \"African-American\", \"Hispanic\"))\n",
    "        plt.ylabel('Selection Rate')\n",
    "        plt.title('Selection Rate Comparisons by Race')\n",
    "        plt.show()\n",
    "    elif protectedClass == \"gender\":\n",
    "        \n",
    "        features = [col for col in selected_candidates if col.startswith(\"gender_\")]\n",
    "        gender_selected = selected_candidates[features].idxmax(axis=1).str.replace('gender_', '')\n",
    "        gender_all = candidates_all[features].idxmax(axis=1).str.replace('gender_', '')\n",
    "\n",
    "        candidates_all[\"Gender\"] = gender_all\n",
    "        selected_candidates[\"Gender\"] = gender_selected\n",
    "        \n",
    "        numCandidates = candidates_all[\"Gender\"].value_counts()\n",
    "        numQualified = selected_candidates[\"Gender\"].value_counts()\n",
    "        \n",
    "        print(numCandidates)\n",
    "        print(numQualified) \n",
    "        \n",
    "        maleSelectionRate = numQualified[\"male\"] / numCandidates[\"male\"]\n",
    "        femaleSelectionRate = numQualified[\"female\"] / numCandidates[\"female\"]\n",
    "        print(\"The selection rate for \" + \"Male\" + \"s: \", maleSelectionRate)\n",
    "        print(\"The selection rate for \" + \"Female\" + \"s: \", femaleSelectionRate)\n",
    "        y_pos = np.arange(2)\n",
    "        performance = [maleSelectionRate, femaleSelectionRate]\n",
    "        plt.bar(y_pos, performance, align='center', alpha=0.5)\n",
    "        plt.xticks(y_pos, (\"Male\", \"Female\"))\n",
    "        plt.ylabel('Selection Rate')\n",
    "        plt.title('Selection Rate Comparisons by Sex')\n",
    "        plt.show()\n",
    "    else:\n",
    "        print(\"Try another protected type - gender or race\")\n",
    "        \n",
    "        \n",
    "def getOnehottedDataset(dataset, features, prefixes):\n",
    "# race, sex, sports, birth origin, education, educational prestige, criminal record, arrest record,\n",
    "    onehotted_data = dataset.copy()\n",
    "    onehotted_data = pd.get_dummies(onehotted_data, columns=features, prefix=prefixes)\n",
    "    return onehotted_data\n",
    "       \n",
    "def classificationSelection(candidates, labels, acceptValue):\n",
    "    df = candidates.copy()\n",
    "    df[\"Labels\"] = labels\n",
    "    candidatesSelected = df[df[\"Labels\"].isin([acceptValue])]\n",
    "    return candidatesSelected\n",
    "\n",
    "def transformDatapointsToScale(candidates, selectedFeatures):\n",
    "    df = candidates.copy()\n",
    "    for feature in selectedFeatures:\n",
    "        maximum = df[feature].max()\n",
    "#         print(maximum)\n",
    "        df[feature] = df[feature].apply(lambda x: x / maximum)\n",
    "    return df"
   ]
  },
  {
   "cell_type": "markdown",
   "metadata": {},
   "source": [
    "# Milestone 2: \n",
    "\n",
    "## Exercise 2:\n",
    "\n",
    "Ok, so in this exercise your team is going to get a fast introduction to classifiers!"
   ]
  },
  {
   "cell_type": "code",
   "execution_count": 76,
   "metadata": {},
   "outputs": [],
   "source": [
    "# Loading the dataset\n",
    "employees = pd.read_csv(\"../Datasets_M2/employees_milestone2.csv\")\n",
    "candidates = pd.read_csv(\"../Datasets/candidates_milestone1.csv\")\n",
    "\n",
    "# employeeData.info()"
   ]
  },
  {
   "cell_type": "markdown",
   "metadata": {},
   "source": [
    "### Subtask 0 (OPTIONAL):\n",
    "- You should have already familiarized yourself with the dataset in the last exercise but feel free to use the code below to analyze the dataset again. You can use it to plot a particular feature's values in the dataset against the performance colored by protected group.\n",
    "- If you want to study other aspects of the dataset feel free to look back to exercise 1 of the milestone and copy over some of those methods to the cell block below for use!"
   ]
  },
  {
   "cell_type": "code",
   "execution_count": 77,
   "metadata": {},
   "outputs": [
    {
     "data": {
      "image/png": "[encoded data removed]",
      "text/plain": [
       "<Figure size 432x288 with 1 Axes>"
      ]
     },
     "metadata": {
      "needs_background": "light"
     },
     "output_type": "display_data"
    }
   ],
   "source": [
    "##########################\n",
    "# DATASET ANALYSIS TOOLS #\n",
    "##########################\n",
    "\n",
    "def plotFeatureToPerformance(dataset, feature, metric, protectedClass, val=None):\n",
    "    \n",
    "    df = dataset.copy()\n",
    "    if val != None:\n",
    "        if len(val) == 1:\n",
    "            df = df.loc[(df[protectedClass] == val[0])]\n",
    "        elif len(val) == 2:\n",
    "            df = df.loc[(df[protectedClass]== val[0]) | (df[protectedClass]== val[1])]\n",
    "\n",
    "    df = df[[feature, metric, protectedClass]]\n",
    "\n",
    "    groups = df.groupby(protectedClass)\n",
    "\n",
    "    for name, group in groups:\n",
    "        plt.plot(group[feature], group[metric], marker=\"x\", linestyle=\"\", label=name)\n",
    "        \n",
    "    plt.xlabel(feature)\n",
    "    plt.ylabel(metric)\n",
    "    plt.legend()\n",
    "    \n",
    "feature = \"Educational Prestige\"# INSERT A FEATURE #\n",
    "metric = \"Manager's Assessment Score\"# SELECT A METRIC #\n",
    "protectedClass =  \"Race\"# INSERT A PROTECTED CLASS # \n",
    "plotFeatureToPerformance(candidates, feature, metric, protectedClass)\n",
    "# plotFeatureToPerformance(candidates, feature, metric, protectedClass) "
   ]
  },
  {
   "cell_type": "markdown",
   "metadata": {},
   "source": [
    "## Task 1: A Classification Approach through Logistic Regression\n",
    "\n",
    "- So in the last exercise we implemented a linear regression algorithm and used the results to rank individuals then select them based on a percentile cutoff. We then attempted to analyze performance through conventional metrics like R^2 and MSE but also considered the fairness of our algorithm to different groups. Another way we may seek to try and select candidates is through a classification approach similar to what we did in the nearest neighbors model in the first milestone. The first classification algorithm available to us is called logistic regression. \n",
    "- In this task we'll ask you to go ahead and run the model, then analyze its results through a series of performance and fairness metrics.  \n",
    "- Finally we'll ask you to consider deficiencies in the approach and from where these deficiencies likely arise.\n",
    "\n"
   ]
  },
  {
   "cell_type": "markdown",
   "metadata": {},
   "source": [
    "For this first part of the task we've already selected and scaled the features for you for the sake of\n",
    "convenience. Based on your understanding of the dataset and its features, please do consider what potential issues may arise from the features that we have chosen to select."
   ]
  },
  {
   "cell_type": "code",
   "execution_count": 95,
   "metadata": {},
   "outputs": [
    {
     "name": "stdout",
     "output_type": "stream",
     "text": [
      "<class 'pandas.core.frame.DataFrame'>\n",
      "RangeIndex: 10000 entries, 0 to 9999\n",
      "Data columns (total 50 columns):\n",
      " #   Column                      Non-Null Count  Dtype  \n",
      "---  ------                      --------------  -----  \n",
      " 0   Unnamed: 0                  10000 non-null  int64  \n",
      " 1   Unnamed: 0.1                10000 non-null  int64  \n",
      " 2   Education                   10000 non-null  float64\n",
      " 3   GPA                         10000 non-null  float64\n",
      " 4   Educational Prestige        10000 non-null  float64\n",
      " 5   Years of Experience         10000 non-null  float64\n",
      " 6   Soft Skills                 10000 non-null  float64\n",
      " 7   Manager's Assessment Score  10000 non-null  float64\n",
      " 8   Military Tenure             10000 non-null  float64\n",
      " 9   Avg Commute Time            10000 non-null  float64\n",
      " 10  Job Tenure                  10000 non-null  float64\n",
      " 11  Cultural Fit                10000 non-null  float64\n",
      " 12  Leadership Capability       10000 non-null  float64\n",
      " 13  Sports                      10000 non-null  float64\n",
      " 14  Technical Aptitude          10000 non-null  float64\n",
      " 15  Avg Deals Closed            10000 non-null  float64\n",
      " 16  Names                       10000 non-null  object \n",
      " 17  Age                         10000 non-null  float64\n",
      " 18  race_African-American       10000 non-null  uint8  \n",
      " 19  race_Asian                  10000 non-null  uint8  \n",
      " 20  race_Caucasian              10000 non-null  uint8  \n",
      " 21  race_Hispanic               10000 non-null  uint8  \n",
      " 22  race_Other                  10000 non-null  uint8  \n",
      " 23  gender_female               10000 non-null  uint8  \n",
      " 24  gender_male                 10000 non-null  uint8  \n",
      " 25  origin_Australia            10000 non-null  uint8  \n",
      " 26  origin_Canada               10000 non-null  uint8  \n",
      " 27  origin_China                10000 non-null  uint8  \n",
      " 28  origin_India                10000 non-null  uint8  \n",
      " 29  origin_Mexico               10000 non-null  uint8  \n",
      " 30  origin_United States        10000 non-null  uint8  \n",
      " 31  criminal_0.0                10000 non-null  uint8  \n",
      " 32  criminal_1.0                10000 non-null  uint8  \n",
      " 33  arrest_0.0                  10000 non-null  uint8  \n",
      " 34  arrest_1.0                  10000 non-null  uint8  \n",
      " 35  linkedin_None               10000 non-null  uint8  \n",
      " 36  linkedin_Ok                 10000 non-null  uint8  \n",
      " 37  linkedin_Very Good          10000 non-null  uint8  \n",
      " 38  socmedia_Bad                10000 non-null  uint8  \n",
      " 39  socmedia_Good               10000 non-null  uint8  \n",
      " 40  hirevue_0.0                 10000 non-null  uint8  \n",
      " 41  hirevue_1.0                 10000 non-null  uint8  \n",
      " 42  hirevue_2.0                 10000 non-null  uint8  \n",
      " 43  degree_Engineering          10000 non-null  uint8  \n",
      " 44  degree_Humanities           10000 non-null  uint8  \n",
      " 45  degree_Quantitative         10000 non-null  uint8  \n",
      " 46  degree_Sciences             10000 non-null  uint8  \n",
      " 47  referral_0.0                10000 non-null  uint8  \n",
      " 48  referral_1.0                10000 non-null  uint8  \n",
      " 49  Race                        10000 non-null  object \n",
      "dtypes: float64(15), int64(2), object(2), uint8(31)\n",
      "memory usage: 1.7+ MB\n"
     ]
    }
   ],
   "source": [
    "# RUN THIS CELL (0 Lines) #\n",
    "# One-hotting the dataset for use #\n",
    "features = [\"Race\", \"Gender\", \"Birth Origin\", \"Criminal Record\",\n",
    "           \"Arrest Record\", \"LinkedIn Score\", \"Responsible Social Media Use\", \n",
    "            \"HireVue Score\", \"Undergraduate Degree\", \"Employee Referral\"]\n",
    "prefixes = [\"race\", \"gender\", \"origin\", \"criminal\", \"arrest\", \"linkedin\", \n",
    "           \"socmedia\", \"hirevue\", \"degree\", \"referral\"]\n",
    "employees_race = employees[\"Race\"]\n",
    "candidates_race = candidates[\"Race\"]\n",
    "employees_processed = getOnehottedDataset(employees, features, prefixes)\n",
    "employees_processed[\"Race\"] = employees_race\n",
    "candidates_processed = getOnehottedDataset(candidates, features, prefixes)\n",
    "candidates_processed[\"Race\"] = candidates_race\n",
    "employees_processed.info()\n",
    "# RUN THIS CELL #"
   ]
  },
  {
   "cell_type": "code",
   "execution_count": 96,
   "metadata": {},
   "outputs": [],
   "source": [
    "# RUN THIS CELL (0 Lines) #\n",
    "selectedFeatures = [\n",
    "    \"GPA\", \"Education\", \"Educational Prestige\", \"Years of Experience\", \"Soft Skills\",\n",
    "]\n",
    "\n",
    "metric = \"Manager's Assessment Score\"\n",
    "# RUN THIS CELL #"
   ]
  },
  {
   "cell_type": "markdown",
   "metadata": {},
   "source": [
    "Ok we've selected features to use and a metric for you to experiment with the model. Your team will have the chance to improve it in just a bit.\n",
    "\n",
    "Recall that the former regression algorithm's utilization of the \"Manager's Assessment Score\" made a lot of sense because the Assesment score was a continuous value. Linear Regression was thus a great first choice. But now with classification, we need to have labels, or categories that we are trying to get our model to learn how to predict based on the sample's input. In order to do this, similar to the methods we used in Milestone 1 Exercise 3, we'll artificially generate labels by dividing the samples into quintiles based on their manager's assessment score. \n",
    "\n",
    "Your team will get to choose your own method of label generation in future parts!"
   ]
  },
  {
   "cell_type": "code",
   "execution_count": 97,
   "metadata": {},
   "outputs": [],
   "source": [
    "##################################\n",
    "# Label Assignment Options #######\n",
    "# Run Cell to Initialize Methods #\n",
    "##################################\n",
    "\n",
    "# Generates labels by ranking by the passed in metric, then dividing into terciles.\n",
    "def assignLabelsByTerciles(dataset, metric):\n",
    "    df = dataset.copy()\n",
    "    if percentiles == \"thirds\":\n",
    "        df = df.sort_values([metric], ascending=False)\n",
    "        labels = []\n",
    "        for x in range(len(dataset)):\n",
    "            if x < len(dataset) / 3:\n",
    "                labels.append(1)\n",
    "            elif x < len(dataset) / 3 * 2:\n",
    "                labels.append(0)\n",
    "            else:\n",
    "                labels.append(-1)\n",
    "        df[\"Label\"] = labels\n",
    "        #  Need to shuffle because just ranked them by deal count or whatever the metric is...\n",
    "        df = df.sample(frac=1).reset_index(drop=True)\n",
    "    else: \n",
    "        print(\"Invalid percentile requested to create labels by \")\n",
    "    return dataset\n",
    "\n",
    "# Generates labels by ranking by the passed in metric, then dividing into quintiles.\n",
    "def assignLabelsByQuintiles(employees, metric):\n",
    "    employees_labelled = employees.copy()\n",
    "    employees_labelled = employees_labelled.sort_values([metric], ascending=False)\n",
    "    fifth = math.floor(len(employees_labelled) / 5)\n",
    "    num = 2\n",
    "    labels = []\n",
    "    for x in range(5):\n",
    "        for y in range(fifth):\n",
    "            labels.append(num)\n",
    "        num -= 1\n",
    "    employees_labelled[\"Label\"] = labels\n",
    "    employees_labelled = employees_labelled.sample(frac=1).reset_index(drop=True)\n",
    "    return employees_labelled\n",
    "\n",
    "# Generates labels by ranking by the passed in metric, then dividing into quintiles.\n",
    "def discretize(vector, range):\n",
    "    newRange = range\n",
    "    vals = [range]\n",
    "    x = True\n",
    "    while(x):\n",
    "        range -= 1\n",
    "        if abs(range) <= newRange:\n",
    "            vals.append(range)\n",
    "        else:\n",
    "            x=False\n",
    "    roundedVals = []\n",
    "    for x in vector:\n",
    "        newVal = int(x)\n",
    "        if abs(newVal) > newRange:\n",
    "            # if greater than the newRange:\n",
    "            if newVal < 0:\n",
    "                newVal = -1*newRange\n",
    "            else:\n",
    "                newVal = 1*newRange\n",
    "        roundedVals.append(newVal)\n",
    "    return roundedVals"
   ]
  },
  {
   "cell_type": "code",
   "execution_count": 98,
   "metadata": {},
   "outputs": [
    {
     "name": "stdout",
     "output_type": "stream",
     "text": [
      "The mean of GPA for employees with -2 is 2.621684325532491\n",
      "The median of GPA for employees with-2 is 2.6150985856200206\n",
      "\n",
      "The mean of GPA for employees with -1 is 2.853028875072721\n",
      "The median of GPA for employees with-1 is 2.8525091845715402\n",
      "\n",
      "The mean of GPA for employees with 0 is 2.990357775611678\n",
      "The median of GPA for employees with0 is 3.0036499483358567\n",
      "\n",
      "The mean of GPA for employees with 1 is 3.1495794320430934\n",
      "The median of GPA for employees with1 is 3.127691472907541\n",
      "\n",
      "The mean of GPA for employees with 2 is 3.363595906747947\n",
      "The median of GPA for employees with2 is 3.363834455199333\n",
      "\n"
     ]
    }
   ],
   "source": [
    "# Used as a sanity check for the label generation - features that are predictive should have a meaningful difference in their\n",
    "# mean, median, and/or variance, across distinct label groups.\n",
    "\n",
    "# @params: the dataset, the metric you want to generate labels for, and a feature of interest\n",
    "# @return: prints out the mean and median values per feature per label value of the dataset\n",
    "# of each label value\n",
    "\n",
    "def printStats(employees, label, features):\n",
    "    df = employees.copy()\n",
    "    \n",
    "    label_vals = df[label].unique()\n",
    "    label_vals.sort()\n",
    "    \n",
    "    for feature in features:\n",
    "        for label_val in label_vals:\n",
    "            \n",
    "            selectedFeature = df.loc[(df[label] == label_val)][feature]\n",
    "            print(\"The mean of \" + feature + \" for employees with \" + str(label_val) + \" is\", selectedFeature.mean())\n",
    "            print(\"The median of \" + feature + \" for employees with\" + str(label_val) + \" is\", selectedFeature.median())\n",
    "            print(\"\")\n",
    "                       \n",
    "employees_processed = assignLabelsByQuintiles(employees_processed, metric)\n",
    "printStats(employees_processed, \"Label\", [\"GPA\"])"
   ]
  },
  {
   "cell_type": "markdown",
   "metadata": {},
   "source": [
    "### Train Test Split & Running the Model\n",
    "Typically when we run a model, we want to ensure that its behavior is generalizable to do this invoke a train test split to try and ensure that model is not overfitting to its input. While the concept is not too important for us in this exact instance, just know that in general when you're applying ML algorithms out in the wild it is absolutely essential to split your data in a train and test split so you have a semblance of knowledge as to whether your model can generalize!\n",
    "\n",
    "- The first cell block splits our dataset into a train-test (75/25) split.\n",
    "- The second cell block trains the LogReg model on our training data."
   ]
  },
  {
   "cell_type": "code",
   "execution_count": 99,
   "metadata": {},
   "outputs": [],
   "source": [
    "# RUN THIS CELL (0 Lines) #\n",
    "# No normalization applied...\n",
    "employees_scaled = employees_processed\n",
    "candidates_scaled = candidates_processed\n",
    "\n",
    "y = employees_scaled[\"Label\"]\n",
    "X = employees_scaled.drop([\"Label\"], axis=1)\n",
    "X_train, X_test, y_train, y_test = train_test_split(X, y, random_state=50)\n",
    "X_train_selectedFeatures = X_train[selectedFeatures].copy()\n",
    "X_test_selectedFeatures = X_test[selectedFeatures].copy()\n",
    "# RUN THIS CELL #"
   ]
  },
  {
   "cell_type": "code",
   "execution_count": 112,
   "metadata": {},
   "outputs": [],
   "source": [
    "# RUN THIS CELL (0 Lines) #\n",
    "def runLogRegModel(X, y):\n",
    "    oneVsRest = OneVsRestClassifier(LogisticRegression(random_state = 0, max_iter=500))\n",
    "    oneVsRest_fitted = oneVsRest.fit(X, y)\n",
    "    return oneVsRest_fitted\n",
    "\n",
    "lr_model = runLogRegModel(X_train_selectedFeatures, y_train)\n",
    "# RUN THIS CELL (0 Lines) #"
   ]
  },
  {
   "cell_type": "markdown",
   "metadata": {},
   "source": [
    "### Subtask: Metrics for Model Performance\n",
    "\n",
    "Great! So you've just finished training the model, its time to evaluate its performance on the train and test sets. In classification the performance metrics are actually way more intuitive than what we came across in regression analysis. That's because since we're predicting a label as opposed to a continuous score, we can use common-sense notions like accuracy to evaluate our model. \n",
    "\n",
    "However, in addition to accuracy we also want to introduce you to two new concepts, Precision and Recall. These are two additional measures used in classification task to measure the relative ratio of false positives and the relate ratio of false negatives. \n",
    "\n",
    "A false positive, in our case would be labelling an unqualified candidate as qualified.\n",
    "A false negative, would be labelling an qualified candidate as unqualified.  \n",
    "\n",
    "Note that based on our labelGeneration and subsequent determinations, qualified and unqualified are still up to us.\n",
    "On the extremes we can label every qualified, so we'd have zero false negatives or we can label everyone as unqualified so we have zero false positives.\n",
    "\n",
    "To formalize our performance metrics we have the following!\n",
    "    - Accuracy = TP + TN / TP + TN + FN + FP\n",
    "    - Precision = TP / TP + FP.\n",
    "    - Recall = TP / TP + FN. "
   ]
  },
  {
   "cell_type": "code",
   "execution_count": 113,
   "metadata": {},
   "outputs": [],
   "source": [
    "# Passed-in model predicts on X. Resultant, accuracy\n",
    "# more intuitive performance metrics like accuracy, precision, and recall on X is printed.\n",
    "# @params fitted model => model, dataset of candidates with selectedFeatures => X, labels of X candidates.\n",
    "def getModelStats(model, X, y):\n",
    "    y_pred = model.predict(X)\n",
    "    vals = {}\n",
    "    for x in range(len(y_pred)):\n",
    "        if y_pred[x] not in vals:\n",
    "            vals.update({y_pred[x]: 1})\n",
    "        else: \n",
    "            vals[y_pred[x]] += 1\n",
    "    print(vals)\n",
    "    \n",
    "    print(\"The accuracy of our model on the data is: \", accuracy_score(y_pred, y))\n",
    "    print(\"The precision of our model on the data is: \", precision_score(y_pred, y, average='macro'))\n",
    "    print(\"The recall of our model on the data is: \", recall_score(y_pred, y, average='macro'))\n",
    "    #     print(\"The f1 score of our model on the data is: \", f1_score(y_pred, y, average='macro'))\n",
    "    \n",
    "# Takes the dataset and returns all members in the dataset whose protectedClass is of the value\n",
    "# For example, if protectedClass=race and value=\"African-American\", returns all African-Americans in the dataset.\n",
    "def selectPersonsInClass(data, protectedClass, value):\n",
    "    df = data.loc[(data[protectedClass] == value)]\n",
    "    print(\"Num of rows of ppl who are %s:\"% (value ,), len(df))\n",
    "    return df"
   ]
  },
  {
   "cell_type": "code",
   "execution_count": 114,
   "metadata": {},
   "outputs": [
    {
     "name": "stdout",
     "output_type": "stream",
     "text": [
      "{-1: 1764, 2: 1633, 1: 1459, -2: 1684, 0: 960}\n",
      "The accuracy of our model on the data is:  0.8753333333333333\n",
      "The precision of our model on the data is:  0.8742351681456274\n",
      "The recall of our model on the data is:  0.8822233513767828\n"
     ]
    }
   ],
   "source": [
    "# RUN THIS CELL (0 Lines) #\n",
    "getModelStats(lr_model, X_train_selectedFeatures, y_train)\n",
    "# RUN THIS CELL #"
   ]
  },
  {
   "cell_type": "markdown",
   "metadata": {},
   "source": [
    "#### Model Fairness: Examining Metrics per Protected Class\n",
    "We might want to check these metrics for a certain protected group. We can do this using the function select persons in class. See the example usage below!"
   ]
  },
  {
   "cell_type": "code",
   "execution_count": 115,
   "metadata": {},
   "outputs": [
    {
     "name": "stdout",
     "output_type": "stream",
     "text": [
      "Num of rows of ppl who are Caucasian: 5500\n",
      "{-1: 1277, 2: 1223, 1: 1059, 0: 707, -2: 1234}\n",
      "The accuracy of our model on the data is:  0.878\n",
      "The precision of our model on the data is:  0.8762229131707414\n",
      "The recall of our model on the data is:  0.8851289118649455\n"
     ]
    }
   ],
   "source": [
    "# RUN THIS CELL (1 Line) #\n",
    "x_class = selectPersonsInClass(employees_scaled, \"Race\", \"Caucasian\") # Examine per protectedClass! #\n",
    "y_class = x_class[\"Label\"]\n",
    "x_class_selectedFeatures = x_class[selectedFeatures].copy()\n",
    "getModelStats(lr_model, x_class_selectedFeatures, y_class)\n",
    "# RUN THIS CELL (1 Lines) #"
   ]
  },
  {
   "cell_type": "markdown",
   "metadata": {},
   "source": [
    "### Check the weights"
   ]
  },
  {
   "cell_type": "code",
   "execution_count": null,
   "metadata": {},
   "outputs": [],
   "source": [
    "coeff_values = list(model.coef_)\n",
    "features = list(model.classes_)\n",
    "assert(len(coeff_values) == len(features))\n",
    "featureToValues = {features[x] : coeff_values[x] for x in range(len(features))}\n",
    "print(featureToValues)"
   ]
  },
  {
   "cell_type": "markdown",
   "metadata": {},
   "source": [
    "In the context of hiring, what do you think is worse, a poor Recall, or a poor Precision? What context might be helpful to have in answering that question? In the context of statutory liability, how might these metrics be relevant to the hiring company?"
   ]
  },
  {
   "cell_type": "markdown",
   "metadata": {},
   "source": [
    "#### Subtask: Deploying to Production on our Candidates\n",
    "\n",
    "Ok, you've successfully run through the models and examined base levels of performance from a standpoint of a variety of metrics. You're well on your way to becoming a lawyer data-scientist! You should also have an intuition for how the general pipeline of model development might go in a generality.\n",
    "\n",
    "However, after model tweaking and testing on our inital train and test sets, it's time to actually deploy this trained model on our 500 or so candidates. Note that since these are not employees we don't actually have the key \"ground-truth\" metrics that we were using to create labels for our models to try and predict.  The point is that we have developed a model with features that all the candidates have and we make our prediction (\"assign a label\") based on some score calculated through trained weights.\n",
    "\n",
    "One problem is that we again have to develop some sort of selection criteria.  Should we bring in the top two quintiles, just the top quintile? If we're using different labels, then we might need to chance that selection strategy. This is what constitutes the \"hiring\" in our algorithm."
   ]
  },
  {
   "cell_type": "code",
   "execution_count": 116,
   "metadata": {},
   "outputs": [
    {
     "name": "stdout",
     "output_type": "stream",
     "text": [
      "The selection rate for Caucasians:  0.22545454545454546\n",
      "The selection rate for Asians:  0.25333333333333335\n",
      "The selection rate for African-Americans:  0.21428571428571427\n",
      "The selection rate for Hispanics:  0.24\n"
     ]
    },
    {
     "data": {
      "image/png": "[encoded data removed]",
      "text/plain": [
       "<Figure size 432x288 with 1 Axes>"
      ]
     },
     "metadata": {
      "needs_background": "light"
     },
     "output_type": "display_data"
    }
   ],
   "source": [
    "# RUN THIS CELL (0 Lines) #\n",
    "\n",
    "x_candidates = candidates_processed[selectedFeatures].copy()\n",
    "candidate_labels = lr_model.predict(x_candidates)\n",
    "\n",
    "# Currently our classification selection procedure chooses candidates getting a rating of 2, the highest label,\n",
    "candidatesSelected = classificationSelection(candidates_processed, candidate_labels, 2)\n",
    "graphSelectionRates(candidatesSelected, candidates_processed, \"race\")\n",
    "# RUN THIS CELL (0 Lines) #"
   ]
  },
  {
   "cell_type": "markdown",
   "metadata": {},
   "source": [
    "#### Guiding Questions:\n",
    "- Is there a disparate impact? If there is, what do you believe in the dataset or algorithm is causing that bias?\n",
    "- Would a business necessity defense be sufficient to justify the bias?\n",
    "- How would you attempt to improve the approach?"
   ]
  },
  {
   "cell_type": "markdown",
   "metadata": {},
   "source": [
    "## Task 2: Classification Approach with k-Nearest Neighbors\n",
    "\n",
    "Lets introduce one more model...\n",
    "Wherein the last milestone we just looked at single closest nearest neighbor, we now evaluate the candidates by looking at the k closest different neighbors who all vote on what the candidate is!\n",
    "\n",
    "Recall that in nearest neighbor, we found the one employee that had the smallest \"distance\" to the candidate in terms of the selected features' values.  Then whatever label the employee had was the one we assigned to the candidate. kNN is a generalization of that. We basically say, hey look, instead of just looking at the single closest employees, lets look at the 3/4/5 closest ones and see what labels they have. Then of those 3/4/5 labels, whichever label is most common is the one we assign to the candidate. \n",
    "\n",
    "For example if k = 4, then we look at the 4 \"nearest\" employees to candidate X. If 3 of the 4 nearest employees to candidate X have a label of \"Excellent\" then we predict that the employee will be \"Excellent\".  This is supposed to be far more robust than nearest neighbor where k=1, because it avoids the scenario where the single closest employee is perhaps an outlier, therefore assigning an incorrect label to candidate X. Note that the nearest neighbor model is just kNN but that k = 1!"
   ]
  },
  {
   "cell_type": "code",
   "execution_count": 142,
   "metadata": {},
   "outputs": [],
   "source": [
    "# RUN THIS CELL (0 Lines) #\n",
    "# One-hotting the dataset for use #\n",
    "features = [\"Race\", \"Gender\", \"Birth Origin\", \"Criminal Record\",\n",
    "           \"Arrest Record\", \"LinkedIn Score\", \"Responsible Social Media Use\", \n",
    "            \"HireVue Score\", \"Undergraduate Degree\", \"Employee Referral\"]\n",
    "prefixes = [\"race\", \"gender\", \"origin\", \"criminal\", \"arrest\", \"linkedin\", \n",
    "           \"socmedia\", \"hirevue\", \"degree\", \"referral\"]\n",
    "employees_race = employees[\"Race\"]\n",
    "candidates_race = candidates[\"Race\"]\n",
    "employees_processed = getOnehottedDataset(employees, features, prefixes)\n",
    "employees_processed[\"Race\"] = employees_race\n",
    "candidates_processed = getOnehottedDataset(candidates, features, prefixes)\n",
    "candidates_processed[\"Race\"] = candidates_race\n",
    "# employees_processed.info()\n",
    "# RUN THIS CELL #"
   ]
  },
  {
   "cell_type": "code",
   "execution_count": 132,
   "metadata": {},
   "outputs": [],
   "source": [
    "selectedFeatures = [\n",
    "#     \"Technical Aptitude\", \"Sports\", \"Leadership Capability\"\n",
    "    \"GPA\", \"Education\", \"Educational Prestige\", \"Years of Experience\", \"Soft Skills\",\n",
    "]\n",
    "\n",
    "metric = \"Manager's Assessment Score\""
   ]
  },
  {
   "cell_type": "code",
   "execution_count": 133,
   "metadata": {},
   "outputs": [],
   "source": [
    "employees_processed = assignLabelsByQuintiles(employees_processed, metric)\n",
    "employees_scaled = employees_processed"
   ]
  },
  {
   "cell_type": "code",
   "execution_count": 134,
   "metadata": {},
   "outputs": [],
   "source": [
    "y = employees_scaled[\"Label\"]\n",
    "X = employees_scaled.drop([\"Label\"], axis=1)\n",
    "X_train, X_test, y_train, y_test = train_test_split(X, y, random_state=50)\n",
    "\n",
    "X_train_selectedFeatures = X_train[selectedFeatures].copy()\n",
    "X_test_selectedFeatures = X_test[selectedFeatures].copy()\n",
    "\n",
    "def rescaling(X):\n",
    "#     print(X)\n",
    "    scaler = MinMaxScaler()\n",
    "    scaler.fit(X)\n",
    "    data = scaler.transform(X)\n",
    "    return data\n",
    "\n",
    "X_scaled_train = rescaling(X_train_selectedFeatures)\n",
    "# print(X_scaled_train)"
   ]
  },
  {
   "cell_type": "code",
   "execution_count": 135,
   "metadata": {},
   "outputs": [],
   "source": [
    "neigh = KNeighborsClassifier(n_neighbors=4, metric=\"minkowski\", p=3)\n",
    "knn_model = neigh.fit(X_scaled_train, y_train)"
   ]
  },
  {
   "cell_type": "code",
   "execution_count": 136,
   "metadata": {},
   "outputs": [
    {
     "name": "stdout",
     "output_type": "stream",
     "text": [
      "{2: 1372, -2: 1595, 1: 1521, -1: 1566, 0: 1446}\n",
      "The accuracy of our model on the data is:  0.8910666666666667\n",
      "The precision of our model on the data is:  0.8905982025799062\n",
      "The recall of our model on the data is:  0.8920732760465302\n"
     ]
    }
   ],
   "source": [
    "getModelStats(knn_model, X_scaled_train, y_train)"
   ]
  },
  {
   "cell_type": "markdown",
   "metadata": {},
   "source": [
    "### Subtask: A Primer on Distinct Measures of Fairness\n",
    "\n",
    "In addition to examining the distinct accuracy, precision, and recall among distinct samples. Sound additional fairness metrics are utilized, namely we might wonder if the false positive and false negative rates are balanced among the groups.  We can calculate this by having our \"fitted\" model make predictions on the employees in our dataset, and printing out a confusion matrix.\n",
    "\n",
    "A confusion matrix is a helpful tool in analyzing a classification algorithm's performance. It enumerates the number of True Positives, True Negatives, False Positives, False Negatives in the model's predictions. By doing so we can calculate the following useful metrics below among each class.\n",
    "\n",
    "- False Positive Rate = False Positives / False Positives + True Negative\n",
    "- False Negative Rate = False Negatives / False Negative + True Positive\n",
    "\n",
    "As an interesting aside here, in addition to another well-known fairness metric named calibration, or statistical parity. It was shown that one could not simultaneously satisfy calibration, a balanced false positivity, and a balanced false negative rate so long as there was a disproportionate balance in the distribution of groups."
   ]
  },
  {
   "cell_type": "code",
   "execution_count": 137,
   "metadata": {},
   "outputs": [
    {
     "name": "stdout",
     "output_type": "stream",
     "text": [
      "Num of rows of ppl who are Caucasian: 5500\n",
      "This is the confusion matrix for the inputted datapoints\n",
      "[[1118    1    0    0    0]\n",
      " [ 116  994    3    0    0]\n",
      " [   0  282  672  122    0]\n",
      " [   0    0   32  937  115]\n",
      " [   0    0    0    0 1108]]\n",
      "The false positive rate is:  [0.02647797 0.06450878 0.00791139 0.02762681 0.02618397]\n",
      "The false negative rate is:  [0.00089366 0.10691824 0.37546468 0.13560886 0.        ]\n"
     ]
    }
   ],
   "source": [
    "def getRates(model, x, y):\n",
    "    y_true = y\n",
    "    y_prediction = model.predict(x)\n",
    "    cnf_matrix = confusion_matrix(y_true, y_prediction)\n",
    "    print(\"This is the confusion matrix for the inputted datapoints\")\n",
    "    print(cnf_matrix)\n",
    "    #[[1 1 3]\n",
    "    # [3 2 2]\n",
    "    # [1 3 1]]\n",
    "\n",
    "    FP = cnf_matrix.sum(axis=0) - np.diag(cnf_matrix)  \n",
    "    FN = cnf_matrix.sum(axis=1) - np.diag(cnf_matrix)\n",
    "    TP = np.diag(cnf_matrix)\n",
    "    TN = cnf_matrix.sum() - (FP + FN + TP)\n",
    "\n",
    "    FP = FP.astype(float)\n",
    "    FN = FN.astype(float)\n",
    "    TP = TP.astype(float)\n",
    "    TN = TN.astype(float)\n",
    "\n",
    "    # Sensitivity, hit rate, recall, or true positive rate\n",
    "#     TPR = TP/(TP+FN)\n",
    "    # Specificity or true negative rate\n",
    "#     TNR = TN/(TN+FP) \n",
    "#     Precision or positive predictive value\n",
    "#     PPV = TP/(TP+FP)\n",
    "    # Negative predictive value\n",
    "#     NPV = TN/(TN+FN)\n",
    "    # Fall out or false positive rate\n",
    "    FPR = FP/(FP+TN)\n",
    "    print(\"The false positive rate is: \", FPR)\n",
    "    # False negative rate\n",
    "    FNR = FN/(TP+FN)\n",
    "    print(\"The false negative rate is: \", FNR)\n",
    "    # False discovery rate\n",
    "#     FDR = FP/(TP+FP)\n",
    "    # Overall accuracy\n",
    "#     ACC = (TP+TN)/(TP+FP+FN+TN)\n",
    "\n",
    "# RUN THIS CELL (1 Line) #\n",
    "x_class = selectPersonsInClass(employees_scaled, \"Race\", \"Caucasian\") # Examine per protectedClass! #\n",
    "y_class = x_class[\"Label\"]\n",
    "x_class_selectedFeatures = x_class[selectedFeatures].copy()\n",
    "getRates(model, x_class_selectedFeatures, y_class)\n",
    "# RUN THIS CELL (1 Lines) #"
   ]
  },
  {
   "cell_type": "markdown",
   "metadata": {},
   "source": [
    "#### Question:\n",
    "How might you be able to use these metrics in litigation as Counsel to the EEOC? Or How might you use them as Counsel to Sprawlmart?"
   ]
  },
  {
   "cell_type": "markdown",
   "metadata": {},
   "source": [
    "#### Subtask: Deploying to Production on our Candidates\n",
    "\n",
    "Ok, you've successfully run through the models and examined base levels of performance from a standpoint of a variety of metrics. You're well on your way to becoming a lawyer data-scientist! You should also have an intuition for how the general pipeline of model development might go in a generality.\n",
    "\n",
    "However, after model tweaking and testing on our inital train and test sets, it's time to actually deploy this trained model on our 500 or so candidates. Note that since these are not employees we don't actually have the key \"ground-truth\" metrics that we were using to create labels for our models to try and predict.  The point is that we have developed a model with features that all the candidates have and we make our prediction (\"assign a label\") based on some score calculated through trained weights, or a relative total distance measure (in the case of kNN)\n",
    "\n",
    "One problem is that we again have to develop some sort of selection criteria.  Should we bring in the top two quintiles, just the top quintile? If we're using different labels, then we might need to chance that selection strategy. This is what constitutes the \"hiring\" in our algorithm."
   ]
  },
  {
   "cell_type": "code",
   "execution_count": 140,
   "metadata": {},
   "outputs": [
    {
     "name": "stdout",
     "output_type": "stream",
     "text": [
      "The selection rate for Caucasians:  0.3381818181818182\n",
      "The selection rate for Asians:  0.41333333333333333\n",
      "The selection rate for African-Americans:  0.2857142857142857\n",
      "The selection rate for Hispanics:  0.4\n"
     ]
    },
    {
     "data": {
      "image/png": "[encoded data removed]",
      "text/plain": [
       "<Figure size 432x288 with 1 Axes>"
      ]
     },
     "metadata": {
      "needs_background": "light"
     },
     "output_type": "display_data"
    }
   ],
   "source": [
    "# RUN THIS CELL (0 Lines) #\n",
    "# Ok, lets run it on the candidate dataset!\n",
    "# X_candidates = candidates_processed[selectedFeatures].copy()\n",
    "x_candidates = rescaling(candidates_processed[selectedFeatures].copy())\n",
    "candidate_labels = knn_model.predict(x_candidates)\n",
    "\n",
    "candidatesSelected = classificationSelection(candidates_processed, candidate_labels, 2)\n",
    "\n",
    "graphSelectionRates(candidatesSelected, candidates_processed, \"race\")\n",
    "# RUN THIS CELL (0 Lines) #"
   ]
  },
  {
   "cell_type": "markdown",
   "metadata": {},
   "source": [
    "#### Questions:\n",
    "- Ok, how did we do? Is there a disparate impact? If so, from where do you believe this bias is arising?\n",
    "- Could the disparate impact be justified through business necessity?\n",
    "- Are there particular race-aware corrections that could be utilized here to mitigate the bias?"
   ]
  },
  {
   "cell_type": "markdown",
   "metadata": {},
   "source": []
  }
 ],
 "metadata": {
  "kernelspec": {
   "display_name": "Python 3",
   "language": "python",
   "name": "python3"
  },
  "language_info": {
   "codemirror_mode": {
    "name": "ipython",
    "version": 3
   },
   "file_extension": ".py",
   "mimetype": "text/x-python",
   "name": "python",
   "nbconvert_exporter": "python",
   "pygments_lexer": "ipython3",
   "version": "3.7.7"
  }
 },
 "nbformat": 4,
 "nbformat_minor": 4
}
