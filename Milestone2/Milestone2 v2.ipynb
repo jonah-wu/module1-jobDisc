{
 "cells": [
  {
   "cell_type": "code",
   "execution_count": 1,
   "metadata": {},
   "outputs": [],
   "source": [
    "### RUN THIS CELL (0 Lines) ###\n",
    "# Load software packages #\n",
    "import nbimporter\n",
    "import pandas as pd \n",
    "import numpy as np\n",
    "import matplotlib.pyplot as plt; plt.rcdefaults()\n",
    "import numpy as np\n",
    "import math\n",
    "import pandas as pd\n",
    "\n",
    "from scipy.linalg import eigh, cholesky\n",
    "from scipy.stats import norm\n",
    "from pylab import plot, show, axis, subplot, xlabel, ylabel, grid\n",
    "\n",
    "\n",
    "import matplotlib.pyplot as plt\n",
    "%matplotlib inline\n",
    "\n",
    "from sklearn.linear_model import LogisticRegression\n",
    "from sklearn.model_selection import train_test_split\n",
    "from sklearn.multiclass import OneVsRestClassifier\n",
    "from sklearn.neighbors import KNeighborsClassifier\n",
    "from sklearn.preprocessing import MinMaxScaler, RobustScaler\n",
    "from sklearn.metrics import accuracy_score, f1_score, recall_score, precision_score, confusion_matrix\n",
    "### RUN THIS CELL ###"
   ]
  },
  {
   "cell_type": "code",
   "execution_count": 2,
   "metadata": {},
   "outputs": [],
   "source": [
    "# RUN THIS CELL (0 Lines) #\n",
    "# getModelStats - takes a model and has it predict on X. Then accuracy, precision, and recall on X is printed.\n",
    "# @params \n",
    "#. model - fitted model \n",
    "#  X - df of individuals with selectedFeatures, \n",
    "#  y - labels of X individuals.\n",
    "def getModelStats(model, X, y):\n",
    "    y_pred = model.predict(X)\n",
    "    vals = {}\n",
    "    for x in range(len(y_pred)):\n",
    "        if y_pred[x] not in vals:\n",
    "            vals.update({y_pred[x]: 1})\n",
    "        else: \n",
    "            vals[y_pred[x]] += 1\n",
    "    print(vals)\n",
    "    print(\"The accuracy of our model on the data is: \", accuracy_score(y_pred, y))\n",
    "    print(\"The precision of our model on the data is: \", precision_score(y_pred, y, average='macro'))\n",
    "    print(\"The recall of our model on the data is: \", recall_score(y_pred, y, average='macro'))\n",
    "\n",
    "# classificationSelection - selects candidates w. \"Labels\" field value of acceptValue\n",
    "# @param\n",
    "#.   - candidates is a dataframe of candidates\n",
    "#.   - labels is an array of the predictions for the candidates\n",
    "#.   - acceptValue is the label value we are seeking for candidates to be selected\n",
    "# @return\n",
    "#.   - candidatesSelected is a dataframe of selected candidates.\n",
    "def classificationSelection(candidates, labels, acceptValue):\n",
    "    df = candidates.copy()\n",
    "    df[\"Labels\"] = labels\n",
    "    candidatesSelected = df[df[\"Labels\"].isin([acceptValue])]\n",
    "    return candidatesSelected\n",
    "\n",
    "# getOnehottedDataset - takes a dataframe, a set of features, and prefix names for those features, and one-hots those features.\n",
    "# Note: ENSURE that the features passed in are discrete/not continuous. \n",
    "# @params: \n",
    "#    - dataset is a dataframe of individuals you seek to onehot the features of\n",
    "#    - features is an array of features in the dataset you wish to one-hot\n",
    "#    - prefixes is an array of names that will be the prefixes of the new columns produced via the one-hot function\n",
    "# @return: \n",
    "#    - returns the dataset with the features, one-hotted.        \n",
    "def getOnehottedDataset(dataset, features, prefixes):\n",
    "    onehotted_data = dataset.copy()\n",
    "    onehotted_data = pd.get_dummies(onehotted_data, columns=features, prefix=prefixes)\n",
    "    return onehotted_data\n",
    "\n",
    "# graphSelectionRates - outputs a bar graph of the selection rates for each protectedClass, depending on the protected\n",
    "# class you pass in (race or gender). \n",
    "# @params: \n",
    "#    - selected is a dataframe of all of the candidates that were chosen by the algorithm\n",
    "#    - candidates is a dataframe containing all candidates\n",
    "#    - protectedClass is a flag passed in as either \"race\" or \"gender\" depending on what the selection rates you'd like\n",
    "# @return: \n",
    "#    - prints selection rates and a bar graph.\n",
    "def graphSelectionRates(selected, candidates, protectedClass):\n",
    "    selected_candidates = selected.copy()\n",
    "    candidates_all = candidates.copy()\n",
    "    raceIndxs = {\"Caucasian\": 0, \"African-American\": 1, \"Asian\": 2, \"Hispanic\": 3, \"Other\": 4 }\n",
    "    sexIndxs = {\"Male\":0, \"Female\":1}\n",
    "    \n",
    "    if protectedClass == \"race\":\n",
    "        features = [col for col in selected_candidates if col.startswith(\"race_\")]\n",
    "        race_selected = selected_candidates[features].idxmax(axis=1).str.replace('race_', '')\n",
    "        race_all = candidates_all[features].idxmax(axis=1).str.replace('race_', '')\n",
    "        \n",
    "        candidates_all[\"Race\"] = race_all\n",
    "        selected_candidates[\"Race\"] = race_selected\n",
    "\n",
    "        numCandidates = candidates_all[\"Race\"].value_counts()\n",
    "        numQualified = selected_candidates[\"Race\"].value_counts()\n",
    "        \n",
    "        keys = numQualified.keys()\n",
    "        \n",
    "        raceToVal = {\n",
    "            \"Caucasian\": 0,\n",
    "            \"Asian\": 0,\n",
    "            \"African-American\": 0,\n",
    "            \"Hispanic\": 0,\n",
    "            \"Other\": 0\n",
    "        }\n",
    "        \n",
    "        for key in keys:\n",
    "            raceToVal[key] = numQualified[key]\n",
    "            \n",
    "        selectionRate1 = raceToVal[\"Caucasian\"] / numCandidates[\"Caucasian\"]\n",
    "        selectionRate2 = raceToVal[\"Asian\"] / numCandidates[\"Asian\"]\n",
    "        selectionRate3 = raceToVal[\"African-American\"] / numCandidates[\"African-American\"]\n",
    "        selectionRate4 = raceToVal[\"Hispanic\"] / numCandidates[\"Hispanic\"]\n",
    "        \n",
    "        print(\"The selection rate for \" + \"Caucasian\" + \"s: \",selectionRate1)\n",
    "        print(\"The selection rate for \" + \"Asian\" + \"s: \", selectionRate2)\n",
    "        print(\"The selection rate for \" + \"African-American\" + \"s: \",selectionRate3)\n",
    "        print(\"The selection rate for \" + \"Hispanic\" + \"s: \",selectionRate4)\n",
    "        \n",
    "        y_pos = np.arange(4)\n",
    "        performance = [selectionRate1, selectionRate2, selectionRate3, selectionRate4]\n",
    "        plt.bar(y_pos, performance, align='center', alpha=0.5)\n",
    "        plt.xticks(y_pos, (\"Caucasian\", \"Asian\", \"African-American\", \"Hispanic\"))\n",
    "        plt.ylabel('Selection Rate')\n",
    "        plt.title('Selection Rate Comparisons by Race')\n",
    "        plt.show()\n",
    "    elif protectedClass == \"gender\":\n",
    "        features = [col for col in selected_candidates if col.startswith(\"gender_\")]\n",
    "        gender_selected = selected_candidates[features].idxmax(axis=1).str.replace('gender_', '')\n",
    "        gender_all = candidates_all[features].idxmax(axis=1).str.replace('gender_', '')\n",
    "\n",
    "        candidates_all[\"Gender\"] = gender_all\n",
    "        selected_candidates[\"Gender\"] = gender_selected\n",
    "        \n",
    "        numCandidates = candidates_all[\"Gender\"].value_counts()\n",
    "        numQualified = selected_candidates[\"Gender\"].value_counts()\n",
    "        \n",
    "        print(numCandidates)\n",
    "        print(numQualified) \n",
    "        \n",
    "        maleSelectionRate = numQualified[\"male\"] / numCandidates[\"male\"]\n",
    "        femaleSelectionRate = numQualified[\"female\"] / numCandidates[\"female\"]\n",
    "        print(\"The selection rate for \" + \"Male\" + \"s: \", maleSelectionRate)\n",
    "        print(\"The selection rate for \" + \"Female\" + \"s: \", femaleSelectionRate)\n",
    "        y_pos = np.arange(2)\n",
    "        performance = [maleSelectionRate, femaleSelectionRate]\n",
    "        plt.bar(y_pos, performance, align='center', alpha=0.5)\n",
    "        plt.xticks(y_pos, (\"Male\", \"Female\"))\n",
    "        plt.ylabel('Selection Rate')\n",
    "        plt.title('Selection Rate Comparisons by Sex')\n",
    "        plt.show()\n",
    "    else:\n",
    "        print(\"Try another protected type - gender or race\")\n",
    "\n",
    "# selectPersonsInClass - Takes the dataset and returns all members in the dataset whose protectedClass is of the value\n",
    "# For example, if protectedClass=race and value=\"African-American\", returns all African-Americans in the dataset.\n",
    "# @params\n",
    "#.  - data - is the df of individuals we want to select individuals from\n",
    "#.  - protectedClass - is the protected class, race, gender, etc. we want to select from\n",
    "#.  - value - value is the group within that protected Class we want to select out (e.g female, or hispanic)\n",
    "#. @returns\n",
    "#.  - df the individuals in the selected group in the protected class of the data.\n",
    "def selectPersonsInClass(data, protectedClass, value):\n",
    "    df = data.loc[(data[protectedClass] == value)]\n",
    "    print(\"Num of rows of ppl who are %s:\"% (value ,), len(df))\n",
    "    return df\n",
    "\n",
    "# RUN THIS CELL #    "
   ]
  },
  {
   "cell_type": "markdown",
   "metadata": {},
   "source": [
    "# Milestone 2\n",
    "\n",
    "After presenting your initial analysis of Sprawlmart's algorithmic hiring pipeline, Sprawlmart's team was thoroughly impressed. They recognized your grasp of not simply the potential issues with legal compliance but ability to communicate those worries into actionable insights with the engineering team.\n",
    "\n",
    "Management has thus asked your team to stay on for an extra week and help Sprawlmart's team build another model taking all the issues you addressed into consideration. Though they are not naive to think that your team will solve the all of algorithmic hiring in one week, they'd love to see a statute-conscious, careful process for model development and are hoping that your Stanford trained team of legal engineers can model that for their engineering and legal groups. \n",
    "\n",
    "You have been tasked with choosing, tweaking, and/or building a model to deploy on a larget set of prospective Sprawlmart sales analyst job candidates. Moreover to faciliate your model training, given the problems you reported in the last dataset of employees, Sprawlmart's HR Engineering team, cobbled together a new and larger dataset of 10000 employees to use!\n",
    "\n",
    "You're then going to be asked to settle on your approach and discuss your process and addressal of challenges in a memo. Exciting & precarious stuff!\n",
    "\n",
    "We've gone and implemented a barebones Logistic Regression Model identical to the one you saw in Part5 of Milestone1 so your team can have an idea of the model components you must decide on. \n",
    "\n",
    "**Let's dive into it!**\n",
    "\n",
    "First let's load up the new and larger batch of employees and candidates"
   ]
  },
  {
   "cell_type": "code",
   "execution_count": 3,
   "metadata": {},
   "outputs": [],
   "source": [
    "# RUN THIS CELL (0 Lines) #  \n",
    "# Loading the dataset\n",
    "employees = pd.read_csv(\"../Employees_M2/employees_milestone2.csv\")\n",
    "candidates = pd.read_csv(\"../Candidates_M2/candidates_milestone2.csv\")\n",
    "# RUN THIS CELL #  "
   ]
  },
  {
   "cell_type": "code",
   "execution_count": 4,
   "metadata": {},
   "outputs": [
    {
     "name": "stdout",
     "output_type": "stream",
     "text": [
      "<class 'pandas.core.frame.DataFrame'>\n",
      "RangeIndex: 10000 entries, 0 to 9999\n",
      "Data columns (total 49 columns):\n",
      " #   Column                      Non-Null Count  Dtype  \n",
      "---  ------                      --------------  -----  \n",
      " 0   Names                       10000 non-null  object \n",
      " 1   Age                         10000 non-null  float64\n",
      " 2   Zip                         10000 non-null  int64  \n",
      " 3   Education                   10000 non-null  int64  \n",
      " 4   GPA                         10000 non-null  float64\n",
      " 5   Educational Prestige        10000 non-null  float64\n",
      " 6   Years of Experience         10000 non-null  float64\n",
      " 7   Soft Skills                 10000 non-null  float64\n",
      " 8   Manager's Assessment Score  10000 non-null  float64\n",
      " 9   Military Tenure             10000 non-null  float64\n",
      " 10  Avg Commute Time            10000 non-null  float64\n",
      " 11  Job Tenure                  10000 non-null  float64\n",
      " 12  Cultural Fit                10000 non-null  float64\n",
      " 13  Leadership Capability       10000 non-null  float64\n",
      " 14  HireVue Score               10000 non-null  float64\n",
      " 15  Technical Aptitude          10000 non-null  float64\n",
      " 16  Avg Deals Closed            10000 non-null  float64\n",
      " 17  race_African-American       10000 non-null  uint8  \n",
      " 18  race_Asian                  10000 non-null  uint8  \n",
      " 19  race_Caucasian              10000 non-null  uint8  \n",
      " 20  race_Hispanic               10000 non-null  uint8  \n",
      " 21  race_Other                  10000 non-null  uint8  \n",
      " 22  gender_female               10000 non-null  uint8  \n",
      " 23  gender_male                 10000 non-null  uint8  \n",
      " 24  origin_Australia            10000 non-null  uint8  \n",
      " 25  origin_Canada               10000 non-null  uint8  \n",
      " 26  origin_China                10000 non-null  uint8  \n",
      " 27  origin_Mexico               10000 non-null  uint8  \n",
      " 28  origin_USA                  10000 non-null  uint8  \n",
      " 29  criminal_0.0                10000 non-null  uint8  \n",
      " 30  criminal_1.0                10000 non-null  uint8  \n",
      " 31  arrest_0.0                  10000 non-null  uint8  \n",
      " 32  arrest_1.0                  10000 non-null  uint8  \n",
      " 33  arrest_2.0                  10000 non-null  uint8  \n",
      " 34  sports_0.0                  10000 non-null  uint8  \n",
      " 35  sports_1.0                  10000 non-null  uint8  \n",
      " 36  linkedin_None               10000 non-null  uint8  \n",
      " 37  linkedin_Ok                 10000 non-null  uint8  \n",
      " 38  linkedin_Very Good          10000 non-null  uint8  \n",
      " 39  socmedia_Bad                10000 non-null  uint8  \n",
      " 40  socmedia_Good               10000 non-null  uint8  \n",
      " 41  degree_Engineering          10000 non-null  uint8  \n",
      " 42  degree_Humanities           10000 non-null  uint8  \n",
      " 43  degree_None                 10000 non-null  uint8  \n",
      " 44  degree_Quantitative         10000 non-null  uint8  \n",
      " 45  degree_Sciences             10000 non-null  uint8  \n",
      " 46  referral_0.0                10000 non-null  uint8  \n",
      " 47  referral_1.0                10000 non-null  uint8  \n",
      " 48  Race                        10000 non-null  object \n",
      "dtypes: float64(14), int64(2), object(2), uint8(31)\n",
      "memory usage: 1.7+ MB\n"
     ]
    }
   ],
   "source": [
    "# RUN THIS CELL (0 Lines) #\n",
    "# One-hotting the dataset for use #\n",
    "features = [\"Race\", \"Gender\", \"Birth Origin\", \"Criminal Record\", \"Sports\",\n",
    "           \"Arrest Record\", \"LinkedIn Score\", \"Responsible Social Media Use\", \"Undergraduate Degree\", \"Employee Referral\"]\n",
    "prefixes = [\"race\", \"gender\", \"origin\", \"criminal\", \"arrest\", \"sports\", \"linkedin\", \n",
    "           \"socmedia\", \"degree\", \"referral\"]\n",
    "employees_race = employees[\"Race\"]\n",
    "candidates_race = candidates[\"Race\"]\n",
    "employees_processed = getOnehottedDataset(employees, features, prefixes)\n",
    "employees_processed[\"Race\"] = employees_race\n",
    "candidates_processed = getOnehottedDataset(candidates, features, prefixes)\n",
    "candidates_processed[\"Race\"] = candidates_race\n",
    "employees_processed.info()\n",
    "# RUN THIS CELL #"
   ]
  },
  {
   "cell_type": "markdown",
   "metadata": {},
   "source": [
    "### Part 1: Data Engineering\n",
    "\n",
    "In this section you'll decide on which features to include, segments of data to include/exclude, a performance metric, and method of label generation for your employees. It's not necessary to think of these as needing to be done in a particular order.\n",
    "\n",
    "- Choose features.\n",
    "- Include/Exclude Data - Change the distribution of the dataset for different training results.\n",
    "- Formulating a performance metric.\n",
    "- Formulate a label generation method.\n",
    "\n",
    "\n",
    "First, you can use the two cell blocks below to try and investigate the dynamics of the dataset similar to your analysis in Milestone 1 to decide on the features and a metric to use."
   ]
  },
  {
   "cell_type": "code",
   "execution_count": 9,
   "metadata": {},
   "outputs": [
    {
     "name": "stdout",
     "output_type": "stream",
     "text": [
      "This is the distribution of values for the employees for the feature: Criminal Record\n",
      "Race              Criminal Record\n",
      "African-American  0.0                1260\n",
      "                  1.0                 140\n",
      "Asian             0.0                1350\n",
      "                  1.0                 150\n",
      "Caucasian         0.0                4950\n",
      "                  1.0                 550\n",
      "Hispanic          0.0                 900\n",
      "                  1.0                 100\n",
      "Other             0.0                 540\n",
      "                  1.0                  60\n",
      "dtype: int64\n",
      "This is the distribution of values for the job candidates for the feature: Criminal Record\n",
      "Race              Criminal Record\n",
      "African-American  0.0                 315\n",
      "                  1.0                  35\n",
      "Asian             0.0                 338\n",
      "                  1.0                  37\n",
      "Caucasian         0.0                1238\n",
      "                  1.0                 137\n",
      "Hispanic          0.0                 225\n",
      "                  1.0                  25\n",
      "Other             0.0                 135\n",
      "                  1.0                  15\n",
      "dtype: int64\n"
     ]
    }
   ],
   "source": [
    "### RUN THIS CELL (2 Lines) ###\n",
    "# displayDistributionOfFeature - A function which prints out the distribution of values for a given feature in a dataset\n",
    "# per ethnicity. This enables us to analyze whether certain ethnicities tend to get classified as having certain feature \n",
    "# values more than others or if the general distribution of values for the features is different for different races.\n",
    "# @params:\n",
    "#   - dataset is a dataframe of individuals\n",
    "#   - feature is the feature whose distribution we want to see\n",
    "#   - protectedAttribute is a flag - either \"Race\" or \"Gender\"\n",
    "# @returns:\n",
    "#   - Just prints the distribution\n",
    "def displayDistributionOfFeature(dataset, feature, protectedAttribute):\n",
    "    validAttributes = [\"Race\", \"Sex\", \"Age\", \"Birth Origin\"]\n",
    "    if protectedAttribute not in validAttributes:\n",
    "        print(\"Protected Attribute not valid\")\n",
    "        return\n",
    "    series = dataset.groupby([protectedAttribute, feature])\n",
    "    print(series.size())\n",
    "    \n",
    "feature = \"Criminal Record\" # INSERT A FEATURE - GPA, Cultural Fit, etc. #\n",
    "protectedAttribute = \"Race\" # INSERT A protected class - race, gender, etc. #\n",
    "\n",
    "print(\"This is the distribution of values for the employees for the feature:\", feature)\n",
    "displayDistributionOfFeature(employees, feature, protectedAttribute)\n",
    "print(\"This is the distribution of values for the job candidates for the feature:\", feature)\n",
    "displayDistributionOfFeature(candidates, feature, protectedAttribute)\n",
    "\n",
    "### RUN THIS CELL (2 Lines) ### "
   ]
  },
  {
   "cell_type": "code",
   "execution_count": 10,
   "metadata": {},
   "outputs": [
    {
     "data": {
      "image/png": "[encoded data removed]",
      "text/plain": [
       "<Figure size 432x288 with 1 Axes>"
      ]
     },
     "metadata": {
      "needs_background": "light"
     },
     "output_type": "display_data"
    }
   ],
   "source": [
    "### RUN THIS CELL (4 Lines) ###\n",
    "\n",
    "# plotFeatureToPerformance - is another printing function that enables us to plot a feature of the dataset\n",
    "# against a metric to investigate whether there exists some sort of correlation between the two. Each datapoint is further\n",
    "# coded by its protectedClass identity.\n",
    "# @params:\n",
    "#.   - dataset is a dataframe of individuals\n",
    "#.   - feature is a feature in the dataframe\n",
    "#.   - metric is a string of one of the three metrics for evaluation - Job Tenure, Avg Deals Closed, or Manager's Assessment Score\n",
    "#.   - val is an optional array argument you pass in to just plot one or two values that are in the protectedClass (i.e. \"Caucasian\", \"African-American\")\n",
    "# @returns:\n",
    "#.   - None just plots it out for you.\n",
    "def plotFeatureToPerformance(dataset, feature, metric, protectedClass, val=None):\n",
    "    df = dataset.copy()\n",
    "    if val != None:\n",
    "        if len(val) == 1:\n",
    "            df = df.loc[(df[protectedClass] == val[0])]\n",
    "        elif len(val) == 2:\n",
    "            df = df.loc[(df[protectedClass]== val[0]) | (df[protectedClass]== val[1])]\n",
    "    df = df[[feature, metric, protectedClass]]\n",
    "    groups = df.groupby(protectedClass)\n",
    "    for name, group in groups:\n",
    "        plt.plot(group[feature], group[metric], marker=\"x\", linestyle=\"\", label=name)\n",
    "        \n",
    "    plt.xlabel(feature)\n",
    "    plt.ylabel(metric)\n",
    "    plt.legend()\n",
    "    \n",
    "feature = \"Avg Commute Time\"# INSERT A FEATURE #\n",
    "metric = \"Job Performance\"# SELECT A METRIC #\n",
    "protectedClass =  \"Race\"# INSERT A PROTECTED CLASS # \n",
    "protectedClass_values = \"None\" # INSERT up to two values of the protected class you chose #\n",
    "plotFeatureToPerformance(employees, feature, metric, protectedClass, protectedClass_values)\n",
    "# plotFeatureToPerformance(candidates, feature, metric, protectedClass) \n",
    "\n",
    "### RUN THIS CELL (4 Lines) ###"
   ]
  },
  {
   "cell_type": "markdown",
   "metadata": {},
   "source": [
    "#### Selecting Features: Ok, you're going to want to select some features based on what's available to you now that we've one-hotted the dataset. Some key considerations...\n",
    "- What features are the most predictive of performance\n",
    "- What features may be useful for some subgroups but not others. \n",
    "- What features may have unequal distributions between different subgroups."
   ]
  },
  {
   "cell_type": "code",
   "execution_count": 11,
   "metadata": {},
   "outputs": [],
   "source": [
    "# RUN CODE (1 Line) #\n",
    "# Choose features and metric to use for your model (1 Line)\n",
    "selectedFeatures = [\n",
    "    \"GPA\", \"Educational Prestige\", \"Technical Aptitude\" # Currently used as a placeholder.\n",
    "]"
   ]
  },
  {
   "cell_type": "markdown",
   "metadata": {},
   "source": [
    "#### Choose a Metric:  Some key considerations...\n",
    "- Is the metric's value distribution equal among the different groups? \n",
    "- Could some \"linear combination\" of the metrics be more predictive or meaningful to you?\n",
    "- Should your metric include non-performance related features like GPA, or cultural fit?"
   ]
  },
  {
   "cell_type": "code",
   "execution_count": 27,
   "metadata": {},
   "outputs": [],
   "source": [
    "# Use a pre-existing or make your own metric! (1 Line)\n",
    "### If you want your metric to be some function of different measures or features available to you\n",
    "### You can set employees[\"metric\"] equal to that function of different measures. \n",
    "### For example suppose I wanted my metric to be calculated as 1/2 an employee's average deals closed\n",
    "### and 1/2 an employee's job tenure I would do the following for the code line \n",
    "#### employees[\"metric\"] = 0.5*employees[\"Avg Deals Closed\"] + 0.5*employees[\"Job Tenure\"]\n",
    "metric = \"Avg Deals Closed\"\n",
    "employees[\"metric\"] = metric"
   ]
  },
  {
   "cell_type": "markdown",
   "metadata": {},
   "source": [
    "#### Pick a Label Generation Method: Here we've chosen a metric to use as part of our model training. If you're planning on using a regression technique then you can skip this method as you'll be directly training to predict the metric score. However, if you're using a classification algorithm then you need to bucket the employees in some way. \n",
    "\n",
    "Some considerations...\n",
    "- Does my label generation method make me vulnerable to false positives? false negatives?\n",
    "- How will my resulting labels be used to make the actual decision when it comes to candidates. "
   ]
  },
  {
   "cell_type": "code",
   "execution_count": 28,
   "metadata": {},
   "outputs": [],
   "source": [
    "# Insert Label Generation Method (3-5 Lines) #\n",
    "\n",
    "# assignLabelsByPercentile - is a function labelling the dataset by taking the metric scores of the individuals \n",
    "# in the dataset and splitting them into ranked percentile ranges (top Xth percent, next Xth percent, etc.)\n",
    "# @params - \n",
    "#.  dataset is a dataframe of individuals\n",
    "#.  metric - is the feature value we want to rank then divide individuals by\n",
    "# @returns - \n",
    "#.  dataset with labels. \n",
    "def assignLabelsByPercentile(employees, percentile):\n",
    "    employees_labelled = employees.copy()\n",
    "    employees_labelled = employees_labelled.sort_values([\"metric\"], ascending=False)\n",
    "    nths = math.floor(len(employees_labelled) / percentile)\n",
    "    num = percentile - 1\n",
    "    labels = []\n",
    "    for x in range(percentile):\n",
    "        for y in range(nths):\n",
    "            labels.append(num)\n",
    "        num -= 1\n",
    "    while (len(labels) != len(employees)):\n",
    "        labels.append(np.random.choice(percentile))\n",
    "    employees_labelled[\"Label\"] = labels\n",
    "    employees_labelled = employees_labelled.sample(frac=1).reset_index(drop=True)\n",
    "    return employees_labelled \n",
    "\n",
    "employees_labelled = assignLabelsByPercentile(employees_processed, 5) # Assigning labels by quintiles of metric\n",
    "# Insert Label Generation Method (3-5 Lines) #"
   ]
  },
  {
   "cell_type": "markdown",
   "metadata": {},
   "source": [
    "#### Manipulating your Dataset: Due to bias, or the relative importance of some features you saw in the last exercises, your team may want to meaningfully manipulate features in the dataset some way.  \n",
    "\n",
    "#### For example, you may want to transform certain features in some manner. You may want to remove a subset of the data because it is somehow causing poorer performance due to its outlying nature or you want to rectify some imbalance in the data. Or out of various concerns, you might think that \"tampering\" with the data is just wrong! All for you legal engineers to decide.\n",
    "\n",
    "Some key considerations - \n",
    "- Will my manipulations applied mitigate or accentuate existing biases in the data?\n",
    "- How will my adjustments affect not just the bias but the actual model's performance?\n",
    "- Do I risk overfitting the model by the way I'm thinking about certain candidates?"
   ]
  },
  {
   "cell_type": "code",
   "execution_count": 16,
   "metadata": {},
   "outputs": [],
   "source": [
    "# Remove/alter data points or features # (0-5 Lines)\n",
    "\n",
    "# Remove/alter data points or features #"
   ]
  },
  {
   "cell_type": "code",
   "execution_count": 17,
   "metadata": {},
   "outputs": [],
   "source": [
    "# Transform, scale, & adjust the data (0-10 Lines)\n",
    "\n",
    "# transformDatapointsToScale - normalizes the features in the dataset matching with features passed in via selectedFeatures.\n",
    "# This is done by dividing each of the chosen columns by that columns' max.\n",
    "# @params:\n",
    "#    - dataset is a dataframe containing individuals (employees or candidates)\n",
    "#    - selectedFeatures is an array of strings, where each string is a feature in the df we seek to normalize\n",
    "# @returns:\n",
    "#    - the dataframe w. selectedFeature's normalized.\n",
    "def transformDatapointsToScale(dataset, selectedFeatures):\n",
    "    df = dataset.copy()\n",
    "    for feature in selectedFeatures:\n",
    "        maximum = df[feature].max()\n",
    "        df[feature] = df[feature].apply(lambda x: x / maximum)\n",
    "    return df\n",
    "\n",
    "#MinMax Normalization Option\n",
    "def rescaling(X):\n",
    "    scaler = MinMaxScaler()\n",
    "    scaler.fit(X)\n",
    "    data = scaler.transform(X)\n",
    "    return data\n",
    "\n",
    "X = transformDatapointsToScale(employees_labelled[selectedFeatures].copy(), selectedFeatures) # Normalizing features by dividing by max\n",
    "y = employees_labelled[\"Label\"]  \n",
    "# Transform, scale, & adjust the data"
   ]
  },
  {
   "cell_type": "code",
   "execution_count": 18,
   "metadata": {},
   "outputs": [],
   "source": [
    "# Run this cell #\n",
    "# The all important splitting into train, test ... #\n",
    "X_train, X_test, y_train, y_test = train_test_split(X, y, random_state=50)\n",
    "# Run this cell #"
   ]
  },
  {
   "cell_type": "markdown",
   "metadata": {},
   "source": [
    "### Part 2: Running a model\n",
    "\n",
    "Ok now that you've been able to experiment with a model, and gained understanding of its architecture, its performance, its advantages and disadvantages. You and your team are now going to settle on a particular model to elect candidates for the next round of hires!\n",
    "\n",
    "We encourage you to stick with the logistic regression if that is all you're comfortable with. If your team is well-versed in different regression/classification algorithms you're free to use another model architecture that you're team wants to test.  \n",
    "\n",
    "Just know that you will have to answer a number of questions about its use and performance in the following sections.\n",
    "\n",
    "Some key considerations ...\n",
    "- How will my model interact with the decisions I've made about features. \n",
    "- Can our team explain why the model is coming to the predictions it is coming to?\n",
    "- What's the performance? (Task 3)\n",
    "- Are there any hyperparameters that you can test different values with for this model? If so, what are they and how might they affect your score."
   ]
  },
  {
   "cell_type": "code",
   "execution_count": 19,
   "metadata": {},
   "outputs": [],
   "source": [
    "# INSERT MODEL ARCHITECTURE # (1 Line)\n",
    "model = OneVsRestClassifier(LogisticRegression(random_state = 0, max_iter=500)) #Initialize the model\n",
    "# INSERT MODEL ARCHITECTURE #"
   ]
  },
  {
   "cell_type": "markdown",
   "metadata": {},
   "source": [
    "### Part 3: Running & Analyzing Initial Performance"
   ]
  },
  {
   "cell_type": "code",
   "execution_count": 20,
   "metadata": {},
   "outputs": [
    {
     "name": "stdout",
     "output_type": "stream",
     "text": [
      "{4: 1840, 3: 1245, 1: 1572, 0: 1763, 2: 1080}\n",
      "The accuracy of our model on the data is:  0.8192\n",
      "The precision of our model on the data is:  0.8187341167016943\n",
      "The recall of our model on the data is:  0.8232371035184303\n"
     ]
    }
   ],
   "source": [
    "# RUN THIS CELL (0 Lines) #\n",
    "logreg_model = model.fit(X_train, y_train) #Train the model\n",
    "getModelStats(logreg_model, X_train, y_train) #Get initial model performance\n",
    "# RUN THIS CELL #"
   ]
  },
  {
   "cell_type": "markdown",
   "metadata": {},
   "source": [
    "### Part 4: Analyzing Fairness of the Model\n",
    "Here we'd like you to apply some of the concepts and fairness notions we gave to you in the last milestone to make a determination of the model's equity in its predictions. No rigorous examination is required but you should try to calculate some of the metrics introduced among the different subgroups for your model...\n",
    "\n",
    "- We've given an example of what one simple approach might be below - examining the accuracy of the model on different subgroups.\n",
    "\n",
    "Key Considerations ...\n",
    "- Is there a potential differential validity problem present? (Hint: Check weights if utilizing regressions)\n",
    "- Is my model more susceptible to false positives or false negatives - how can I illustrate that?"
   ]
  },
  {
   "cell_type": "code",
   "execution_count": 21,
   "metadata": {},
   "outputs": [
    {
     "name": "stdout",
     "output_type": "stream",
     "text": [
      "Stats are for following class:  African-American\n",
      "{1: 2060, 0: 2348, 3: 1674, 2: 1479, 4: 2439}\n",
      "The accuracy of our model on the data is:  0.8214\n",
      "The precision of our model on the data is:  0.8214\n",
      "The recall of our model on the data is:  0.8247324658990973\n",
      "\n",
      "Stats are for following class:  Caucasian\n",
      "{1: 2060, 0: 2348, 3: 1674, 2: 1479, 4: 2439}\n",
      "The accuracy of our model on the data is:  0.8214\n",
      "The precision of our model on the data is:  0.8214\n",
      "The recall of our model on the data is:  0.8247324658990973\n",
      "\n",
      "Stats are for following class:  Hispanic\n",
      "{1: 2060, 0: 2348, 3: 1674, 2: 1479, 4: 2439}\n",
      "The accuracy of our model on the data is:  0.8214\n",
      "The precision of our model on the data is:  0.8214\n",
      "The recall of our model on the data is:  0.8247324658990973\n",
      "\n",
      "Stats are for following class:  Other\n",
      "{1: 2060, 0: 2348, 3: 1674, 2: 1479, 4: 2439}\n",
      "The accuracy of our model on the data is:  0.8214\n",
      "The precision of our model on the data is:  0.8214\n",
      "The recall of our model on the data is:  0.8247324658990973\n",
      "\n",
      "Stats are for following class:  Asian\n",
      "{1: 2060, 0: 2348, 3: 1674, 2: 1479, 4: 2439}\n",
      "The accuracy of our model on the data is:  0.8214\n",
      "The precision of our model on the data is:  0.8214\n",
      "The recall of our model on the data is:  0.8247324658990973\n",
      "\n",
      "{0: array([ -0.2801026 ,  -0.13082483, -21.13072702]), 1: array([-0.03066681,  0.31754888, -2.54514211]), 2: array([ 0.26157112, -0.08564763, -0.01240337]), 3: array([ 0.0104051 , -0.0450476 ,  2.46157108]), 4: array([ 0.0330794 , -0.08109856, 21.27499428])}\n"
     ]
    }
   ],
   "source": [
    "# INSERT Fairness Metrics # (3-10 Lines)\n",
    "\n",
    "# Checking the accuracy amongst distinct groups\n",
    "races = [\"African-American\", \"Caucasian\", \"Hispanic\", \"Other\", \"Asian\"]\n",
    "for race in races:\n",
    "    print(\"Stats are for following class: \", race)\n",
    "    x_class = transformDatapointsToScale(employees_labelled, selectedFeatures)\n",
    "    y_class = x_class[\"Label\"]\n",
    "    x_class = x_class[selectedFeatures].copy()\n",
    "    getModelStats(logreg_model, x_class, y_class)\n",
    "    print(\"\")\n",
    "    \n",
    "    \n",
    "# Examining the model weights in the model per class....\n",
    "coeff_values = list(logreg_model.coef_)\n",
    "features = list(logreg_model.classes_)\n",
    "assert(len(coeff_values) == len(features))\n",
    "featureToValues = {features[x] : coeff_values[x] for x in range(len(features))}\n",
    "print(featureToValues)\n",
    "    \n",
    "# INSERT # "
   ]
  },
  {
   "cell_type": "markdown",
   "metadata": {},
   "source": [
    "### Part 5: Deploying on Candidates!\n",
    "- Alright we've finally gotten to where your team can use the model you've built on the candidate dataset and see the results. Before we run it though, recall there's one last major step. Choosing a selection method. If you decided on a classification algorithm you may have decided that candidates assigned the best label are those selected for the next round. But that's not the only way to do things. Be as creative as you'd like to be!\n",
    "\n",
    "Key Considerations ...\n",
    "- What was the label generation method you chose, what labels are therefore most predictive of performance. \n",
    "- Is the selection method too narrow? Too general?"
   ]
  },
  {
   "cell_type": "code",
   "execution_count": 22,
   "metadata": {},
   "outputs": [],
   "source": [
    "# RUN THIS CELL (1-3 Lines) #\n",
    "X_candidates = transformDatapointsToScale(candidates_processed[selectedFeatures].copy(), selectedFeatures)\n",
    "candidate_labels = logreg_model.predict(X_candidates)\n",
    "# RUN THIS CELL #"
   ]
  },
  {
   "cell_type": "code",
   "execution_count": 23,
   "metadata": {},
   "outputs": [],
   "source": [
    "# INSERT Selection Method # (3-10 Lines)\n",
    "def classificationSelection(candidates, labels, acceptValue):\n",
    "    df = candidates.copy()\n",
    "    df[\"Labels\"] = labels\n",
    "    candidatesSelected = df[df[\"Labels\"].isin([acceptValue])]\n",
    "    return candidatesSelected\n",
    "\n",
    "candidatesSelected = classificationSelection(candidates_processed, candidate_labels, 4)"
   ]
  },
  {
   "cell_type": "markdown",
   "metadata": {},
   "source": [
    "Finally! Time to give it a shot on the dataset and we'll see how we do!"
   ]
  },
  {
   "cell_type": "code",
   "execution_count": 24,
   "metadata": {},
   "outputs": [
    {
     "name": "stdout",
     "output_type": "stream",
     "text": [
      "The selection rate for Caucasians:  0.2589090909090909\n",
      "The selection rate for Asians:  0.26666666666666666\n",
      "The selection rate for African-Americans:  0.24\n",
      "The selection rate for Hispanics:  0.22\n"
     ]
    },
    {
     "data": {
      "image/png": "[encoded data removed]",
      "text/plain": [
       "<Figure size 432x288 with 1 Axes>"
      ]
     },
     "metadata": {
      "needs_background": "light"
     },
     "output_type": "display_data"
    }
   ],
   "source": [
    "# Run This Cell (1-3 Lines) #\n",
    "graphSelectionRates(candidatesSelected, candidates_processed, \"race\")"
   ]
  },
  {
   "cell_type": "markdown",
   "metadata": {},
   "source": [
    "### Part 6: Iterate!\n",
    "\n",
    "So, you may be ecstatic or baffled with your results. Either way, the point now is to try and iteratively improve your approach so that your team is satisfied with the model's performance or thinks they can justify their decisions and the model's behavior. Now that you made your first way through, take the time to think about changing your data engineering process, model architecture, selection methods, etc. to try and improve results. Recall that \"improving\" can mean different things for different folks based on your priorities. For some that will mean enhancing the accuracy of the model on the employees. For others it will be rectifying the disparate outcomes on the candidate dataset. Some will need to narrow their selection rate overall, ohers will need to widen it. \n",
    "\n",
    "Your team may not arrive at an approach you are wholly satisfied with - that's totally alright! Sometimes these problems can seem or even be intractable. Nonetheless, along each of these tasks (1-5), unless you're perfectly happy with the results, you should try at least one to two changes per stage and see what effect it has. You'll need to discuss that experimentation in this final task.\n"
   ]
  },
  {
   "cell_type": "markdown",
   "metadata": {},
   "source": [
    "### Final Task: Memo Write-up\n",
    "\n",
    "Alright time to finally put your writing cap back on.  Now that you've come to an approach you're satisfied with (or settled on), the GC\"s office wants a ~2 page write-up of your approach, its advantages, disadvantages, threats of statutory liability, and defenses you should lay out the memo in the following manner.\n",
    "\n",
    "Memo Outline & Additional Questions....\n",
    "\n",
    "Outline Guide to the Memo\n",
    "\n",
    "- Describe your team's model - the chosen model architecture, selected features, and data engineering steps you took.\n",
    "    - What are some advantages or benefical \"features\" of your overall approach? Both technical and legal.\n",
    "    - What are some disadvantages or risks with your approach? Both technical and legal. \n",
    "- Data Handling\n",
    "    - Starting with Data Engineering, describe how your team decided on the features, performance measure, and label generation method that you ended up with.\n",
    "    - How did you go about making your decisions? What legal considerations were factored into your decision-making process?\n",
    "- Model Choice\n",
    "    - If your team chose a model different from logistic regression, why did your team choose that model? If you sticked with logistic regression, did you consider other model approaches? Why did you ultimately stick with the model?\n",
    "    - What were the main decision factors (performance? explainability?)? \n",
    "    - Were there hyper-parameters that you tweaked? If so, what did you change?\n",
    "- Performance - State the model's performance on the test set\n",
    "    - Accuracy, precision, recall of your latest iteration?\n",
    "    - Also the model's fairness rates (using the metrics you decided to use).\n",
    "    - Did you encounter a differential validity problem in your iterations? If so, what was the problem?\n",
    "    - What were your measures on your team's first iteration? How did you go about trying to improve it to what it is now?\n",
    "- For candidate selection\n",
    "    - How were candidates ultimately selected? How did you choose this selection method?\n",
    "    - Was there a disparate impact? If so, discuss the validity of a business necessity-type defense given your approach.\n",
    "- Race Aware Corrections -\n",
    "    - In your attempt to improve the model performance or rectify some bias/differential validity problem did you enlist any \"Race-Aware\" Corrections? If so, explain the race-aware correction you employed.\n",
    "    - Are those corrections lawful under the Ricci v. Weber case and the covered case law we reviewed on Affirmative Action Programs?\n",
    "    - If you did not employ any corrections, explain why. Does your model thereby run a higher risk to a disparate impact claim?\n",
    "\n",
    "**Additional Hypothetical Questions:**\n",
    "1. Suppose manager's assessment score and the average commute time were heavily biased against minorities leaving only average deals closed, left. But suppose again that average deals closed was a highly noisy feature. A number of the recorded values were inaccurate, or altogether missing for the employees. How would you address the situation?\n",
    "2. In this case, the Supreme Court rejected a “bottom line” defense in which a defendant tried to justify a preliminary screening test with a significant disparate impact by arguing that the selection process ultimately selected protected candidates at a higher rate. Look deeper into the holding and report how your team believes this effects lawyers and engineers trying to develop automated hiring systems.\n",
    "3. Suppose your model was built such that given the current employee dataset, there was not a clear 4/5s violation in the candidate selection rates but there still existed a ~15 percent disparity between a minority group and the highest performing group.  One suggestion is to seek to gather more data on past employees to have the model train on and improve from, but this can be a costly process both in dollars and time.  How would your team go about trying to decide on a course of action? What context is key?"
   ]
  },
  {
   "cell_type": "code",
   "execution_count": null,
   "metadata": {},
   "outputs": [],
   "source": []
  },
  {
   "cell_type": "code",
   "execution_count": null,
   "metadata": {},
   "outputs": [],
   "source": []
  }
 ],
 "metadata": {
  "kernelspec": {
   "display_name": "Python 3",
   "language": "python",
   "name": "python3"
  },
  "language_info": {
   "codemirror_mode": {
    "name": "ipython",
    "version": 3
   },
   "file_extension": ".py",
   "mimetype": "text/x-python",
   "name": "python",
   "nbconvert_exporter": "python",
   "pygments_lexer": "ipython3",
   "version": "3.7.7"
  }
 },
 "nbformat": 4,
 "nbformat_minor": 4
}
