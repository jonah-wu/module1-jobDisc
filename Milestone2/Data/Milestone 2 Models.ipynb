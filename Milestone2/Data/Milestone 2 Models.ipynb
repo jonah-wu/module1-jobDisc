{
 "cells": [
  {
   "cell_type": "markdown",
   "metadata": {},
   "source": [
    "# Milestone 2\n",
    "Familiarizing ourselves with the dataset.\n"
   ]
  },
  {
   "cell_type": "code",
   "execution_count": 1,
   "metadata": {},
   "outputs": [
    {
     "ename": "ModuleNotFoundError",
     "evalue": "No module named 'randomDataset'",
     "output_type": "error",
     "traceback": [
      "\u001b[0;31m---------------------------------------------------------------------------\u001b[0m",
      "\u001b[0;31mModuleNotFoundError\u001b[0m                       Traceback (most recent call last)",
      "\u001b[0;32m<ipython-input-1-60eb7f7bed25>\u001b[0m in \u001b[0;36m<module>\u001b[0;34m\u001b[0m\n\u001b[1;32m      3\u001b[0m \u001b[0;32mimport\u001b[0m \u001b[0mnumpy\u001b[0m \u001b[0;32mas\u001b[0m \u001b[0mnp\u001b[0m\u001b[0;34m\u001b[0m\u001b[0;34m\u001b[0m\u001b[0m\n\u001b[1;32m      4\u001b[0m \u001b[0;32mimport\u001b[0m \u001b[0mmatplotlib\u001b[0m\u001b[0;34m.\u001b[0m\u001b[0mpyplot\u001b[0m \u001b[0;32mas\u001b[0m \u001b[0mplt\u001b[0m\u001b[0;34m;\u001b[0m \u001b[0mplt\u001b[0m\u001b[0;34m.\u001b[0m\u001b[0mrcdefaults\u001b[0m\u001b[0;34m(\u001b[0m\u001b[0;34m)\u001b[0m\u001b[0;34m\u001b[0m\u001b[0;34m\u001b[0m\u001b[0m\n\u001b[0;32m----> 5\u001b[0;31m \u001b[0;32mimport\u001b[0m \u001b[0mrandomDataset\u001b[0m\u001b[0;34m\u001b[0m\u001b[0;34m\u001b[0m\u001b[0m\n\u001b[0m\u001b[1;32m      6\u001b[0m \u001b[0;32mimport\u001b[0m \u001b[0mnumpy\u001b[0m \u001b[0;32mas\u001b[0m \u001b[0mnp\u001b[0m\u001b[0;34m\u001b[0m\u001b[0;34m\u001b[0m\u001b[0m\n\u001b[1;32m      7\u001b[0m \u001b[0;32mimport\u001b[0m \u001b[0mpandas\u001b[0m \u001b[0;32mas\u001b[0m \u001b[0mpd\u001b[0m\u001b[0;34m\u001b[0m\u001b[0;34m\u001b[0m\u001b[0m\n",
      "\u001b[0;31mModuleNotFoundError\u001b[0m: No module named 'randomDataset'"
     ]
    }
   ],
   "source": [
    "import nbimporter\n",
    "import pandas as pd \n",
    "import numpy as np\n",
    "import matplotlib.pyplot as plt; plt.rcdefaults()\n",
    "import randomDataset\n",
    "import numpy as np\n",
    "import pandas as pd\n",
    "\n",
    "from scipy.linalg import eigh, cholesky\n",
    "from scipy.stats import norm\n",
    "from pylab import plot, show, axis, subplot, xlabel, ylabel, grid\n",
    "\n",
    "\n",
    "import matplotlib.pyplot as plt\n",
    "%matplotlib inline"
   ]
  },
  {
   "cell_type": "code",
   "execution_count": 3,
   "metadata": {},
   "outputs": [
    {
     "name": "stdout",
     "output_type": "stream",
     "text": [
      "Loading the dataset .... this might take a few seconds!\n"
     ]
    }
   ],
   "source": [
    "# Fixing the dataset \n",
    "raceIndxs = {\"Caucasian\": 0, \"African-American\": 1, \"Asian\": 2, \"Hispanic\": 3, \"Other\": 4 }\n",
    "sexIndxs = {\"Male\":0, \"Female\":1}\n",
    "#### One-hotting the Dataset to handle non-numeric values ####\n",
    "numPpl = 10000\n",
    "# Generating the Covariance Matrix\n",
    "features = [\"Names\", \"GPA\", \"Avg Commute Time\", \"Cultural Fit\", \"Technical Aptitude\", \n",
    "           \"Soft Skills\", \"Employee Referral\", \"Years of Experience\", \"Leadership Capability\", \n",
    "           \"Race\", \"Sex\", \"Age\", \"Birth Origin\", \"Education\", \n",
    "           \"Undergraduate Degree\", \"Educational Prestige\", \"Sports\", \"Criminal Record\",\n",
    "           \"Arrest Records\", \"LinkedIn Score\", \"Responsible Social Media Use\", \"HireVue Score\"]\n",
    "\n",
    "dataset = randomDataset.loadDataset(numPpl, features)\n",
    "dataset_onehot = dataset.copy()\n",
    "dataset_onehot = pd.get_dummies(dataset_onehot, columns=['Birth Origin', 'Sports'], prefix=['origin', 'sport'])"
   ]
  },
  {
   "cell_type": "code",
   "execution_count": 4,
   "metadata": {},
   "outputs": [
    {
     "name": "stdout",
     "output_type": "stream",
     "text": [
      "<class 'pandas.core.frame.DataFrame'>\n",
      "RangeIndex: 10000 entries, 0 to 9999\n",
      "Data columns (total 29 columns):\n",
      " #   Column                        Non-Null Count  Dtype  \n",
      "---  ------                        --------------  -----  \n",
      " 0   Names                         10000 non-null  object \n",
      " 1   GPA                           10000 non-null  float64\n",
      " 2   Avg Commute Time              10000 non-null  float64\n",
      " 3   Cultural Fit                  10000 non-null  int64  \n",
      " 4   Technical Aptitude            10000 non-null  int64  \n",
      " 5   Soft Skills                   10000 non-null  float64\n",
      " 6   Employee Referral             10000 non-null  float64\n",
      " 7   Years of Experience           10000 non-null  float64\n",
      " 8   Leadership Capability         10000 non-null  float64\n",
      " 9   Race                          10000 non-null  int64  \n",
      " 10  Sex                           10000 non-null  int64  \n",
      " 11  Age                           10000 non-null  float64\n",
      " 12  Education                     10000 non-null  int64  \n",
      " 13  Undergraduate Degree          10000 non-null  object \n",
      " 14  Educational Prestige          10000 non-null  int64  \n",
      " 15  Criminal Record               10000 non-null  float64\n",
      " 16  Arrest Records                10000 non-null  float64\n",
      " 17  LinkedIn Score                10000 non-null  int64  \n",
      " 18  Responsible Social Media Use  10000 non-null  float64\n",
      " 19  HireVue Score                 10000 non-null  int64  \n",
      " 20  origin_Australia              10000 non-null  uint8  \n",
      " 21  origin_Canada                 10000 non-null  uint8  \n",
      " 22  origin_China                  10000 non-null  uint8  \n",
      " 23  origin_India                  10000 non-null  uint8  \n",
      " 24  origin_Mexico                 10000 non-null  uint8  \n",
      " 25  origin_United States          10000 non-null  uint8  \n",
      " 26  sport_Club/Intramural         10000 non-null  uint8  \n",
      " 27  sport_NCAA/Professional       10000 non-null  uint8  \n",
      " 28  sport_None                    10000 non-null  uint8  \n",
      "dtypes: float64(10), int64(8), object(2), uint8(9)\n",
      "memory usage: 1.6+ MB\n"
     ]
    }
   ],
   "source": [
    "dataset_onehot\n",
    "dataset_onehot.info()"
   ]
  },
  {
   "cell_type": "code",
   "execution_count": 5,
   "metadata": {},
   "outputs": [],
   "source": [
    "# Generating the Covariance Matrix\n",
    "employeeData = pd.read_csv(\"employeeData.csv\")"
   ]
  },
  {
   "cell_type": "code",
   "execution_count": 6,
   "metadata": {},
   "outputs": [],
   "source": [
    "# To Correlate w/ Job Performance\n",
    "dataset_onehot[\"Job Performance\"] = employeeData[\"Job Performance\"]\n",
    "dataset_onehot[\"GPA\"] = employeeData[\"GPA\"]\n",
    "dataset_onehot[\"Technical Aptitude\"] = employeeData[\"Technical Aptitude\"]\n",
    "dataset_onehot[\"Leadership Capability\"] = employeeData[\"Leadership Capability\"]  \n",
    "dataset_onehot[\"Soft Skills\"] = employeeData[\"Soft Skills\"]\n",
    "dataset_onehot[\"Years of Experience\"] = employeeData[\"Years of Experience\"]\n",
    "\n",
    "# To Correlate w/ Job Tenure \n",
    "dataset_onehot[\"Job Tenure\"] = employeeData[\"Job Tenure\"]\n",
    "dataset_onehot[\"Military Tenure\"] = employeeData[\"Military Tenure\"]\n",
    "dataset_onehot[\"Avg Commute Time\"] = employeeData[\"Avg Commute Time\"]\n",
    "\n",
    "# Manually done correlated w/ job performance\n",
    "dataset_onehot[\"Employee Referral\"] = employeeData[\"Employee Referrals\"]\n",
    "dataset_onehot[\"Cultural Fit\"] = employeeData[\"Cultural Fit\"]\n",
    "dataset_onehot[\"Education\"] = employeeData[\"Education\"]\n",
    "dataset_onehot[\"Educational Prestige\"] = employeeData[\"Educational Prestige\"]\n",
    "\n",
    "dataset_onehot[\"HireVue Score\"] = employeeData[\"HireVue Score\"]\n",
    "dataset_onehot[\"Undergraduate Degree\"] = employeeData[\"Degree\"]\n",
    "dataset_onehot[\"LinkedIn Score\"] = employeeData[\"LinkedIn Score\"]\n",
    "dataset_onehot[\"Responsible Social Media Use\"] = employeeData[\"Responsible Social Media Use\"]\n",
    "dataset_onehot[\"Criminal Record\"] = employeeData[\"Criminal Record\"]\n",
    "dataset_onehot[\"Arrest Record\"]= employeeData[\"Arrest Record\"]\n",
    "\n",
    "\n",
    "# How to correlate military Tenure w/ job performance...\n",
    "# We give those with high military tenure higher job performance among blacks\n",
    "# Correlate these features with other features\n",
    "\n",
    "# Females\n",
    "dataset_onehot[\"Sex\"] = employeeData[\"Gender\"]\n",
    "dataset_onehot[\"Name\"] = employeeData[\"Names\"]\n",
    "dataset_onehot[\"Race\"] = employeeData[\"Race\"]\n",
    "# Age\n",
    "\n",
    "# National Origin\n",
    "\n",
    "# Race..."
   ]
  },
  {
   "cell_type": "code",
   "execution_count": 7,
   "metadata": {},
   "outputs": [
    {
     "name": "stdout",
     "output_type": "stream",
     "text": [
      "{0: 'Caucasian', 1: 'African-American', 2: 'Asian', 3: 'Hispanic', 4: 'Other'}\n"
     ]
    }
   ],
   "source": [
    "# Preprocess everything\n",
    "### We also need to translate the Races back to their values then one-hot ###\n",
    "indxToRaces = {value: key for key, value in raceIndxs.items()}\n",
    "print(indxToRaces)\n",
    "dataset_onehot = dataset_onehot.replace({\"Race\": indxToRaces})\n",
    "race_col = dataset_onehot[\"Race\"]\n",
    "dataset_onehot = pd.get_dummies(dataset_onehot, columns = ['Race'], prefix=['race'])\n",
    "dataset_onehot[\"Race\"] = race_col\n",
    "\n",
    "full_dataset = dataset_onehot.copy()\n",
    "columnsTo1Hot = ['HireVue Score', 'Employee Referral', 'Cultural Fit', \"Education\", \"Educational Prestige\",\n",
    "                \"Undergraduate Degree\", \"LinkedIn Score\", \"Responsible Social Media Use\", \"Criminal Record\", \"Arrest Record\"]\n",
    "prefixes = [\"hirevue\", \"referral\", \"culturalfit\", \"education\", \"prestige\",\"degree\", \"linkedin\", \"socmedia\", \"criminal\", \"arrest\"]\n",
    "full_dataset = pd.get_dummies(full_dataset, columns=columnsTo1Hot, prefix=prefixes)"
   ]
  },
  {
   "cell_type": "code",
   "execution_count": 2,
   "metadata": {},
   "outputs": [],
   "source": [
    "from sklearn.linear_model import LogisticRegression\n",
    "from sklearn.model_selection import train_test_split\n",
    "from sklearn.multiclass import OneVsRestClassifier\n",
    "from sklearn.neighbors import KNeighborsClassifier\n",
    "from sklearn.preprocessing import MinMaxScaler"
   ]
  },
  {
   "cell_type": "code",
   "execution_count": 8,
   "metadata": {},
   "outputs": [
    {
     "name": "stdout",
     "output_type": "stream",
     "text": [
      "-2    2736\n",
      " 2    2625\n",
      " 0    2428\n",
      " 1    1144\n",
      "-1    1067\n",
      "Name: Job Performance, dtype: int64\n",
      "<class 'pandas.core.frame.DataFrame'>\n",
      "RangeIndex: 10000 entries, 0 to 9999\n",
      "Data columns (total 58 columns):\n",
      " #   Column                   Non-Null Count  Dtype  \n",
      "---  ------                   --------------  -----  \n",
      " 0   Names                    10000 non-null  object \n",
      " 1   GPA                      10000 non-null  float64\n",
      " 2   Avg Commute Time         10000 non-null  float64\n",
      " 3   Technical Aptitude       10000 non-null  float64\n",
      " 4   Soft Skills              10000 non-null  float64\n",
      " 5   Years of Experience      10000 non-null  float64\n",
      " 6   Leadership Capability    10000 non-null  float64\n",
      " 7   Sex                      10000 non-null  float64\n",
      " 8   Age                      10000 non-null  float64\n",
      " 9   Arrest Records           10000 non-null  float64\n",
      " 10  origin_Australia         10000 non-null  uint8  \n",
      " 11  origin_Canada            10000 non-null  uint8  \n",
      " 12  origin_China             10000 non-null  uint8  \n",
      " 13  origin_India             10000 non-null  uint8  \n",
      " 14  origin_Mexico            10000 non-null  uint8  \n",
      " 15  origin_United States     10000 non-null  uint8  \n",
      " 16  sport_Club/Intramural    10000 non-null  uint8  \n",
      " 17  sport_NCAA/Professional  10000 non-null  uint8  \n",
      " 18  sport_None               10000 non-null  uint8  \n",
      " 19  Job Performance          10000 non-null  int64  \n",
      " 20  Job Tenure               10000 non-null  float64\n",
      " 21  Military Tenure          10000 non-null  float64\n",
      " 22  Name                     10000 non-null  object \n",
      " 23  race_African-American    10000 non-null  uint8  \n",
      " 24  race_Asian               10000 non-null  uint8  \n",
      " 25  race_Caucasian           10000 non-null  uint8  \n",
      " 26  race_Hispanic            10000 non-null  uint8  \n",
      " 27  race_Other               10000 non-null  uint8  \n",
      " 28  Race                     10000 non-null  object \n",
      " 29  hirevue_0.0              10000 non-null  uint8  \n",
      " 30  hirevue_1.0              10000 non-null  uint8  \n",
      " 31  hirevue_2.0              10000 non-null  uint8  \n",
      " 32  referral_0.0             10000 non-null  uint8  \n",
      " 33  referral_1.0             10000 non-null  uint8  \n",
      " 34  culturalfit_0.0          10000 non-null  uint8  \n",
      " 35  culturalfit_1.0          10000 non-null  uint8  \n",
      " 36  culturalfit_2.0          10000 non-null  uint8  \n",
      " 37  education_0.0            10000 non-null  uint8  \n",
      " 38  education_1.0            10000 non-null  uint8  \n",
      " 39  education_2.0            10000 non-null  uint8  \n",
      " 40  prestige_0.0             10000 non-null  uint8  \n",
      " 41  prestige_1.0             10000 non-null  uint8  \n",
      " 42  prestige_2.0             10000 non-null  uint8  \n",
      " 43  prestige_3.0             10000 non-null  uint8  \n",
      " 44  degree_Engineering       10000 non-null  uint8  \n",
      " 45  degree_Humanities        10000 non-null  uint8  \n",
      " 46  degree_None              10000 non-null  uint8  \n",
      " 47  degree_Quantitative      10000 non-null  uint8  \n",
      " 48  degree_Sciences          10000 non-null  uint8  \n",
      " 49  linkedin_None            10000 non-null  uint8  \n",
      " 50  linkedin_Ok              10000 non-null  uint8  \n",
      " 51  linkedin_Very Good       10000 non-null  uint8  \n",
      " 52  socmedia_Bad             10000 non-null  uint8  \n",
      " 53  socmedia_Good            10000 non-null  uint8  \n",
      " 54  criminal_0.0             10000 non-null  uint8  \n",
      " 55  criminal_1.0             10000 non-null  uint8  \n",
      " 56  arrest_0.0               10000 non-null  uint8  \n",
      " 57  arrest_1.0               10000 non-null  uint8  \n",
      "dtypes: float64(11), int64(1), object(3), uint8(43)\n",
      "memory usage: 1.6+ MB\n"
     ]
    }
   ],
   "source": [
    "target_count = full_dataset['Job Performance'].value_counts(dropna = False)\n",
    "print(target_count)\n",
    "full_dataset.info()\n",
    "full_dataset.to_csv(\"employeeData_big.csv\")"
   ]
  },
  {
   "cell_type": "code",
   "execution_count": 3,
   "metadata": {},
   "outputs": [],
   "source": [
    "full_dataset = pd.read_csv(\"employeeData_big.csv\")\n",
    "\n",
    "\n",
    "y = full_dataset[\"Job Performance\"]\n",
    "X = full_dataset.drop([\"Job Performance\"], axis=1)\n",
    "X_train, X_test, y_train, y_test = train_test_split(X, y, random_state=50)\n",
    "\n",
    "selectedFeatures = [\n",
    "                    \"culturalfit_0.0\", \"culturalfit_1.0\", \"culturalfit_2.0\",\n",
    "                    \"referral_0.0\", \"referral_1.0\",\n",
    "                    \"education_0.0\", \"education_1.0\", \"education_2.0\",\n",
    "                    \"prestige_0.0\", \"prestige_1.0\", \"prestige_2.0\",\n",
    "                    \"linkedin_None\", \"linkedin_Ok\", \"linkedin_Very Good\",\n",
    "                    \"socmedia_Bad\", \"socmedia_Good\", \"criminal_0.0\", \"criminal_1.0\",\n",
    "                    \"arrest_0.0\", \"arrest_1.0\",\n",
    "                    \"GPA\", \"Technical Aptitude\", \"Soft Skills\", \"Leadership Capability\",\n",
    "                    ]\n",
    "X_train_selectedFeatures = X_train[selectedFeatures].copy()\n",
    "X_test_selectedFeatures = X_test[selectedFeatures].copy()"
   ]
  },
  {
   "cell_type": "code",
   "execution_count": 4,
   "metadata": {},
   "outputs": [
    {
     "name": "stderr",
     "output_type": "stream",
     "text": [
      "/Users/jonahwu/miniconda3/envs/cs231n/lib/python3.7/site-packages/sklearn/linear_model/_logistic.py:940: ConvergenceWarning: lbfgs failed to converge (status=1):\n",
      "STOP: TOTAL NO. of ITERATIONS REACHED LIMIT.\n",
      "\n",
      "Increase the number of iterations (max_iter) or scale the data as shown in:\n",
      "    https://scikit-learn.org/stable/modules/preprocessing.html\n",
      "Please also refer to the documentation for alternative solver options:\n",
      "    https://scikit-learn.org/stable/modules/linear_model.html#logistic-regression\n",
      "  extra_warning_msg=_LOGISTIC_SOLVER_CONVERGENCE_MSG)\n",
      "/Users/jonahwu/miniconda3/envs/cs231n/lib/python3.7/site-packages/sklearn/linear_model/_logistic.py:940: ConvergenceWarning: lbfgs failed to converge (status=1):\n",
      "STOP: TOTAL NO. of ITERATIONS REACHED LIMIT.\n",
      "\n",
      "Increase the number of iterations (max_iter) or scale the data as shown in:\n",
      "    https://scikit-learn.org/stable/modules/preprocessing.html\n",
      "Please also refer to the documentation for alternative solver options:\n",
      "    https://scikit-learn.org/stable/modules/linear_model.html#logistic-regression\n",
      "  extra_warning_msg=_LOGISTIC_SOLVER_CONVERGENCE_MSG)\n"
     ]
    }
   ],
   "source": [
    "clf = OneVsRestClassifier(LogisticRegression(random_state = 0)).fit(X_train_selectedFeatures, y_train)"
   ]
  },
  {
   "cell_type": "code",
   "execution_count": 5,
   "metadata": {},
   "outputs": [
    {
     "name": "stdout",
     "output_type": "stream",
     "text": [
      "0.7817333333333333\n",
      "[-2 -1  0  1  2]\n",
      "[[ 2.54676396e-01 -1.13369051e-01 -1.41115648e-01  9.35166988e-02\n",
      "  -9.33250010e-02  4.15399337e-01 -1.76335032e-01 -2.38872606e-01\n",
      "   1.35343804e-01  5.97935549e-01 -1.17320914e-01  1.73248875e-01\n",
      "   1.24867575e-01 -2.97924752e-01  1.36272867e-01 -1.36081169e-01\n",
      "  -1.27920195e+00  1.27939365e+00 -1.27077847e+00  1.27097016e+00\n",
      "   2.58513003e-01  5.15085775e-01 -8.27512586e+00 -5.39637004e+00]\n",
      " [ 2.35821699e-01  4.22002185e-01 -6.56235121e-01  2.63693947e-01\n",
      "  -2.62105184e-01  3.84460175e-01  1.34372703e-01 -5.17244115e-01\n",
      "  -1.88336310e-01 -2.06262428e-01  4.36410434e-02  5.03170174e-01\n",
      "   8.34225113e-02 -5.85003922e-01  3.65086778e-01 -3.63498015e-01\n",
      "   1.13133756e+00 -1.12974880e+00  8.32710622e-01 -8.31121859e-01\n",
      "   1.84665255e-02  7.08785860e-03 -4.42360501e-01 -2.52229749e-01]\n",
      " [ 7.50543807e-01  5.02583365e-01 -1.25495370e+00  6.39324251e-01\n",
      "  -6.41150777e-01 -2.07797340e-01  7.28575773e-02  1.33113237e-01\n",
      "   7.89032177e-02 -9.23181169e-02  2.95331998e-02 -3.74502236e-01\n",
      "   1.64842909e-01  2.07832801e-01 -3.24094873e-01  3.22268348e-01\n",
      "   8.66049638e-01 -8.67876164e-01  4.95362470e-01 -4.97188996e-01\n",
      "   8.41599495e-02  4.93443051e-02  3.78886778e-03  8.61950352e-02]\n",
      " [ 1.22694464e+00  7.79568562e-01 -2.00523366e+00  1.22290376e+00\n",
      "  -1.22162421e+00 -3.37779684e-01 -8.93260960e-05  3.39148554e-01\n",
      "   1.01435451e-01  2.19251803e-01  1.29011193e-01  5.47667113e-02\n",
      "   1.03065322e-01 -1.56552489e-01 -3.75596778e-02  3.88392221e-02\n",
      "   1.99235306e-01 -1.97955762e-01  1.22582857e-01 -1.21303313e-01\n",
      "  -1.49824618e-01 -1.26845067e-01  1.51927609e+00  8.03245493e-01]\n",
      " [-1.55189332e+00 -5.14603188e-01  2.06726494e+00 -1.39042916e+00\n",
      "   1.39119759e+00 -2.47644036e-01 -7.55685996e-03  2.55969327e-01\n",
      "   6.00817433e-01 -1.48774384e-02  6.62696942e-02 -5.30410616e-01\n",
      "  -2.23818358e-01  7.54997405e-01 -5.44878988e-01  5.45647419e-01\n",
      "   9.38083039e-02 -9.30398733e-02  8.96740546e-02 -8.89056240e-02\n",
      "  -2.02916920e-01 -5.86853074e-01  7.57667865e+00  4.86812711e+00]]\n"
     ]
    }
   ],
   "source": [
    "print(clf.score(X_train_selectedFeatures, y_train))\n",
    "# print(clf.score(X_test, y_test))\n",
    "print(clf.classes_)\n",
    "print(clf.coef_)"
   ]
  },
  {
   "cell_type": "code",
   "execution_count": 6,
   "metadata": {
    "scrolled": false
   },
   "outputs": [
    {
     "name": "stdout",
     "output_type": "stream",
     "text": [
      "7500\n",
      "7500\n"
     ]
    }
   ],
   "source": [
    "# Going to attach predictions to a copy of the original dataset for analysis\n",
    "final_data = X_train.copy()\n",
    "ytrain_predicted = clf.predict(X_train_selectedFeatures)\n",
    "# print(X_train)\n",
    "\n",
    "indxs = list(final_data.index)\n",
    "print(len(indxs))\n",
    "print(len(ytrain_predicted))\n",
    "\n",
    "labels = [int(x) for x in ytrain_predicted]\n",
    "final_data[\"Performance\"] = labels\n",
    "# print(final_data)\n",
    "# final_data.to_csv(\"modeldata_results.csv\")"
   ]
  },
  {
   "cell_type": "code",
   "execution_count": 13,
   "metadata": {},
   "outputs": [
    {
     "name": "stdout",
     "output_type": "stream",
     "text": [
      "Caucasian           912\n",
      "African-American    527\n",
      "Asian               392\n",
      "Hispanic            155\n",
      "Other                98\n",
      "Name: Race, dtype: int64\n",
      "392\n",
      "1209\n",
      "The selection rate for Caucasians:  0.3173277661795407\n",
      "The selection rate for Asians:  0.3242349048800662\n",
      "The selection rate for African-Americans:  0.2366412213740458\n",
      "The selection rate for Hispanics:  0.21262002743484226\n"
     ]
    },
    {
     "data": {
      "image/png": "[encoded data removed]",
      "text/plain": [
       "<Figure size 432x288 with 1 Axes>"
      ]
     },
     "metadata": {
      "needs_background": "light"
     },
     "output_type": "display_data"
    },
    {
     "name": "stdout",
     "output_type": "stream",
     "text": [
      "The selection rate for Males:  0.45085910652920963\n",
      "The selection rate for Females:  0.03700159489633174\n"
     ]
    },
    {
     "data": {
      "image/png": "[encoded data removed]",
      "text/plain": [
       "<Figure size 432x288 with 1 Axes>"
      ]
     },
     "metadata": {
      "needs_background": "light"
     },
     "output_type": "display_data"
    }
   ],
   "source": [
    "def graphSelectionRates(protectedType, data):\n",
    "    raceIndxs = {\"Caucasian\": 0, \"African-American\": 1, \"Asian\": 2, \"Hispanic\": 3, \"Other\": 4 }\n",
    "    sexIndxs = {\"Male\":0, \"Female\":1}\n",
    "    if protectedType == \"Race\":\n",
    "        selected = data[data[\"Performance\"].isin([2])]\n",
    "#         print(len(selected))\n",
    "        numCandidates = data[\"Race\"].value_counts()\n",
    "        numQualified = selected[\"Race\"].value_counts()\n",
    "        print(numQualified)\n",
    "\n",
    "        selectionRate1 = numQualified[raceIndxs[\"Caucasian\"]] / numCandidates[raceIndxs[\"Caucasian\"]]\n",
    "\n",
    "        selectionRate2 = numQualified[raceIndxs[\"Asian\"]] / numCandidates[raceIndxs[\"Asian\"]]\n",
    "        selectionRate3 = numQualified[raceIndxs[\"African-American\"]] / numCandidates[raceIndxs[\"African-American\"]]\n",
    "        selectionRate4 = numQualified[raceIndxs[\"Hispanic\"]] / numCandidates[raceIndxs[\"Hispanic\"]]\n",
    "        print(\"The selection rate for \" + \"Caucasian\" + \"s: \",selectionRate1)\n",
    "        print(\"The selection rate for \" + \"Asian\" + \"s: \", selectionRate2)\n",
    "        print(\"The selection rate for \" + \"African-American\" + \"s: \",selectionRate3)\n",
    "        print(\"The selection rate for \" + \"Hispanic\" + \"s: \",selectionRate4)\n",
    "        y_pos = np.arange(4)\n",
    "        performance = [selectionRate1, selectionRate2, selectionRate3, selectionRate4]\n",
    "        plt.bar(y_pos, performance, align='center', alpha=0.5)\n",
    "        plt.xticks(y_pos, (\"Caucasian\", \"Asian\", \"African-American\", \"Hispanic\"))\n",
    "        plt.ylabel('Selection Rate')\n",
    "        plt.title('Selection Rate Comparisons by Race')\n",
    "        plt.show()\n",
    "    elif protectedType == \"Sex\":\n",
    "        selected = data[data[\"Performance\"].isin([2])]\n",
    "#         print(len(selected))\n",
    "        numCandidates = data[\"Sex\"].value_counts()\n",
    "        numQualified = selected[\"Sex\"].value_counts()\n",
    "        \n",
    "        maleSelectionRate = numQualified[sexIndxs[\"Male\"]] / numCandidates[sexIndxs[\"Male\"]]\n",
    "        femaleSelectionRate = numQualified[sexIndxs[\"Female\"]] / numCandidates[sexIndxs[\"Female\"]]\n",
    "        print(\"The selection rate for \" + \"Male\" + \"s: \",maleSelectionRate)\n",
    "        print(\"The selection rate for \" + \"Female\" + \"s: \",femaleSelectionRate)\n",
    "        y_pos = np.arange(2)\n",
    "        performance = [maleSelectionRate, femaleSelectionRate]\n",
    "        plt.bar(y_pos, performance, align='center', alpha=0.5)\n",
    "        plt.xticks(y_pos, (\"Male\", \"Female\"))\n",
    "        plt.ylabel('Selection Rate')\n",
    "        plt.title('Selection Rate Comparisons by Sex')\n",
    "        plt.show()\n",
    "    else:\n",
    "        print(\"Try another protected type - Sex or Race\")\n",
    "\n",
    "        \n",
    "graphSelectionRates(\"Race\", final_data)\n",
    "graphSelectionRates(\"Sex\", final_data)\n"
   ]
  },
  {
   "cell_type": "markdown",
   "metadata": {},
   "source": [
    "# Another Approach - k Nearest Neighbors:\n",
    "Lets introduce one more model...\n",
    "Wherein the last exercise we just looked at the nearest neighbors, we now evaluate the candidates by looking at the k closest different neighbors who all vote on what the candidate is!"
   ]
  },
  {
   "cell_type": "code",
   "execution_count": null,
   "metadata": {},
   "outputs": [],
   "source": []
  },
  {
   "cell_type": "code",
   "execution_count": 14,
   "metadata": {},
   "outputs": [
    {
     "name": "stdout",
     "output_type": "stream",
     "text": [
      "[[1.         0.         0.         ... 0.84404349 0.73260235 0.6101635 ]\n",
      " [1.         0.         0.         ... 0.22931629 0.20049447 0.17903986]\n",
      " [0.         0.         1.         ... 0.29457808 0.63753811 0.40230012]\n",
      " ...\n",
      " [1.         0.         0.         ... 0.40899472 0.52695063 0.46011545]\n",
      " [1.         0.         0.         ... 0.41695412 0.49834202 0.5173566 ]\n",
      " [0.         1.         0.         ... 0.32880873 0.31720392 0.43840963]]\n"
     ]
    },
    {
     "data": {
      "text/plain": [
       "0.8089333333333333"
      ]
     },
     "execution_count": 14,
     "metadata": {},
     "output_type": "execute_result"
    }
   ],
   "source": [
    "y = full_dataset[\"Job Performance\"]\n",
    "X = full_dataset.drop([\"Job Performance\"], axis=1)\n",
    "X_train, X_test, y_train, y_test = train_test_split(X, y, random_state=50)\n",
    "\n",
    "\n",
    "selectedFeatures = [\n",
    "                    \"culturalfit_0.0\", \"culturalfit_1.0\", \"culturalfit_2.0\",\n",
    "                    \"referral_0.0\", \"referral_1.0\",\n",
    "                    \"education_0.0\", \"education_1.0\", \"education_2.0\",\n",
    "                    \"prestige_0.0\", \"prestige_1.0\", \"prestige_2.0\",\n",
    "                    \"linkedin_None\", \"linkedin_Ok\", \"linkedin_Very Good\",\n",
    "                    \"socmedia_Bad\", \"socmedia_Good\", \"criminal_0.0\", \"criminal_1.0\",\n",
    "                    \"arrest_0.0\", \"arrest_1.0\",\n",
    "                    \"GPA\", \"Technical Aptitude\", \"Soft Skills\", \"Leadership Capability\",\n",
    "                    ]\n",
    "\n",
    "X_train_selectedFeatures = X_train[selectedFeatures].copy()\n",
    "X_test_selectedFeatures = X_test[selectedFeatures].copy()\n",
    "# Now they get access to a new dataset that has sort of different distributions, they don't know\n",
    "# Task use kNearestNeighbor or LogisticRegression or something else to try and maximize...\n",
    "def rescaling(X):\n",
    "#     print(X)\n",
    "    scaler = MinMaxScaler()\n",
    "    scaler.fit(X)\n",
    "    data = scaler.transform(X)\n",
    "    return data\n",
    "\n",
    "X_scaled_train = rescaling(X_train_selectedFeatures)\n",
    "print(X_scaled_train)\n",
    "\n",
    "neigh = KNeighborsClassifier(n_neighbors=4, metric=\"minkowski\", p=3)\n",
    "neigh.fit(X_scaled_train, y_train)\n",
    "y_predict = neigh.predict(X_scaled_train)\n",
    "\n",
    "neigh.score(X_scaled_train, y_train)"
   ]
  },
  {
   "cell_type": "code",
   "execution_count": 16,
   "metadata": {},
   "outputs": [
    {
     "name": "stdout",
     "output_type": "stream",
     "text": [
      "Caucasian           855\n",
      "African-American    471\n",
      "Asian               368\n",
      "Hispanic            131\n",
      "Other                85\n",
      "Name: Race, dtype: int64\n",
      "368\n",
      "1209\n",
      "The selection rate for Caucasians:  0.2974947807933194\n",
      "The selection rate for Asians:  0.304383788254756\n",
      "The selection rate for African-Americans:  0.21149528513695554\n",
      "The selection rate for Hispanics:  0.17969821673525377\n"
     ]
    },
    {
     "data": {
      "image/png": "[encoded data removed]",
      "text/plain": [
       "<Figure size 432x288 with 1 Axes>"
      ]
     },
     "metadata": {
      "needs_background": "light"
     },
     "output_type": "display_data"
    },
    {
     "name": "stdout",
     "output_type": "stream",
     "text": [
      "The selection rate for Males:  0.4142038946162658\n",
      "The selection rate for Females:  0.03253588516746411\n"
     ]
    },
    {
     "data": {
      "image/png": "[encoded data removed]",
      "text/plain": [
       "<Figure size 432x288 with 1 Axes>"
      ]
     },
     "metadata": {
      "needs_background": "light"
     },
     "output_type": "display_data"
    }
   ],
   "source": [
    "# Going to attach predictions to a copy of the original dataset for analysis\n",
    "knn_final_data = X_train.copy()\n",
    "\n",
    "# print(X_train)\n",
    "\n",
    "\n",
    "labels = [int(x) for x in y_predict]\n",
    "knn_final_data[\"Performance\"] = labels\n",
    "graphSelectionRates(\"Race\", knn_final_data)\n",
    "graphSelectionRates(\"Sex\", knn_final_data)"
   ]
  },
  {
   "cell_type": "code",
   "execution_count": null,
   "metadata": {},
   "outputs": [],
   "source": []
  }
 ],
 "metadata": {
  "kernelspec": {
   "display_name": "Python 3",
   "language": "python",
   "name": "python3"
  },
  "language_info": {
   "codemirror_mode": {
    "name": "ipython",
    "version": 3
   },
   "file_extension": ".py",
   "mimetype": "text/x-python",
   "name": "python",
   "nbconvert_exporter": "python",
   "pygments_lexer": "ipython3",
   "version": "3.7.7"
  }
 },
 "nbformat": 4,
 "nbformat_minor": 4
}
