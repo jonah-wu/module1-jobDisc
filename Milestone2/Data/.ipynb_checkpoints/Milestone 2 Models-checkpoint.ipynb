{
 "cells": [
  {
   "cell_type": "markdown",
   "metadata": {},
   "source": [
    "### Milestone 2\n",
    "Familiarizing ourselves with the dataset.\n"
   ]
  },
  {
   "cell_type": "code",
   "execution_count": 11,
   "metadata": {},
   "outputs": [],
   "source": [
    "import nbimporter\n",
    "import pandas as pd \n",
    "import numpy as np\n",
    "import matplotlib.pyplot as plt; plt.rcdefaults()\n",
    "import randomDataset\n",
    "import numpy as np\n",
    "import pandas as pd\n",
    "\n",
    "from scipy.linalg import eigh, cholesky\n",
    "from scipy.stats import norm\n",
    "from pylab import plot, show, axis, subplot, xlabel, ylabel, grid\n",
    "\n",
    "\n",
    "import matplotlib.pyplot as plt\n",
    "%matplotlib inline"
   ]
  },
  {
   "cell_type": "code",
   "execution_count": 12,
   "metadata": {},
   "outputs": [
    {
     "ename": "AttributeError",
     "evalue": "module 'randomDataset' has no attribute 'loadDataset'",
     "output_type": "error",
     "traceback": [
      "\u001b[0;31m---------------------------------------------------------------------------\u001b[0m",
      "\u001b[0;31mAttributeError\u001b[0m                            Traceback (most recent call last)",
      "\u001b[0;32m<ipython-input-12-a45e987fe49b>\u001b[0m in \u001b[0;36m<module>\u001b[0;34m\u001b[0m\n\u001b[1;32m     11\u001b[0m            \"Arrest Records\", \"LinkedIn Score\", \"Responsible Social Media Use\", \"HireVue Score\"]\n\u001b[1;32m     12\u001b[0m \u001b[0;34m\u001b[0m\u001b[0m\n\u001b[0;32m---> 13\u001b[0;31m \u001b[0mdataset\u001b[0m \u001b[0;34m=\u001b[0m \u001b[0mrandomDataset\u001b[0m\u001b[0;34m.\u001b[0m\u001b[0mloadDataset\u001b[0m\u001b[0;34m(\u001b[0m\u001b[0mnumPpl\u001b[0m\u001b[0;34m,\u001b[0m \u001b[0mfeatures\u001b[0m\u001b[0;34m)\u001b[0m\u001b[0;34m\u001b[0m\u001b[0;34m\u001b[0m\u001b[0m\n\u001b[0m\u001b[1;32m     14\u001b[0m \u001b[0mdataset_onehot\u001b[0m \u001b[0;34m=\u001b[0m \u001b[0mdataset\u001b[0m\u001b[0;34m.\u001b[0m\u001b[0mcopy\u001b[0m\u001b[0;34m(\u001b[0m\u001b[0;34m)\u001b[0m\u001b[0;34m\u001b[0m\u001b[0;34m\u001b[0m\u001b[0m\n\u001b[1;32m     15\u001b[0m \u001b[0mdataset_onehot\u001b[0m \u001b[0;34m=\u001b[0m \u001b[0mpd\u001b[0m\u001b[0;34m.\u001b[0m\u001b[0mget_dummies\u001b[0m\u001b[0;34m(\u001b[0m\u001b[0mdataset_onehot\u001b[0m\u001b[0;34m,\u001b[0m \u001b[0mcolumns\u001b[0m\u001b[0;34m=\u001b[0m\u001b[0;34m[\u001b[0m\u001b[0;34m'Birth Origin'\u001b[0m\u001b[0;34m,\u001b[0m \u001b[0;34m'Sports'\u001b[0m\u001b[0;34m]\u001b[0m\u001b[0;34m,\u001b[0m \u001b[0mprefix\u001b[0m\u001b[0;34m=\u001b[0m\u001b[0;34m[\u001b[0m\u001b[0;34m'origin'\u001b[0m\u001b[0;34m,\u001b[0m \u001b[0;34m'sport'\u001b[0m\u001b[0;34m]\u001b[0m\u001b[0;34m)\u001b[0m\u001b[0;34m\u001b[0m\u001b[0;34m\u001b[0m\u001b[0m\n",
      "\u001b[0;31mAttributeError\u001b[0m: module 'randomDataset' has no attribute 'loadDataset'"
     ]
    }
   ],
   "source": [
    "# Fixing the dataset \n",
    "raceIndxs = {\"Caucasian\": 0, \"African-American\": 1, \"Asian\": 2, \"Hispanic\": 3, \"Other\": 4 }\n",
    "sexIndxs = {\"Male\":0, \"Female\":1}\n",
    "#### One-hotting the Dataset to handle non-numeric values ####\n",
    "numPpl = 10000\n",
    "# Generating the Covariance Matrix\n",
    "features = [\"Names\", \"GPA\", \"Avg Commute Time\", \"Cultural Fit\", \"Technical Aptitude\", \n",
    "           \"Soft Skills\", \"Employee Referral\", \"Years of Experience\", \"Leadership Capability\", \n",
    "           \"Race\", \"Sex\", \"Age\", \"Birth Origin\", \"Education\", \n",
    "           \"Undergraduate Degree\", \"Educational Prestige\", \"Sports\", \"Criminal Record\",\n",
    "           \"Arrest Records\", \"LinkedIn Score\", \"Responsible Social Media Use\", \"HireVue Score\"]\n",
    "\n",
    "dataset = randomDataset.loadDataset(numPpl, features)\n",
    "dataset_onehot = dataset.copy()\n",
    "dataset_onehot = pd.get_dummies(dataset_onehot, columns=['Birth Origin', 'Sports'], prefix=['origin', 'sport'])"
   ]
  },
  {
   "cell_type": "code",
   "execution_count": 6,
   "metadata": {},
   "outputs": [
    {
     "name": "stdout",
     "output_type": "stream",
     "text": [
      "<class 'pandas.core.frame.DataFrame'>\n",
      "RangeIndex: 500 entries, 0 to 499\n",
      "Data columns (total 30 columns):\n",
      " #   Column                        Non-Null Count  Dtype  \n",
      "---  ------                        --------------  -----  \n",
      " 0   Unnamed: 0                    500 non-null    int64  \n",
      " 1   Names                         500 non-null    object \n",
      " 2   GPA                           500 non-null    float64\n",
      " 3   Avg Commute Time              500 non-null    float64\n",
      " 4   Cultural Fit                  500 non-null    int64  \n",
      " 5   Technical Aptitude            500 non-null    int64  \n",
      " 6   Soft Skills                   500 non-null    float64\n",
      " 7   Employee Referral             500 non-null    float64\n",
      " 8   Years of Experience           500 non-null    float64\n",
      " 9   Leadership Capability         500 non-null    float64\n",
      " 10  Race                          500 non-null    int64  \n",
      " 11  Sex                           500 non-null    int64  \n",
      " 12  Age                           500 non-null    float64\n",
      " 13  Education                     500 non-null    int64  \n",
      " 14  Undergraduate Degree          500 non-null    object \n",
      " 15  Educational Prestige          500 non-null    int64  \n",
      " 16  Criminal Record               500 non-null    float64\n",
      " 17  Arrest Records                500 non-null    float64\n",
      " 18  LinkedIn Score                500 non-null    int64  \n",
      " 19  Responsible Social Media Use  500 non-null    float64\n",
      " 20  HireVue Score                 500 non-null    int64  \n",
      " 21  origin_Australia              500 non-null    uint8  \n",
      " 22  origin_Canada                 500 non-null    uint8  \n",
      " 23  origin_China                  500 non-null    uint8  \n",
      " 24  origin_India                  500 non-null    uint8  \n",
      " 25  origin_Mexico                 500 non-null    uint8  \n",
      " 26  origin_United States          500 non-null    uint8  \n",
      " 27  sport_Club/Intramural         500 non-null    uint8  \n",
      " 28  sport_NCAA/Professional       500 non-null    uint8  \n",
      " 29  sport_None                    500 non-null    uint8  \n",
      "dtypes: float64(10), int64(9), object(2), uint8(9)\n",
      "memory usage: 86.6+ KB\n"
     ]
    }
   ],
   "source": [
    "dataset_onehot\n",
    "dataset_onehot.info()"
   ]
  },
  {
   "cell_type": "code",
   "execution_count": 7,
   "metadata": {},
   "outputs": [],
   "source": [
    "# Generating the Covariance Matrix\n",
    "employeeData = pd.read_csv(\"employeeData.csv\")"
   ]
  },
  {
   "cell_type": "code",
   "execution_count": 398,
   "metadata": {},
   "outputs": [],
   "source": [
    "# To Correlate w/ Job Performance\n",
    "dataset_onehot[\"Job Performance\"] = employeeData[\"Job Performance\"]\n",
    "dataset_onehot[\"GPA\"] = employeeData[\"GPA\"]\n",
    "dataset_onehot[\"Technical Aptitude\"] = employeeData[\"Technical Aptitude\"]\n",
    "dataset_onehot[\"Leadership Capability\"] = employeeData[\"Leadership Capability\"]  \n",
    "dataset_onehot[\"Soft Skills\"] = employeeData[\"Soft Skills\"]\n",
    "dataset_onehot[\"Years of Experience\"] = employeeData[\"Years of Experience\"]\n",
    "\n",
    "# To Correlate w/ Job Tenure \n",
    "dataset_onehot[\"Job Tenure\"] = employeeData[\"Job Tenure\"]\n",
    "dataset_onehot[\"Military Tenure\"] = employeeData[\"Military Tenure\"]\n",
    "dataset_onehot[\"Avg Commute Time\"] = employeeData[\"Avg Commute Time\"]\n",
    "\n",
    "# Manually done correlated w/ job performance\n",
    "dataset_onehot[\"Employee Referral\"] = employeeData[\"Employee Referrals\"]\n",
    "dataset_onehot[\"Cultural Fit\"] = employeeData[\"Cultural Fit\"]\n",
    "dataset_onehot[\"Education\"] = employeeData[\"Education\"]\n",
    "dataset_onehot[\"Educational Prestige\"] = employeeData[\"Educational Prestige\"]\n",
    "\n",
    "dataset_onehot[\"HireVue Score\"] = employeeData[\"HireVue Score\"]\n",
    "dataset_onehot[\"Undergraduate Degree\"] = employeeData[\"Degree\"]\n",
    "dataset_onehot[\"LinkedIn Score\"] = employeeData[\"LinkedIn Score\"]\n",
    "dataset_onehot[\"Responsible Social Media Use\"] = employeeData[\"Responsible Social Media Use\"]\n",
    "dataset_onehot[\"Criminal Record\"] = employeeData[\"Criminal Record\"]\n",
    "dataset_onehot[\"Arrest Record\"]= employeeData[\"Arrest Record\"]\n",
    "\n",
    "\n",
    "# How to correlate military Tenure w/ job performance...\n",
    "# We give those with high military tenure higher job performance among blacks\n",
    "# Correlate these features with other features\n",
    "\n",
    "# Females\n",
    "dataset_onehot[\"Sex\"] = employeeData[\"Gender\"]\n",
    "dataset_onehot[\"Name\"] = employeeData[\"Names\"]\n",
    "dataset_onehot[\"Race\"] = employeeData[\"Race\"]\n",
    "# Age\n",
    "\n",
    "# National Origin\n",
    "\n",
    "# Race..."
   ]
  },
  {
   "cell_type": "code",
   "execution_count": 399,
   "metadata": {},
   "outputs": [
    {
     "name": "stdout",
     "output_type": "stream",
     "text": [
      "{0: 'Caucasian', 1: 'African-American', 2: 'Asian', 3: 'Hispanic', 4: 'Other'}\n"
     ]
    }
   ],
   "source": [
    "# Preprocess everything\n",
    "\n",
    "### We also need to translate the Races back to their values then one-hot ###\n",
    "indxToRaces = {value: key for key, value in raceIndxs.items()}\n",
    "print(indxToRaces)\n",
    "dataset_onehot = dataset_onehot.replace({\"Race\": indxToRaces})\n",
    "race_col = dataset_onehot[\"Race\"]\n",
    "dataset_onehot = pd.get_dummies(dataset_onehot, columns = ['Race'], prefix=['race'])\n",
    "dataset_onehot[\"Race\"] = race_col\n",
    "\n",
    "full_dataset = dataset_onehot.copy()\n",
    "columnsTo1Hot = ['HireVue Score', 'Employee Referral', 'Cultural Fit', \"Education\", \"Educational Prestige\",\n",
    "                \"Undergraduate Degree\", \"LinkedIn Score\", \"Responsible Social Media Use\", \"Criminal Record\", \"Arrest Record\"]\n",
    "prefixes = [\"hirevue\", \"referral\", \"culturalfit\", \"education\", \"prestige\",\"degree\", \"linkedin\", \"socmedia\", \"criminal\", \"arrest\"]\n",
    "full_dataset = pd.get_dummies(full_dataset, columns=columnsTo1Hot, prefix=prefixes)"
   ]
  },
  {
   "cell_type": "code",
   "execution_count": 400,
   "metadata": {},
   "outputs": [],
   "source": [
    "from sklearn.linear_model import LogisticRegression\n",
    "from sklearn.model_selection import train_test_split\n",
    "from sklearn.multiclass import OneVsRestClassifier\n",
    "from sklearn.neighbors import KNeighborsClassifier\n",
    "from sklearn.preprocessing import MinMaxScaler"
   ]
  },
  {
   "cell_type": "code",
   "execution_count": 401,
   "metadata": {},
   "outputs": [
    {
     "name": "stdout",
     "output_type": "stream",
     "text": [
      "-2    2651\n",
      " 2    2639\n",
      " 0    2487\n",
      " 1    1158\n",
      "-1    1065\n",
      "Name: Job Performance, dtype: int64\n",
      "<class 'pandas.core.frame.DataFrame'>\n",
      "RangeIndex: 10000 entries, 0 to 9999\n",
      "Data columns (total 83 columns):\n",
      " #   Column                   Non-Null Count  Dtype  \n",
      "---  ------                   --------------  -----  \n",
      " 0   Unnamed: 0               10000 non-null  int64  \n",
      " 1   Names                    10000 non-null  object \n",
      " 2   GPA                      10000 non-null  float64\n",
      " 3   Avg Commute Time         10000 non-null  float64\n",
      " 4   Technical Aptitude       10000 non-null  float64\n",
      " 5   Soft Skills              10000 non-null  float64\n",
      " 6   Years of Experience      10000 non-null  float64\n",
      " 7   Leadership Capability    10000 non-null  float64\n",
      " 8   Sex                      10000 non-null  float64\n",
      " 9   Age                      10000 non-null  int64  \n",
      " 10  origin_Australia         10000 non-null  uint8  \n",
      " 11  origin_Canada            10000 non-null  uint8  \n",
      " 12  origin_China             10000 non-null  uint8  \n",
      " 13  origin_India             10000 non-null  uint8  \n",
      " 14  origin_Mexico            10000 non-null  uint8  \n",
      " 15  origin_United States     10000 non-null  uint8  \n",
      " 16  sport_Club/Intramural    10000 non-null  uint8  \n",
      " 17  sport_NCAA/Professional  10000 non-null  uint8  \n",
      " 18  sport_None               10000 non-null  uint8  \n",
      " 19  Job Performance          10000 non-null  int64  \n",
      " 20  Job Tenure               10000 non-null  float64\n",
      " 21  Military Tenure          10000 non-null  float64\n",
      " 22  Name                     10000 non-null  object \n",
      " 23  race_African-American    10000 non-null  uint8  \n",
      " 24  race_Asian               10000 non-null  uint8  \n",
      " 25  race_Caucasian           10000 non-null  uint8  \n",
      " 26  race_Hispanic            10000 non-null  uint8  \n",
      " 27  race_Other               10000 non-null  uint8  \n",
      " 28  race_African-American    10000 non-null  uint8  \n",
      " 29  race_Asian               10000 non-null  uint8  \n",
      " 30  race_Caucasian           10000 non-null  uint8  \n",
      " 31  race_Hispanic            10000 non-null  uint8  \n",
      " 32  race_Other               10000 non-null  uint8  \n",
      " 33  race_African-American    10000 non-null  uint8  \n",
      " 34  race_Asian               10000 non-null  uint8  \n",
      " 35  race_Caucasian           10000 non-null  uint8  \n",
      " 36  race_Hispanic            10000 non-null  uint8  \n",
      " 37  race_Other               10000 non-null  uint8  \n",
      " 38  race_African-American    10000 non-null  uint8  \n",
      " 39  race_Asian               10000 non-null  uint8  \n",
      " 40  race_Caucasian           10000 non-null  uint8  \n",
      " 41  race_Hispanic            10000 non-null  uint8  \n",
      " 42  race_Other               10000 non-null  uint8  \n",
      " 43  race_African-American    10000 non-null  uint8  \n",
      " 44  race_Asian               10000 non-null  uint8  \n",
      " 45  race_Caucasian           10000 non-null  uint8  \n",
      " 46  race_Hispanic            10000 non-null  uint8  \n",
      " 47  race_Other               10000 non-null  uint8  \n",
      " 48  race_African-American    10000 non-null  uint8  \n",
      " 49  race_Asian               10000 non-null  uint8  \n",
      " 50  race_Caucasian           10000 non-null  uint8  \n",
      " 51  race_Hispanic            10000 non-null  uint8  \n",
      " 52  race_Other               10000 non-null  uint8  \n",
      " 53  Race                     10000 non-null  object \n",
      " 54  hirevue_0.0              10000 non-null  uint8  \n",
      " 55  hirevue_1.0              10000 non-null  uint8  \n",
      " 56  hirevue_2.0              10000 non-null  uint8  \n",
      " 57  referral_0.0             10000 non-null  uint8  \n",
      " 58  referral_1.0             10000 non-null  uint8  \n",
      " 59  culturalfit_0.0          10000 non-null  uint8  \n",
      " 60  culturalfit_1.0          10000 non-null  uint8  \n",
      " 61  culturalfit_2.0          10000 non-null  uint8  \n",
      " 62  education_0.0            10000 non-null  uint8  \n",
      " 63  education_1.0            10000 non-null  uint8  \n",
      " 64  education_2.0            10000 non-null  uint8  \n",
      " 65  prestige_0.0             10000 non-null  uint8  \n",
      " 66  prestige_1.0             10000 non-null  uint8  \n",
      " 67  prestige_2.0             10000 non-null  uint8  \n",
      " 68  prestige_3.0             10000 non-null  uint8  \n",
      " 69  degree_Engineering       10000 non-null  uint8  \n",
      " 70  degree_Humanities        10000 non-null  uint8  \n",
      " 71  degree_None              10000 non-null  uint8  \n",
      " 72  degree_Quantitative      10000 non-null  uint8  \n",
      " 73  degree_Sciences          10000 non-null  uint8  \n",
      " 74  linkedin_None            10000 non-null  uint8  \n",
      " 75  linkedin_Ok              10000 non-null  uint8  \n",
      " 76  linkedin_Very Good       10000 non-null  uint8  \n",
      " 77  socmedia_Bad             10000 non-null  uint8  \n",
      " 78  socmedia_Good            10000 non-null  uint8  \n",
      " 79  criminal_0.0             10000 non-null  uint8  \n",
      " 80  criminal_1.0             10000 non-null  uint8  \n",
      " 81  arrest_0.0               10000 non-null  uint8  \n",
      " 82  arrest_1.0               10000 non-null  uint8  \n",
      "dtypes: float64(9), int64(3), object(3), uint8(68)\n",
      "memory usage: 1.8+ MB\n"
     ]
    }
   ],
   "source": [
    "target_count = full_dataset['Job Performance'].value_counts(dropna = False)\n",
    "print(target_count)\n",
    "full_dataset.info()"
   ]
  },
  {
   "cell_type": "code",
   "execution_count": 402,
   "metadata": {},
   "outputs": [],
   "source": [
    "y = full_dataset[\"Job Performance\"]\n",
    "X = full_dataset.drop([\"Job Performance\"], axis=1)\n",
    "X_train, X_test, y_train, y_test = train_test_split(X, y, random_state=50)\n",
    "\n",
    "selectedFeatures = [\n",
    "                    \"culturalfit_0.0\", \"culturalfit_1.0\", \"culturalfit_2.0\",\n",
    "                    \"referral_0.0\", \"referral_1.0\",\n",
    "                    \"education_0.0\", \"education_1.0\", \"education_2.0\",\n",
    "                    \"prestige_0.0\", \"prestige_1.0\", \"prestige_2.0\",\n",
    "                    \"linkedin_None\", \"linkedin_Ok\", \"linkedin_Very Good\",\n",
    "                    \"socmedia_Bad\", \"socmedia_Good\", \"criminal_0.0\", \"criminal_1.0\",\n",
    "                    \"arrest_0.0\", \"arrest_1.0\",\n",
    "                    \"GPA\", \"Technical Aptitude\", \"Soft Skills\", \"Leadership Capability\",\n",
    "                    ]\n",
    "X_train_selectedFeatures = X_train[selectedFeatures].copy()\n",
    "X_test_selectedFeatures = X_test[selectedFeatures].copy()"
   ]
  },
  {
   "cell_type": "code",
   "execution_count": 403,
   "metadata": {},
   "outputs": [
    {
     "name": "stderr",
     "output_type": "stream",
     "text": [
      "/Users/jonahwu/miniconda3/envs/cs231n/lib/python3.7/site-packages/sklearn/linear_model/_logistic.py:940: ConvergenceWarning: lbfgs failed to converge (status=1):\n",
      "STOP: TOTAL NO. of ITERATIONS REACHED LIMIT.\n",
      "\n",
      "Increase the number of iterations (max_iter) or scale the data as shown in:\n",
      "    https://scikit-learn.org/stable/modules/preprocessing.html\n",
      "Please also refer to the documentation for alternative solver options:\n",
      "    https://scikit-learn.org/stable/modules/linear_model.html#logistic-regression\n",
      "  extra_warning_msg=_LOGISTIC_SOLVER_CONVERGENCE_MSG)\n",
      "/Users/jonahwu/miniconda3/envs/cs231n/lib/python3.7/site-packages/sklearn/linear_model/_logistic.py:940: ConvergenceWarning: lbfgs failed to converge (status=1):\n",
      "STOP: TOTAL NO. of ITERATIONS REACHED LIMIT.\n",
      "\n",
      "Increase the number of iterations (max_iter) or scale the data as shown in:\n",
      "    https://scikit-learn.org/stable/modules/preprocessing.html\n",
      "Please also refer to the documentation for alternative solver options:\n",
      "    https://scikit-learn.org/stable/modules/linear_model.html#logistic-regression\n",
      "  extra_warning_msg=_LOGISTIC_SOLVER_CONVERGENCE_MSG)\n"
     ]
    }
   ],
   "source": [
    "clf = OneVsRestClassifier(LogisticRegression(random_state = 0)).fit(X_train_selectedFeatures, y_train)"
   ]
  },
  {
   "cell_type": "code",
   "execution_count": 404,
   "metadata": {},
   "outputs": [
    {
     "name": "stdout",
     "output_type": "stream",
     "text": [
      "0.7784\n",
      "[-2 -1  0  1  2]\n",
      "[[ 3.89815688e-01 -1.45520031e-01 -2.44707339e-01 -1.04208090e-01\n",
      "   1.03796408e-01  3.07905515e-01 -1.47295618e-01 -1.61021578e-01\n",
      "   1.51713736e-01  6.51086798e-01  1.02906107e-01  5.90749584e-02\n",
      "   1.67116665e-01 -2.26603305e-01  7.46597675e-02 -7.50714493e-02\n",
      "  -1.49472262e+00  1.49431094e+00 -1.10997692e+00  1.10956524e+00\n",
      "   2.74997503e-01  7.03906707e-01 -8.25962181e+00 -5.17334331e+00]\n",
      " [ 2.23133972e-01  2.95344938e-01 -5.18695927e-01  3.90349979e-01\n",
      "  -3.90566995e-01  3.42617579e-01  1.05876033e-01 -4.48710628e-01\n",
      "  -1.30204831e-01 -2.53214375e-01 -8.53679409e-02  6.00095024e-01\n",
      "   1.03858458e-01 -7.04170498e-01  4.70345902e-01 -4.70562918e-01\n",
      "   1.11029812e+00 -1.11051514e+00  8.37509228e-01 -8.37726244e-01\n",
      "  -5.57668864e-02 -5.21805910e-02 -2.95990173e-01 -2.96009066e-01]\n",
      " [ 7.51087948e-01  6.25257244e-01 -1.37372002e+00  6.92067124e-01\n",
      "  -6.89441953e-01  5.31660126e-02  9.82722206e-02 -1.48813062e-01\n",
      "   9.00869029e-02  1.57318017e-01  1.58660221e-01 -3.40188482e-01\n",
      "   1.83764711e-01  1.59048942e-01 -3.22414613e-01  3.25039784e-01\n",
      "   8.46545847e-01 -8.43920676e-01  5.32679167e-01 -5.30053996e-01\n",
      "   1.17859527e-01  2.97896061e-02  6.18977516e-02  1.22998359e-01]\n",
      " [ 1.18398509e+00  7.71431569e-01 -1.96813837e+00  1.04249332e+00\n",
      "  -1.05521504e+00 -1.86998374e-01 -2.03773668e-01  3.78050328e-01\n",
      "  -1.10894438e-03  1.60893945e-01  1.49390822e-01 -6.76217604e-02\n",
      "   5.25791844e-02  2.32086215e-03 -1.66025510e-02  3.88083711e-03\n",
      "   2.62593387e-01 -2.75315101e-01  1.08897870e-01 -1.21619584e-01\n",
      "  -2.12412179e-01 -1.57001766e-01  1.34592214e+00  8.27218264e-01]\n",
      " [-1.59023071e+00 -5.45321524e-01  2.13401194e+00 -1.24764386e+00\n",
      "   1.24610357e+00 -2.03563095e-01  8.34374110e-02  1.18585395e-01\n",
      "   6.30670416e-02 -4.35778147e-01 -2.51065387e-01 -5.79157425e-01\n",
      "  -7.77790134e-02  6.55396149e-01 -6.85256372e-01  6.83716083e-01\n",
      "   2.81442934e-01 -2.82983223e-01  1.67394260e-01 -1.68934549e-01\n",
      "  -2.99181793e-01 -5.52221444e-01  7.87159452e+00  4.99525299e+00]]\n"
     ]
    }
   ],
   "source": [
    "print(clf.score(X_train_selectedFeatures, y_train))\n",
    "# print(clf.score(X_test, y_test))\n",
    "print(clf.classes_)\n",
    "print(clf.coef_)"
   ]
  },
  {
   "cell_type": "code",
   "execution_count": 405,
   "metadata": {
    "scrolled": false
   },
   "outputs": [
    {
     "name": "stdout",
     "output_type": "stream",
     "text": [
      "7500\n",
      "7500\n"
     ]
    }
   ],
   "source": [
    "# Going to attach predictions to a copy of the original dataset for analysis\n",
    "final_data = X_train.copy()\n",
    "ytrain_predicted = clf.predict(X_train_selectedFeatures)\n",
    "# print(X_train)\n",
    "\n",
    "indxs = list(final_data.index)\n",
    "print(len(indxs))\n",
    "print(len(ytrain_predicted))\n",
    "\n",
    "labels = [int(x) for x in ytrain_predicted]\n",
    "final_data[\"Performance\"] = labels\n",
    "# print(final_data)\n",
    "final_data.to_csv(\"modeldata_results.csv\")"
   ]
  },
  {
   "cell_type": "code",
   "execution_count": 406,
   "metadata": {},
   "outputs": [
    {
     "name": "stdout",
     "output_type": "stream",
     "text": [
      "Caucasian           926\n",
      "African-American    510\n",
      "Asian               380\n",
      "Hispanic            174\n",
      "Other               101\n",
      "Name: Race, dtype: int64\n",
      "380\n",
      "1183\n",
      "The selection rate for Caucasians:  0.3237762237762238\n",
      "The selection rate for Asians:  0.32121724429416737\n",
      "The selection rate for African-Americans:  0.2244718309859155\n",
      "The selection rate for Hispanics:  0.23609226594301222\n"
     ]
    },
    {
     "data": {
      "image/png": "[encoded data removed]",
      "text/plain": [
       "<Figure size 432x288 with 1 Axes>"
      ]
     },
     "metadata": {
      "needs_background": "light"
     },
     "output_type": "display_data"
    },
    {
     "name": "stdout",
     "output_type": "stream",
     "text": [
      "The selection rate for Males:  0.4526606772633034\n",
      "The selection rate for Females:  0.039886039886039885\n"
     ]
    },
    {
     "data": {
      "image/png": "[encoded data removed]",
      "text/plain": [
       "<Figure size 432x288 with 1 Axes>"
      ]
     },
     "metadata": {
      "needs_background": "light"
     },
     "output_type": "display_data"
    }
   ],
   "source": [
    "def graphSelectionRates(protectedType, data):\n",
    "    raceIndxs = {\"Caucasian\": 0, \"African-American\": 1, \"Asian\": 2, \"Hispanic\": 3, \"Other\": 4 }\n",
    "    sexIndxs = {\"Male\":0, \"Female\":1}\n",
    "    if protectedType == \"Race\":\n",
    "        selected = data[data[\"Performance\"].isin([2])]\n",
    "#         print(len(selected))\n",
    "        numCandidates = data[\"Race\"].value_counts()\n",
    "        numQualified = selected[\"Race\"].value_counts()\n",
    "        print(numQualified)\n",
    "\n",
    "        selectionRate1 = numQualified[raceIndxs[\"Caucasian\"]] / numCandidates[raceIndxs[\"Caucasian\"]]\n",
    "\n",
    "        print(numQualified[raceIndxs[\"Asian\"]]) \n",
    "        print(numCandidates[raceIndxs[\"Asian\"]])\n",
    "        selectionRate2 = numQualified[raceIndxs[\"Asian\"]] / numCandidates[raceIndxs[\"Asian\"]]\n",
    "        selectionRate3 = numQualified[raceIndxs[\"African-American\"]] / numCandidates[raceIndxs[\"African-American\"]]\n",
    "        selectionRate4 = numQualified[raceIndxs[\"Hispanic\"]] / numCandidates[raceIndxs[\"Hispanic\"]]\n",
    "        print(\"The selection rate for \" + \"Caucasian\" + \"s: \",selectionRate1)\n",
    "        print(\"The selection rate for \" + \"Asian\" + \"s: \", selectionRate2)\n",
    "        print(\"The selection rate for \" + \"African-American\" + \"s: \",selectionRate3)\n",
    "        print(\"The selection rate for \" + \"Hispanic\" + \"s: \",selectionRate4)\n",
    "        y_pos = np.arange(4)\n",
    "        performance = [selectionRate1, selectionRate2, selectionRate3, selectionRate4]\n",
    "        plt.bar(y_pos, performance, align='center', alpha=0.5)\n",
    "        plt.xticks(y_pos, (\"Caucasian\", \"Asian\", \"African-American\", \"Hispanic\"))\n",
    "        plt.ylabel('Selection Rate')\n",
    "        plt.title('Selection Rate Comparisons by Race')\n",
    "        plt.show()\n",
    "    elif protectedType == \"Sex\":\n",
    "        selected = data[data[\"Performance\"].isin([2])]\n",
    "#         print(len(selected))\n",
    "        numCandidates = data[\"Sex\"].value_counts()\n",
    "        numQualified = selected[\"Sex\"].value_counts()\n",
    "        \n",
    "        maleSelectionRate = numQualified[sexIndxs[\"Male\"]] / numCandidates[sexIndxs[\"Male\"]]\n",
    "        femaleSelectionRate = numQualified[sexIndxs[\"Female\"]] / numCandidates[sexIndxs[\"Female\"]]\n",
    "        print(\"The selection rate for \" + \"Male\" + \"s: \",maleSelectionRate)\n",
    "        print(\"The selection rate for \" + \"Female\" + \"s: \",femaleSelectionRate)\n",
    "        y_pos = np.arange(2)\n",
    "        performance = [maleSelectionRate, femaleSelectionRate]\n",
    "        plt.bar(y_pos, performance, align='center', alpha=0.5)\n",
    "        plt.xticks(y_pos, (\"Male\", \"Female\"))\n",
    "        plt.ylabel('Selection Rate')\n",
    "        plt.title('Selection Rate Comparisons by Sex')\n",
    "        plt.show()\n",
    "    else:\n",
    "        print(\"Try another protected type - Sex or Race\")\n",
    "\n",
    "        \n",
    "graphSelectionRates(\"Race\", final_data)\n",
    "graphSelectionRates(\"Sex\", final_data)\n"
   ]
  },
  {
   "cell_type": "markdown",
   "metadata": {},
   "source": [
    "# Another Approach - k Nearest Neighbors:\n",
    "Lets introduce one more model...\n",
    "Wherein the last exercise we just looked at the nearest neighbors, we now evaluate the candidates by looking at the k closest different neighbors who all vote on what the candidate is!"
   ]
  },
  {
   "cell_type": "code",
   "execution_count": null,
   "metadata": {},
   "outputs": [],
   "source": []
  },
  {
   "cell_type": "code",
   "execution_count": 201,
   "metadata": {},
   "outputs": [
    {
     "name": "stdout",
     "output_type": "stream",
     "text": [
      "[[0.34953828 0.         0.5        ... 0.         1.         0.        ]\n",
      " [0.39778667 1.         0.5        ... 0.5        0.         0.        ]\n",
      " [0.54046595 1.         0.5        ... 0.5        0.         0.        ]\n",
      " ...\n",
      " [0.61920242 0.         0.5        ... 1.         0.         0.        ]\n",
      " [0.54151119 0.5        0.5        ... 0.5        0.         0.        ]\n",
      " [0.34860776 1.         0.5        ... 0.5        0.         0.        ]]\n"
     ]
    },
    {
     "data": {
      "text/plain": [
       "0.8296"
      ]
     },
     "execution_count": 201,
     "metadata": {},
     "output_type": "execute_result"
    }
   ],
   "source": [
    "y = full_dataset[\"Job Performance\"]\n",
    "X = full_dataset.drop([\"Job Performance\"], axis=1)\n",
    "X_train, X_test, y_train, y_test = train_test_split(X, y, random_state=50)\n",
    "X_train_selectedFeatures = X_train[[\"GPA\", \"Cultural Fit\", \"Education\", \"Educational Prestige\", \"Technical Aptitude\", \"Soft Skills\", \"Employee Referral\", \"Leadership Capability\", \"HireVue Score\", \"Criminal Record\", \"Arrest Record\"]].copy()\n",
    "X_test_selectedFeatures = X_test[[\"GPA\", \"Cultural Fit\", \"Education\", \"Educational Prestige\", \"Technical Aptitude\", \"Soft Skills\", \"Employee Referral\", \"Leadership Capability\", \"HireVue Score\", \"Criminal Record\", \"Arrest Record\"]].copy()\n",
    "# Now they get access to a new dataset that has sort of different distributions, they don't know\n",
    "# Task use kNearestNeighbor or LogisticRegression or something else to try and maximize...\n",
    "def rescaling(X):\n",
    "#     print(X)\n",
    "    scaler = MinMaxScaler()\n",
    "    scaler.fit(X)\n",
    "    data = scaler.transform(X)\n",
    "    return data\n",
    "\n",
    "X_scaled_train = rescaling(X_train_selectedFeatures)\n",
    "print(X_scaled)\n",
    "\n",
    "neigh = KNeighborsClassifier(n_neighbors=4, metric=\"minkowski\", p=3)\n",
    "neigh.fit(X_scaled, y_train)\n",
    "y_predict = neigh.predict(X_scaled)\n",
    "y_predict\n",
    "\n",
    "neigh.score(X_scaled_train, y_train)"
   ]
  },
  {
   "cell_type": "code",
   "execution_count": null,
   "metadata": {},
   "outputs": [],
   "source": []
  }
 ],
 "metadata": {
  "kernelspec": {
   "display_name": "Python 3",
   "language": "python",
   "name": "python3"
  },
  "language_info": {
   "codemirror_mode": {
    "name": "ipython",
    "version": 3
   },
   "file_extension": ".py",
   "mimetype": "text/x-python",
   "name": "python",
   "nbconvert_exporter": "python",
   "pygments_lexer": "ipython3",
   "version": "3.7.7"
  }
 },
 "nbformat": 4,
 "nbformat_minor": 4
}
