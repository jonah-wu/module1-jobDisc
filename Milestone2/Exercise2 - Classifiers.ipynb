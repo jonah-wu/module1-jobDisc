{
 "cells": [
  {
   "cell_type": "code",
   "execution_count": 1,
   "metadata": {},
   "outputs": [],
   "source": [
    "import nbimporter\n",
    "import pandas as pd \n",
    "import numpy as np\n",
    "import matplotlib.pyplot as plt; plt.rcdefaults()\n",
    "import numpy as np\n",
    "import pandas as pd\n",
    "import math\n",
    "\n",
    "from scipy.linalg import eigh, cholesky\n",
    "from scipy.stats import norm\n",
    "from pylab import plot, show, axis, subplot, xlabel, ylabel, grid\n",
    "\n",
    "\n",
    "import matplotlib.pyplot as plt\n",
    "%matplotlib inline\n",
    "\n",
    "\n",
    "from sklearn.linear_model import LogisticRegression\n",
    "from sklearn.model_selection import train_test_split\n",
    "from sklearn.multiclass import OneVsRestClassifier\n",
    "from sklearn.neighbors import KNeighborsClassifier\n",
    "from sklearn.preprocessing import MinMaxScaler\n",
    "from sklearn.metrics import accuracy_score, f1_score, recall_score, precision_score, confusion_matrix"
   ]
  },
  {
   "cell_type": "code",
   "execution_count": 2,
   "metadata": {},
   "outputs": [],
   "source": [
    "def graphSelectionRates(selected, candidates, protectedClass):\n",
    "    selected_candidates = selected.copy()\n",
    "    candidates_all = candidates.copy()\n",
    "    raceIndxs = {\"Caucasian\": 0, \"African-American\": 1, \"Asian\": 2, \"Hispanic\": 3, \"Other\": 4 }\n",
    "    sexIndxs = {\"Male\":0, \"Female\":1}\n",
    "    \n",
    "    if protectedClass == \"race\":\n",
    "        features = [col for col in selected_candidates if col.startswith(\"race_\")]\n",
    "        race_selected = selected_candidates[features].idxmax(axis=1).str.replace('race_', '')\n",
    "        race_all = candidates_all[features].idxmax(axis=1).str.replace('race_', '')\n",
    "        \n",
    "        candidates_all[\"Race\"] = race_all\n",
    "        selected_candidates[\"Race\"] = race_selected\n",
    "\n",
    "        numCandidates = candidates_all[\"Race\"].value_counts()\n",
    "        numQualified = selected_candidates[\"Race\"].value_counts()\n",
    "\n",
    "        selectionRate1 = numQualified[\"Caucasian\"] / numCandidates[\"Caucasian\"]\n",
    "        selectionRate2 = numQualified[\"Asian\"] / numCandidates[\"Asian\"]\n",
    "        selectionRate3 = numQualified[\"African-American\"] / numCandidates[\"African-American\"]\n",
    "        selectionRate4 = numQualified[\"Hispanic\"] / numCandidates[\"Hispanic\"]\n",
    "        \n",
    "        print(\"The selection rate for \" + \"Caucasian\" + \"s: \",selectionRate1)\n",
    "        print(\"The selection rate for \" + \"Asian\" + \"s: \", selectionRate2)\n",
    "        print(\"The selection rate for \" + \"African-American\" + \"s: \",selectionRate3)\n",
    "        print(\"The selection rate for \" + \"Hispanic\" + \"s: \",selectionRate4)\n",
    "        \n",
    "        y_pos = np.arange(4)\n",
    "        performance = [selectionRate1, selectionRate2, selectionRate3, selectionRate4]\n",
    "        plt.bar(y_pos, performance, align='center', alpha=0.5)\n",
    "        plt.xticks(y_pos, (\"Caucasian\", \"Asian\", \"African-American\", \"Hispanic\"))\n",
    "        plt.ylabel('Selection Rate')\n",
    "        plt.title('Selection Rate Comparisons by Race')\n",
    "        plt.show()\n",
    "    elif protectedClass == \"gender\":\n",
    "        \n",
    "        features = [col for col in selected_candidates if col.startswith(\"gender_\")]\n",
    "        gender_selected = selected_candidates[features].idxmax(axis=1).str.replace('gender_', '')\n",
    "        gender_all = candidates_all[features].idxmax(axis=1).str.replace('gender_', '')\n",
    "\n",
    "        candidates_all[\"Gender\"] = gender_all\n",
    "        selected_candidates[\"Gender\"] = gender_selected\n",
    "        \n",
    "        numCandidates = candidates_all[\"Gender\"].value_counts()\n",
    "        numQualified = selected_candidates[\"Gender\"].value_counts()\n",
    "        \n",
    "        print(numCandidates)\n",
    "        print(numQualified) \n",
    "        \n",
    "        maleSelectionRate = numQualified[\"male\"] / numCandidates[\"male\"]\n",
    "        femaleSelectionRate = numQualified[\"female\"] / numCandidates[\"female\"]\n",
    "        print(\"The selection rate for \" + \"Male\" + \"s: \", maleSelectionRate)\n",
    "        print(\"The selection rate for \" + \"Female\" + \"s: \", femaleSelectionRate)\n",
    "        y_pos = np.arange(2)\n",
    "        performance = [maleSelectionRate, femaleSelectionRate]\n",
    "        plt.bar(y_pos, performance, align='center', alpha=0.5)\n",
    "        plt.xticks(y_pos, (\"Male\", \"Female\"))\n",
    "        plt.ylabel('Selection Rate')\n",
    "        plt.title('Selection Rate Comparisons by Sex')\n",
    "        plt.show()\n",
    "    else:\n",
    "        print(\"Try another protected type - gender or race\")\n",
    "        \n",
    "        \n",
    "def getOnehottedDataset(dataset, features, prefixes):\n",
    "# race, sex, sports, birth origin, education, educational prestige, criminal record, arrest record,\n",
    "    onehotted_data = dataset.copy()\n",
    "    onehotted_data = pd.get_dummies(onehotted_data, columns=features, prefix=prefixes)\n",
    "    return onehotted_data\n",
    "       \n",
    "def classificationSelection(candidates, labels, acceptValue):\n",
    "    df = candidates.copy()\n",
    "    df[\"Labels\"] = labels\n",
    "    candidatesSelected = df[df[\"Labels\"].isin([acceptValue])]\n",
    "    return candidatesSelected\n",
    "\n",
    "def transformDatapointsToScale(dataset, selectedFeatures):\n",
    "    df = dataset.copy()\n",
    "    for feature in selectedFeatures:\n",
    "        maximum = df[feature].max()\n",
    "        df[feature] = df[feature].apply(lambda x: x / maximum)\n",
    "    return df"
   ]
  },
  {
   "cell_type": "code",
   "execution_count": 3,
   "metadata": {},
   "outputs": [],
   "source": [
    "##################################\n",
    "# Label Assignment Options #######\n",
    "# Run Cell to Initialize Methods #\n",
    "##################################\n",
    "\n",
    "# Generates labels by ranking by the passed in metric, then dividing into terciles.\n",
    "def assignLabelsByTerciles(dataset, metric):\n",
    "    df = dataset.copy()\n",
    "    if percentiles == \"thirds\":\n",
    "        df = df.sort_values([metric], ascending=False)\n",
    "        labels = []\n",
    "        for x in range(len(dataset)):\n",
    "            if x < len(dataset) / 3:\n",
    "                labels.append(1)\n",
    "            elif x < len(dataset) / 3 * 2:\n",
    "                labels.append(0)\n",
    "            else:\n",
    "                labels.append(-1)\n",
    "        df[\"Label\"] = labels\n",
    "        #  Need to shuffle because just ranked them by deal count or whatever the metric is...\n",
    "        df = df.sample(frac=1).reset_index(drop=True)\n",
    "    else: \n",
    "        print(\"Invalid percentile requested to create labels by \")\n",
    "    return dataset\n",
    "\n",
    "# Generates labels by ranking by the passed in metric, then dividing into quintiles.\n",
    "def assignLabelsByQuintiles(employees, metric):\n",
    "    employees_labelled = employees.copy()\n",
    "    employees_labelled = employees_labelled.sort_values([metric], ascending=False)\n",
    "    fifth = math.floor(len(employees_labelled) / 5)\n",
    "    num = 2\n",
    "    labels = []\n",
    "    for x in range(5):\n",
    "        for y in range(fifth):\n",
    "            labels.append(num)\n",
    "        num -= 1\n",
    "    employees_labelled[\"Label\"] = labels\n",
    "    employees_labelled = employees_labelled.sample(frac=1).reset_index(drop=True)\n",
    "    return employees_labelled\n",
    "\n",
    "def assignLabelsByPercentile(employees, metric, percentile):\n",
    "    employees_labelled = employees.copy()\n",
    "    employees_labelled = employees_labelled.sort_values([metric], ascending=False)\n",
    "    nths = math.floor(len(employees_labelled) / percentile)\n",
    "    num = percentile - 1\n",
    "    for x in range(num):\n",
    "        for y in range(nths):\n",
    "            labels.append(num)\n",
    "        num -= 1\n",
    "    while (len(labels) != len(employees)):\n",
    "        labels.append(np.random.choice(percentile-1))\n",
    "    employees_labelled[\"Label\"] = labels \n",
    "    employees_labelled = employees_labelled.sample(frac=1).rest_index(drop=True)\n",
    "    \n",
    "# Generates labels by ranking by the passed in metric, then dividing into quintiles.\n",
    "def discretize(vector, range):\n",
    "    newRange = range\n",
    "    vals = [range]\n",
    "    x = True\n",
    "    while(x):\n",
    "        range -= 1\n",
    "        if abs(range) <= newRange:\n",
    "            vals.append(range)\n",
    "        else:\n",
    "            x=False\n",
    "    roundedVals = []\n",
    "    for x in vector:\n",
    "        newVal = int(x)\n",
    "        if abs(newVal) > newRange:\n",
    "            # if greater than the newRange:\n",
    "            if newVal < 0:\n",
    "                newVal = -1*newRange\n",
    "            else:\n",
    "                newVal = 1*newRange\n",
    "        roundedVals.append(newVal)\n",
    "    return roundedVals"
   ]
  },
  {
   "cell_type": "markdown",
   "metadata": {},
   "source": [
    "# Milestone 2: \n",
    "\n",
    "## Exercise 2:\n",
    "\n",
    "Ok, so in this exercise your team is going to get an introduction to classifiers!\n",
    "\n",
    "- So in the last exercise we implemented a linear regression algorithm and used the results to rank individuals then select them based on a percentile cutoff. We attempted to analyze performance through conventional metrics like R^2 and MSE but also considered this notion of differential validity. Another way we may seek to try and select candidates is through a classification approach similar to what we did in the nearest neighbors model in the first milestone. \n",
    "- In this task we'll ask you to go ahead and run the model, then analyze its results through a series of performance and fairness metrics.  \n",
    "- Finally we'll ask you to consider deficiencies in the approach and from where these deficiencies likely arise.\n",
    "- Then your team can optionally iterate to tweak various aspects of the model though you will get the opportunity to do this at length in the final exercise.\n"
   ]
  },
  {
   "cell_type": "markdown",
   "metadata": {},
   "source": [
    "## A Classification Approach through k Nearest Neighbors\n",
    "\n",
    "Recall that in the nearest neighbor algorithm in Milestone 1, we found the one employee that had the smallest \"distance\" to the candidate in terms of the selected features' values.  Then whatever label the employee had was the one we assigned to the candidate. kNN is a generalization of that. We basically say, hey look, instead of just looking at the single closest employees, lets look at the 3/4/5 closest ones and see what labels they have. Then of those 3/4/5 labels, whichever label is most common is the one we assign to the candidate. \n",
    "\n",
    "For example if k = 4, then we look at the 4 \"nearest\" employees to candidate X. If 3 of the 4 nearest employees to candidate X have a label of \"Excellent\" then we predict that the employee will be \"Excellent\".  This is supposed to be far more robust than nearest neighbor where k=1, because it avoids the scenario where the single closest employee is perhaps an outlier, therefore assigning an incorrect label to candidate X. Note that the nearest neighbor model is just kNN but that k = 1!\n",
    "\n",
    "For this first part of the task we've already selected and scaled the features for you for the sake of\n",
    "convenience. Based on your understanding of the dataset and its features, please do consider what potential issues may arise from the features that we have chosen to select."
   ]
  },
  {
   "cell_type": "markdown",
   "metadata": {},
   "source": [
    "### Subtask: Warmup (OPTIONAL):\n",
    "- You should have already familiarized yourself with the dataset in the last exercise but feel free to use the code below to analyze the dataset again. You can use it to plot a particular feature's values in the dataset against the performance colored by protected group.\n",
    "- If you want to study other aspects of the dataset feel free to look back to exercise 1 of the milestone and copy over some of those methods to the cell block below for use!"
   ]
  },
  {
   "cell_type": "code",
   "execution_count": 6,
   "metadata": {},
   "outputs": [],
   "source": [
    "# Loading the dataset\n",
    "employees = pd.read_csv(\"../Employees_M2/employees_milestone2.csv\")\n",
    "candidates = pd.read_csv(\"../Candidates_M2/candidates_milestone2.csv\")\n",
    "# employeeData.info()"
   ]
  },
  {
   "cell_type": "code",
   "execution_count": 7,
   "metadata": {},
   "outputs": [
    {
     "data": {
      "image/png": "[encoded data removed]",
      "text/plain": [
       "<Figure size 432x288 with 1 Axes>"
      ]
     },
     "metadata": {
      "needs_background": "light"
     },
     "output_type": "display_data"
    }
   ],
   "source": [
    "##########################\n",
    "# DATASET ANALYSIS TOOLS #\n",
    "##########################\n",
    "\n",
    "def plotFeatureToPerformance(dataset, feature, metric, protectedClass, val=None):\n",
    "    \n",
    "    df = dataset.copy()\n",
    "    if val != None:\n",
    "        if len(val) == 1:\n",
    "            df = df.loc[(df[protectedClass] == val[0])]\n",
    "        elif len(val) == 2:\n",
    "            df = df.loc[(df[protectedClass]== val[0]) | (df[protectedClass]== val[1])]\n",
    "\n",
    "    df = df[[feature, metric, protectedClass]]\n",
    "\n",
    "    groups = df.groupby(protectedClass)\n",
    "\n",
    "    for name, group in groups:\n",
    "        plt.plot(group[feature], group[metric], marker=\"x\", linestyle=\"\", label=name)\n",
    "        \n",
    "    plt.xlabel(feature)\n",
    "    plt.ylabel(metric)\n",
    "    plt.legend()\n",
    "    \n",
    "feature = \"Educational Prestige\"# INSERT A FEATURE #\n",
    "metric = \"Manager's Assessment Score\"# SELECT A METRIC #\n",
    "protectedClass =  \"Race\"# INSERT A PROTECTED CLASS # \n",
    "plotFeatureToPerformance(candidates, feature, metric, protectedClass)\n",
    "# plotFeatureToPerformance(candidates, feature, metric, protectedClass) "
   ]
  },
  {
   "cell_type": "markdown",
   "metadata": {},
   "source": [
    "### Subtask: Data Pre-processing & Prepation"
   ]
  },
  {
   "cell_type": "code",
   "execution_count": 8,
   "metadata": {},
   "outputs": [
    {
     "name": "stdout",
     "output_type": "stream",
     "text": [
      "<class 'pandas.core.frame.DataFrame'>\n",
      "RangeIndex: 10000 entries, 0 to 9999\n",
      "Columns: 1120 entries, Names to Race\n",
      "dtypes: float64(14), int64(2), object(2), uint8(1102)\n",
      "memory usage: 11.9+ MB\n"
     ]
    }
   ],
   "source": [
    "# RUN THIS CELL (0 Lines) #\n",
    "# One-hotting the dataset for use #\n",
    "features = [\"Race\", \"Gender\", \"Birth Origin\", \"Criminal Record\", \"Sports\",\n",
    "           \"Arrest Record\", \"LinkedIn Score\", \"Responsible Social Media Use\", \"Undergraduate Degree\", \"Employee Referral\"]\n",
    "prefixes = [\"race\", \"gender\", \"origin\", \"criminal\", \"sports\", \"arrest\", \"linkedin\", \n",
    "           \"socmedia\", \"degree\", \"referral\"]\n",
    "employees_race = employees[\"Race\"]\n",
    "candidates_race = candidates[\"Race\"]\n",
    "employees_processed = getOnehottedDataset(employees, features, prefixes)\n",
    "employees_processed[\"Race\"] = employees_race\n",
    "candidates_processed = getOnehottedDataset(candidates, features, prefixes)\n",
    "candidates_processed[\"Race\"] = candidates_race\n",
    "employees_processed.info()\n",
    "# RUN THIS CELL #"
   ]
  },
  {
   "cell_type": "code",
   "execution_count": 9,
   "metadata": {},
   "outputs": [],
   "source": [
    "# RUN THIS CELL (0 Lines) #\n",
    "selectedFeatures = [\n",
    "    \"GPA\", \"Education\", \"Educational Prestige\", \"Years of Experience\", \"Soft Skills\",\n",
    "]\n",
    "\n",
    "metric = \"Manager's Assessment Score\"\n",
    "# RUN THIS CELL #"
   ]
  },
  {
   "cell_type": "markdown",
   "metadata": {},
   "source": [
    "Ok we've selected features to use and a metric for you to experiment with the model. Your team will have the chance to improve it in just a bit.\n",
    "\n",
    "Recall that the former regression algorithm's utilization of the \"Manager's Assessment Score\" made a lot of sense because the Assesment score was a continuous value. Linear Regression was thus a great first choice. But now with classification, we need to have labels, or categories that we are trying to get our model to learn how to predict based on the sample's input. In order to do this, similar to the methods we used in Milestone 1 Exercise 3, we'll artificially generate labels by dividing the samples into quintiles based on their manager's assessment score. \n",
    "\n",
    "Your team will get to choose your own method of label generation in future parts!"
   ]
  },
  {
   "cell_type": "code",
   "execution_count": 10,
   "metadata": {},
   "outputs": [
    {
     "name": "stdout",
     "output_type": "stream",
     "text": [
      "The mean of GPA for employees with -2 is 2.628025000000001\n",
      "The median of GPA for employees with-2 is 2.63\n",
      "\n",
      "The mean of GPA for employees with -1 is 2.8347700000000007\n",
      "The median of GPA for employees with-1 is 2.83\n",
      "\n",
      "The mean of GPA for employees with 0 is 2.9961400000000036\n",
      "The median of GPA for employees with0 is 3.0\n",
      "\n",
      "The mean of GPA for employees with 1 is 3.1376899999999974\n",
      "The median of GPA for employees with1 is 3.13\n",
      "\n",
      "The mean of GPA for employees with 2 is 3.3851149999999945\n",
      "The median of GPA for employees with2 is 3.38\n",
      "\n"
     ]
    }
   ],
   "source": [
    "# RUN THIS CELL (0 Lines) #\n",
    "# Used as a sanity check for the label generation - features that are predictive should have a meaningful difference in their\n",
    "# mean, median, and/or variance, across distinct label groups.\n",
    "\n",
    "# @params: the dataset, the metric you want to generate labels for, and a feature of interest\n",
    "# @return: prints out the mean and median values per feature per label value of the dataset\n",
    "# of each label value\n",
    "\n",
    "def printStats(employees, label, features):\n",
    "    df = employees.copy()\n",
    "    \n",
    "    label_vals = df[label].unique()\n",
    "    label_vals.sort()\n",
    "    \n",
    "    for feature in features:\n",
    "        for label_val in label_vals:\n",
    "            \n",
    "            selectedFeature = df.loc[(df[label] == label_val)][feature]\n",
    "            print(\"The mean of \" + feature + \" for employees with \" + str(label_val) + \" is\", selectedFeature.mean())\n",
    "            print(\"The median of \" + feature + \" for employees with\" + str(label_val) + \" is\", selectedFeature.median())\n",
    "            print(\"\")\n",
    "                       \n",
    "employees_processed = assignLabelsByQuintiles(employees_processed, metric)\n",
    "printStats(employees_processed, \"Label\", [\"GPA\"])\n",
    "# RUN THIS CELL (0 Lines) #"
   ]
  },
  {
   "cell_type": "markdown",
   "metadata": {},
   "source": [
    "#### Normalization & Train-Test Split"
   ]
  },
  {
   "cell_type": "code",
   "execution_count": 12,
   "metadata": {},
   "outputs": [],
   "source": [
    "# RUN THIS CELL (0 Lines) #\n",
    "employees_scaled = employees_processed  # No normalization, will use MinMaxScaler\n",
    "\n",
    "y = employees_scaled[\"Label\"]\n",
    "X = employees_scaled.drop([\"Label\"], axis=1)\n",
    "X_train, X_test, y_train, y_test = train_test_split(X, y, random_state=50)\n",
    "\n",
    "X_train_selectedFeatures = X_train[selectedFeatures].copy()\n",
    "X_test_selectedFeatures = X_test[selectedFeatures].copy()\n",
    "\n",
    "def rescaling(X):\n",
    "#     print(X)\n",
    "    scaler = MinMaxScaler()\n",
    "    scaler.fit(X)\n",
    "    data = scaler.transform(X)\n",
    "    return data\n",
    "\n",
    "X_scaled_train = rescaling(X_train_selectedFeatures)\n",
    "# RUN THIS CELL (0 Lines) #"
   ]
  },
  {
   "cell_type": "markdown",
   "metadata": {},
   "source": [
    "### Subtask: Model Training & Initial Performance\n",
    "\n",
    "Great! So its time to train the model and evaluate its performance on the train and test sets. In classification the performance metrics are actually way more intuitive than what we came across in regression analysis. That's because since we're predicting a label as opposed to a continuous score, we can use common-sense notions like accuracy to evaluate our model. \n",
    "\n",
    "However, in addition to accuracy we also want to introduce you to two new concepts, Precision and Recall. These are two additional measures used in classification task to measure the relative ratio of false positives and the relate ratio of false negatives. \n",
    "\n",
    "A false positive, in our case would be labelling an unqualified candidate as qualified.\n",
    "A false negative, would be labelling an qualified candidate as unqualified.  \n",
    "\n",
    "Note that based on our labelGeneration and subsequent determinations, qualified and unqualified are still up to us.\n",
    "On the extremes we can label every qualified, so we'd have zero false negatives or we can label everyone as unqualified so we have zero false positives.\n",
    "\n",
    "To formalize our performance metrics we have the following!\n",
    "    - Accuracy = TP + TN / TP + TN + FN + FP\n",
    "    - Precision = TP / TP + FP.\n",
    "    - Recall = TP / TP + FN. "
   ]
  },
  {
   "cell_type": "code",
   "execution_count": 13,
   "metadata": {},
   "outputs": [],
   "source": [
    "# RUN THIS CELL (0 Lines) #\n",
    "# Trains the model\n",
    "neigh = KNeighborsClassifier(n_neighbors=4, metric=\"minkowski\", p=3)\n",
    "knn_model = neigh.fit(X_scaled_train, y_train)\n",
    "# RUN THIS CELL #"
   ]
  },
  {
   "cell_type": "code",
   "execution_count": 14,
   "metadata": {},
   "outputs": [
    {
     "name": "stdout",
     "output_type": "stream",
     "text": [
      "{2: 1340, 1: 1503, -2: 1623, 0: 1537, -1: 1497}\n",
      "The accuracy of our model on the data is:  0.8552\n",
      "The precision of our model on the data is:  0.855120376054256\n",
      "The recall of our model on the data is:  0.8572099983993023\n"
     ]
    }
   ],
   "source": [
    "# RUN THIS CELL (0 Lines) #\n",
    "# Passed-in model predicts on X. Resultant, accuracy\n",
    "# more intuitive performance metrics like accuracy, precision, and recall on X is printed.\n",
    "# @params fitted model => model, dataset of candidates with selectedFeatures => X, labels of X candidates.\n",
    "def getModelStats(model, X, y):\n",
    "    y_pred = model.predict(X)\n",
    "    vals = {}\n",
    "    for x in range(len(y_pred)):\n",
    "        if y_pred[x] not in vals:\n",
    "            vals.update({y_pred[x]: 1})\n",
    "        else: \n",
    "            vals[y_pred[x]] += 1\n",
    "    print(vals)\n",
    "    \n",
    "    print(\"The accuracy of our model on the data is: \", accuracy_score(y_pred, y))\n",
    "    print(\"The precision of our model on the data is: \", precision_score(y_pred, y, average='macro'))\n",
    "    print(\"The recall of our model on the data is: \", recall_score(y_pred, y, average='macro'))\n",
    "    # print(\"The f1 score of our model on the data is: \", f1_score(y_pred, y, average='macro'))\n",
    "\n",
    "    \n",
    "# Evaluates model performance\n",
    "getModelStats(knn_model, X_scaled_train, y_train)\n",
    "# RUN THIS CELL #"
   ]
  },
  {
   "cell_type": "markdown",
   "metadata": {},
   "source": [
    "### Subtask: Analyzing Fairness\n",
    "\n",
    "In the last exercise, we analyzed fairness through the lens of differential validity and selection rates, or disparate impact. But because we are not in the realm of classification as opposed to regression we have more ways in which we can evaluate the fairness of our algorithm.  The driving concepts behind the fairness concepts we'll review here are in balancing certain rates.\n",
    "\n",
    "#### Part A: \n",
    "We might want to check these metrics for a certain protected group. We can do this using the function select persons in class. See the example usage below!"
   ]
  },
  {
   "cell_type": "code",
   "execution_count": 19,
   "metadata": {},
   "outputs": [
    {
     "name": "stdout",
     "output_type": "stream",
     "text": [
      "Num of rows of ppl who are Asian: 1500\n",
      "{0: 294, -1: 289, 1: 296, -2: 354, 2: 267}\n",
      "The accuracy of our model on the data is:  0.7993333333333333\n",
      "The precision of our model on the data is:  0.8001357354378111\n",
      "The recall of our model on the data is:  0.8007657286184535\n"
     ]
    }
   ],
   "source": [
    "# RUN THIS CELL (1 Line) #\n",
    "# Takes the dataset and returns all members in the dataset whose protectedClass is of the value\n",
    "# For example, if protectedClass=race and value=\"African-American\", returns all African-Americans in the dataset.\n",
    "def selectPersonsInClass(data, protectedClass, value):\n",
    "    df = data.loc[(data[protectedClass] == value)]\n",
    "    print(\"Num of rows of ppl who are %s:\"% (value ,), len(df))\n",
    "    return df\n",
    "\n",
    "x_class = selectPersonsInClass(employees_scaled, \"Race\", \"Asian\") # Examine per protectedClass! #\n",
    "y_class = x_class[\"Label\"]\n",
    "x_class_selectedFeatures = rescaling(x_class[selectedFeatures].copy())\n",
    "getModelStats(knn_model, x_class_selectedFeatures, y_class)\n",
    "# RUN THIS CELL (1 Lines) #"
   ]
  },
  {
   "cell_type": "markdown",
   "metadata": {},
   "source": [
    "##### Question: \n",
    "- In the context of hiring, discuss with your team what you believe is worse, a poor Recall, or a poor Precision?\n",
    "- What context might be helpful to have in answering that question? "
   ]
  },
  {
   "cell_type": "markdown",
   "metadata": {},
   "source": [
    "#### Part B: \n",
    "In addition to examining the distinct accuracy, precision, and recall among different groups. Some additional fairness metrics can be utilized.  We might wonder if the false positive and false negative rates are balanced among the groups.  We can calculate this by having our \"fitted\" model make predictions on the employees in our dataset, and printing out a confusion matrix.\n",
    "\n",
    "A confusion matrix is a helpful tool in analyzing a classification algorithm's performance. It enumerates the number of True Positives, True Negatives, False Positives, False Negatives in the model's predictions. By doing so we can calculate the following useful metrics below among each class.\n",
    "\n",
    "- False Positive Rate = False Positives / False Positives + True Negative\n",
    "- False Negative Rate = False Negatives / False Negative + True Positive\n",
    "\n",
    "As an interesting aside here, in addition to another well-known fairness metric named calibration, or statistical parity. It was shown that one could not simultaneously satisfy calibration, a balanced false positivity, and a balanced false negative rate so long as there was a disproportionate balance in the distribution of groups."
   ]
  },
  {
   "cell_type": "code",
   "execution_count": 22,
   "metadata": {
    "scrolled": true
   },
   "outputs": [
    {
     "name": "stdout",
     "output_type": "stream",
     "text": [
      "Num of rows of ppl who are Caucasian: 5500\n",
      "This is the confusion matrix for the inputted datapoints\n",
      "Predicted    -2    -1     0     1    2   All\n",
      "True                                        \n",
      "-2         1024    64     3     0    0  1091\n",
      "-1          245   800    75     0    0  1120\n",
      "0             1   326   718    64    1  1110\n",
      "1             0     8   355   695   56  1114\n",
      "2             0     0     7   276  782  1065\n",
      "All        1270  1198  1158  1035  839  5500\n",
      "\n",
      "The false positive rate for each label is the following: \n",
      "{-2: 0.055794964844635975, -1: 0.0908675799086758, 0: 0.10022779043280182, 1: 0.07751937984496124, 2: 0.012852311161217588}\n",
      "The false negative rate for each label is the following: \n",
      "{-2: 0.0614115490375802, -1: 0.2857142857142857, 0: 0.35315315315315315, 1: 0.3761220825852783, 2: 0.26572769953051645}\n"
     ]
    }
   ],
   "source": [
    "def getRates(model, x, y):\n",
    "    y_true = y\n",
    "    y_prediction = model.predict(x)\n",
    "    cnf_matrix = confusion_matrix(y_true, y_prediction)\n",
    "    \n",
    "    uniq_values = np.unique(y_true)\n",
    "    \n",
    "    print(\"This is the confusion matrix for the inputted datapoints\")\n",
    "    labelled_matrix = pd.crosstab(y_true, y_prediction, rownames=['True'], colnames=['Predicted'], margins=True)\n",
    "    print(labelled_matrix)\n",
    "    #[[1 1 3]\n",
    "    # [3 2 2]\n",
    "    # [1 3 1]]\n",
    "    print(\"\")\n",
    "\n",
    "    FP = cnf_matrix.sum(axis=0) - np.diag(cnf_matrix)  \n",
    "    FN = cnf_matrix.sum(axis=1) - np.diag(cnf_matrix)\n",
    "    TP = np.diag(cnf_matrix)\n",
    "    TN = cnf_matrix.sum() - (FP + FN + TP)\n",
    "\n",
    "    FP = FP.astype(float)\n",
    "    FN = FN.astype(float)\n",
    "    TP = TP.astype(float)\n",
    "    TN = TN.astype(float)\n",
    "\n",
    "    # Sensitivity, hit rate, recall, or true positive rate\n",
    "#     TPR = TP/(TP+FN)\n",
    "    # Specificity or true negative rate\n",
    "#     TNR = TN/(TN+FP) \n",
    "#     Precision or positive predictive value\n",
    "#     PPV = TP/(TP+FP)\n",
    "    # Negative predictive value\n",
    "#     NPV = TN/(TN+FN)\n",
    "    # Fall out or false positive rate\n",
    "    FPR = FP/(FP+TN)\n",
    "    print(\"The false positive rate for each label is the following: \")\n",
    "    fprs = {uniq_values[x]: FPR[x] for x in range(len(uniq_values))}\n",
    "    print(fprs)\n",
    "    # False negative rate\n",
    "    FNR = FN/(TP+FN)\n",
    "    print(\"The false negative rate for each label is the following: \")\n",
    "    fnrs = {uniq_values[x]: FNR[x] for x in range(len(uniq_values))}\n",
    "    print(fnrs)\n",
    "    # False discovery rate\n",
    "#     FDR = FP/(TP+FP)\n",
    "    # Overall accuracy\n",
    "#     ACC = (TP+TN)/(TP+FP+FN+TN)\n",
    "\n",
    "# RUN THIS CELL (1 Line) #\n",
    "x_class = selectPersonsInClass(employees_scaled, \"Race\", \"Caucasian\") # Examine per protectedClass! #\n",
    "y_class = x_class[\"Label\"]\n",
    "x_class_selectedFeatures = rescaling(x_class[selectedFeatures].copy()) # Don't forget to re-scale!\n",
    "getRates(knn_model, x_class_selectedFeatures, y_class)\n",
    "# RUN THIS CELL (1 Lines) #"
   ]
  },
  {
   "cell_type": "markdown",
   "metadata": {},
   "source": [
    "#### Question:\n",
    "- In the context of statutory liability, can these metrics be relevant?\n",
    "- How might you be able to use these metrics in litigation as Counsel to the EEOC? Or how might you use them as Counsel to Sprawlmart?"
   ]
  },
  {
   "cell_type": "markdown",
   "metadata": {},
   "source": [
    "### Subtask: Deploying to Production on our Candidates\n",
    "\n",
    "Ok, you've successfully run through the models and examined base levels of performance from a standpoint of a variety of metrics. You're well on your way to becoming a lawyer data-scientist! You should also have an intuition for how the general pipeline of model development might go in a generality.\n",
    "\n",
    "However, after model tweaking and testing on our inital train and test sets, it's time to actually deploy this trained model on our 500 or so candidates. Note that since these are not employees we don't actually have the key \"ground-truth\" metrics that we were using to create labels for our models to try and predict.  The point is that we have developed a model with features that all the candidates have and we make our prediction (\"assign a label\") based on a relative total distance measure (in the case of kNN)\n",
    "\n",
    "One problem is that we again have to develop some sort of selection criteria.  Should we bring in the top two quintiles, just the top quintile? If we're using different labels, then we might need to change that selection strategy. This is what constitutes the \"hiring\" in our algorithm.\n",
    "\n",
    "In this case we've decided to divide our employees into 6 labels by \"sixth-tiles\", we'll select the candidates that get assigned the top \"sixth\" label."
   ]
  },
  {
   "cell_type": "code",
   "execution_count": 23,
   "metadata": {},
   "outputs": [
    {
     "name": "stdout",
     "output_type": "stream",
     "text": [
      "The selection rate for Caucasians:  0.20654545454545453\n",
      "The selection rate for Asians:  0.22666666666666666\n",
      "The selection rate for African-Americans:  0.18285714285714286\n",
      "The selection rate for Hispanics:  0.188\n"
     ]
    },
    {
     "data": {
      "image/png": "[encoded data removed]",
      "text/plain": [
       "<Figure size 432x288 with 1 Axes>"
      ]
     },
     "metadata": {
      "needs_background": "light"
     },
     "output_type": "display_data"
    }
   ],
   "source": [
    "# RUN THIS CELL (0 Lines) #\n",
    "# Ok, lets run it on the candidate dataset!\n",
    "# X_candidates = candidates_processed[selectedFeatures].copy()\n",
    "x_candidates = rescaling(candidates_processed[selectedFeatures].copy())\n",
    "candidate_labels = knn_model.predict(x_candidates)\n",
    "\n",
    "candidatesSelected = classificationSelection(candidates_processed, candidate_labels, 2)\n",
    "\n",
    "graphSelectionRates(candidatesSelected, candidates_processed, \"race\")\n",
    "# RUN THIS CELL (0 Lines) #"
   ]
  },
  {
   "cell_type": "markdown",
   "metadata": {},
   "source": [
    "#### Guiding Questions:\n",
    "- Is there a disparate impact? If there is, what do you believe in the dataset or algorithm is causing that bias?\n",
    "- Would a business necessity defense be sufficient to justify the bias?\n",
    "- How would you attempt to improve the approach?\n",
    "- Are there particular race-aware corrections that could be utilized here to mitigate the bias?"
   ]
  },
  {
   "cell_type": "code",
   "execution_count": null,
   "metadata": {},
   "outputs": [],
   "source": []
  }
 ],
 "metadata": {
  "kernelspec": {
   "display_name": "Python 3",
   "language": "python",
   "name": "python3"
  },
  "language_info": {
   "codemirror_mode": {
    "name": "ipython",
    "version": 3
   },
   "file_extension": ".py",
   "mimetype": "text/x-python",
   "name": "python",
   "nbconvert_exporter": "python",
   "pygments_lexer": "ipython3",
   "version": "3.7.7"
  }
 },
 "nbformat": 4,
 "nbformat_minor": 4
}
