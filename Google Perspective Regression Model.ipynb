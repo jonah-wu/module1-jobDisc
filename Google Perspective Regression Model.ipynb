{
 "cells": [
  {
   "cell_type": "code",
   "execution_count": 8,
   "metadata": {},
   "outputs": [],
   "source": [
    "import requests\n",
    "import json\n",
    "import csv\n",
    "import pandas as pd"
   ]
  },
  {
   "cell_type": "code",
   "execution_count": 9,
   "metadata": {},
   "outputs": [],
   "source": [
    "# Given a text pulls score from Perspective API\n",
    "def eval_text(text):\n",
    "    # This is the URL which Perspective API requests go to.\n",
    "    PERSPECTIVE_URL = 'https://commentanalyzer.googleapis.com/v1alpha1/comments:analyze'\n",
    "    key = \"\"; # TODO: fill this in with your Perspective API Key!\n",
    "    url = PERSPECTIVE_URL + '?key=' + key\n",
    "    data_dict = {\n",
    "            'comment': {'text': text},\n",
    "                'languages': ['en'],\n",
    "                    # This dictionary specifies which attributes you care about. You are welcome to (and should) add more.\n",
    "                    # The full list can be found at: https://github.com/conversationai/perspectiveapi/blob/master/2-api/models.md\n",
    "                    'requestedAttributes': { 'TOXICITY': {}, 'PROFANITY': {},'INSULT': {}, 'SEVERE_TOXICITY': {}, \n",
    "                    'SEXUALLY_EXPLICIT': {}, 'FLIRTATION': {}, 'THREAT': {}, 'IDENTITY_ATTACK': {}},\n",
    "                        'doNotStore': True\n",
    "                }\n",
    "    response = requests.post(url, data=json.dumps(data_dict))\n",
    "\n",
    "    response_dict = response.json()\n",
    "    #print(response_dict)\n",
    "\n",
    "    score_dict = {}\n",
    "\n",
    "    tox_score = response_dict['attributeScores']['TOXICITY']['spanScores'][0]['score']['value']\n",
    "    score_dict.update({'TOXICITY':tox_score})\n",
    "\n",
    "    ins_score = response_dict['attributeScores']['INSULT']['spanScores'][0]['score']['value']\n",
    "    score_dict.update({'TOXICITY':tox_score})\n",
    "\n",
    "    sev_tox_score = response_dict['attributeScores']['SEVERE_TOXICITY']['spanScores'][0]['score']['value']\n",
    "    score_dict.update({'SEVERE_TOXICITY':sev_tox_score})\n",
    "\n",
    "    prof_score = response_dict['attributeScores']['PROFANITY']['spanScores'][0]['score']['value']\n",
    "    score_dict.update({'PROFANITY':prof_score})\n",
    "\n",
    "    sex_score = response_dict['attributeScores']['SEXUALLY_EXPLICIT']['spanScores'][0]['score']['value']\n",
    "    score_dict.update({'SEXUALLY_EXPLICIT':sex_score})\n",
    "\n",
    "    flir_score = response_dict['attributeScores']['FLIRTATION']['spanScores'][0]['score']['value']\n",
    "    score_dict.update({'FLIRTATION':flir_score})\n",
    "\n",
    "    threat_score = response_dict['attributeScores']['THREAT']['spanScores'][0]['score']['value']\n",
    "    score_dict.update({'THREAT':threat_score})\n",
    "\n",
    "    iden_score = response_dict['attributeScores']['IDENTITY_ATTACK']['spanScores'][0]['score']['value']\n",
    "    score_dict.update({'IDENTITY_ATTACK':iden_score})\n",
    "    return score_dict"
   ]
  },
  {
   "cell_type": "code",
   "execution_count": 10,
   "metadata": {},
   "outputs": [
    {
     "ename": "KeyError",
     "evalue": "'attributeScores'",
     "output_type": "error",
     "traceback": [
      "\u001b[0;31m---------------------------------------------------------------------------\u001b[0m",
      "\u001b[0;31mKeyError\u001b[0m                                  Traceback (most recent call last)",
      "\u001b[0;32m<ipython-input-10-e0fdcd716742>\u001b[0m in \u001b[0;36m<module>\u001b[0;34m\u001b[0m\n\u001b[1;32m      1\u001b[0m \u001b[0;31m#### --- Input Text for Perspective's Classifier to evaluate --- ####\u001b[0m\u001b[0;34m\u001b[0m\u001b[0;34m\u001b[0m\u001b[0;34m\u001b[0m\u001b[0m\n\u001b[1;32m      2\u001b[0m \u001b[0mphrase\u001b[0m \u001b[0;34m=\u001b[0m \u001b[0;34m\"<User Input>\"\u001b[0m\u001b[0;34m\u001b[0m\u001b[0;34m\u001b[0m\u001b[0m\n\u001b[0;32m----> 3\u001b[0;31m \u001b[0meval_text\u001b[0m\u001b[0;34m(\u001b[0m\u001b[0mphrase\u001b[0m\u001b[0;34m)\u001b[0m\u001b[0;34m\u001b[0m\u001b[0;34m\u001b[0m\u001b[0m\n\u001b[0m",
      "\u001b[0;32m<ipython-input-9-eefa280c900e>\u001b[0m in \u001b[0;36meval_text\u001b[0;34m(text)\u001b[0m\n\u001b[1;32m     21\u001b[0m     \u001b[0mscore_dict\u001b[0m \u001b[0;34m=\u001b[0m \u001b[0;34m{\u001b[0m\u001b[0;34m}\u001b[0m\u001b[0;34m\u001b[0m\u001b[0;34m\u001b[0m\u001b[0m\n\u001b[1;32m     22\u001b[0m \u001b[0;34m\u001b[0m\u001b[0m\n\u001b[0;32m---> 23\u001b[0;31m     \u001b[0mtox_score\u001b[0m \u001b[0;34m=\u001b[0m \u001b[0mresponse_dict\u001b[0m\u001b[0;34m[\u001b[0m\u001b[0;34m'attributeScores'\u001b[0m\u001b[0;34m]\u001b[0m\u001b[0;34m[\u001b[0m\u001b[0;34m'TOXICITY'\u001b[0m\u001b[0;34m]\u001b[0m\u001b[0;34m[\u001b[0m\u001b[0;34m'spanScores'\u001b[0m\u001b[0;34m]\u001b[0m\u001b[0;34m[\u001b[0m\u001b[0;36m0\u001b[0m\u001b[0;34m]\u001b[0m\u001b[0;34m[\u001b[0m\u001b[0;34m'score'\u001b[0m\u001b[0;34m]\u001b[0m\u001b[0;34m[\u001b[0m\u001b[0;34m'value'\u001b[0m\u001b[0;34m]\u001b[0m\u001b[0;34m\u001b[0m\u001b[0;34m\u001b[0m\u001b[0m\n\u001b[0m\u001b[1;32m     24\u001b[0m     \u001b[0mscore_dict\u001b[0m\u001b[0;34m.\u001b[0m\u001b[0mupdate\u001b[0m\u001b[0;34m(\u001b[0m\u001b[0;34m{\u001b[0m\u001b[0;34m'TOXICITY'\u001b[0m\u001b[0;34m:\u001b[0m\u001b[0mtox_score\u001b[0m\u001b[0;34m}\u001b[0m\u001b[0;34m)\u001b[0m\u001b[0;34m\u001b[0m\u001b[0;34m\u001b[0m\u001b[0m\n\u001b[1;32m     25\u001b[0m \u001b[0;34m\u001b[0m\u001b[0m\n",
      "\u001b[0;31mKeyError\u001b[0m: 'attributeScores'"
     ]
    }
   ],
   "source": [
    "#### --- Input Text for Perspective's Classifier to evaluate --- ####\n",
    "phrase = \"<User Input>\"\n",
    "eval_text(phrase)"
   ]
  },
  {
   "cell_type": "code",
   "execution_count": null,
   "metadata": {},
   "outputs": [],
   "source": []
  }
 ],
 "metadata": {
  "kernelspec": {
   "display_name": "Python 3",
   "language": "python",
   "name": "python3"
  },
  "language_info": {
   "codemirror_mode": {
    "name": "ipython",
    "version": 3
   },
   "file_extension": ".py",
   "mimetype": "text/x-python",
   "name": "python",
   "nbconvert_exporter": "python",
   "pygments_lexer": "ipython3",
   "version": "3.7.7"
  }
 },
 "nbformat": 4,
 "nbformat_minor": 4
}
