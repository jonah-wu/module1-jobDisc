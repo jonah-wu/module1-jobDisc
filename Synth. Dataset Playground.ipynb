{
 "cells": [
  {
   "cell_type": "code",
   "execution_count": 3,
   "metadata": {},
   "outputs": [],
   "source": [
    "import pandas as pd\n",
    "import numpy as np\n",
    "from sklearn import datasets"
   ]
  },
  {
   "cell_type": "code",
   "execution_count": 6,
   "metadata": {},
   "outputs": [],
   "source": [
    "# Build the list of features we desire to include in our rough hiring platform data\n",
    "# Put yourself in pymetrics' shoes where a Fortune 500 comes to them and asks them to evaluate the following candidates for \n",
    "# a entry-level product management / business analyst / sales associate position.\n",
    "# given their employee selection tests.\n",
    "\n",
    "# What data parameters would enable you to make the best decision?\n",
    "# Level of education, GPA, technical aptitude, soft skills, cultural fit, average commute time, address, languagues, years of work experience, number of \n",
    "# companies worked for, average stay at each company, past recommendations, Employee Referral, awards from previous work, race, gender, leadership experience, criminal history, \n",
    "# LinkedIn profile score, Instagram/Facebook/Twitter content is reasonable. \n",
    "\n",
    "Features = [\"GPA\", \"Avg Commute Time\", \"Cultural Fit\", \"Technical Aptitude\", \"Soft Skills\", \"Employee Referral\"]\n",
    "dataset = pd.DataFrame()"
   ]
  },
  {
   "cell_type": "code",
   "execution_count": null,
   "metadata": {},
   "outputs": [],
   "source": []
  }
 ],
 "metadata": {
  "kernelspec": {
   "display_name": "Python 3",
   "language": "python",
   "name": "python3"
  },
  "language_info": {
   "codemirror_mode": {
    "name": "ipython",
    "version": 3
   },
   "file_extension": ".py",
   "mimetype": "text/x-python",
   "name": "python",
   "nbconvert_exporter": "python",
   "pygments_lexer": "ipython3",
   "version": "3.7.7"
  }
 },
 "nbformat": 4,
 "nbformat_minor": 4
}
