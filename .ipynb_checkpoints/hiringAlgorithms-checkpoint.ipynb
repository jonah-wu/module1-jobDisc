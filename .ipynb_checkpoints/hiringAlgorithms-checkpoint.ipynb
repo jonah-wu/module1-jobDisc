{
 "cells": [
  {
   "cell_type": "code",
   "execution_count": 1,
   "metadata": {},
   "outputs": [],
   "source": [
    "import pandas as pd\n",
    "import names\n",
    "import numpy as np\n",
    "from sklearn import datasets\n",
    "from collections import defaultdict\n",
    "from scipy.stats import truncnorm\n",
    "import matplotlib.pyplot as plt\n",
    "import random"
   ]
  },
  {
   "cell_type": "code",
   "execution_count": null,
   "metadata": {},
   "outputs": [],
   "source": []
  },
  {
   "cell_type": "code",
   "execution_count": null,
   "metadata": {},
   "outputs": [],
   "source": []
  },
  {
   "cell_type": "code",
   "execution_count": 19,
   "metadata": {},
   "outputs": [],
   "source": [
    "def convertToScores(df):\n",
    "   # Done manually right now which is not optimal but what can I do\n",
    "    df[\"GPA\"] = df[\"GPA\"].apply(lambda x: x / 4)\n",
    "    df[\"Avg Commute Time\"] = df[\"Avg Commute Time\"].apply(lambda x: (100 - x) / 100)\n",
    "    df[\"Technical Aptitude\"] = df[\"Technical Aptitude\"].apply(lambda x: x / 4)\n",
    "    df[\"Educational Prestige\"] = df[\"Educational Prestige\"].apply(lambda x: x /3)\n",
    "    df[\"LinkedIn Score\"] = df[\"LinkedIn Score\"].apply(lambda x: x /2)\n",
    "    df[\"HireVue Score\"] = df[\"HireVue Score\"].apply(lambda x: x / 2)\n",
    "    return df\n",
    "\n",
    "def weightAndRank(df, weights, criteria):\n",
    "    for key, value in weights.items():\n",
    "        df[key] = df[key].apply(lambda x: value*x)\n",
    "    df[\"scores\"] = df.apply(criteria, axis=1)\n",
    "    df = df.sort_value(by=\"scores\", ascending=False)\n",
    "    return df\n",
    "        \n",
    "        "
   ]
  },
  {
   "cell_type": "code",
   "execution_count": null,
   "metadata": {},
   "outputs": [],
   "source": []
  }
 ],
 "metadata": {
  "kernelspec": {
   "display_name": "Python 3",
   "language": "python",
   "name": "python3"
  },
  "language_info": {
   "codemirror_mode": {
    "name": "ipython",
    "version": 3
   },
   "file_extension": ".py",
   "mimetype": "text/x-python",
   "name": "python",
   "nbconvert_exporter": "python",
   "pygments_lexer": "ipython3",
   "version": "3.7.7"
  }
 },
 "nbformat": 4,
 "nbformat_minor": 4
}
