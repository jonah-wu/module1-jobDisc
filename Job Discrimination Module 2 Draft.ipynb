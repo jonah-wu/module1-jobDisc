{
 "cells": [
  {
   "cell_type": "markdown",
   "metadata": {},
   "source": [
    "# A Data-Driven Approach to Job Discrimination Law\n",
    "## CS481 Assignment 1: \n",
    "### Milestone 2: Building a compliant algorithmic hiring system...\n",
    "\n",
    "After testing various algorithm's performance and analyzing behavior, your team has come to the conclusion that the algorithmic prototypes handed to you by HR Engineering were simply too risky! In almost all cases, a 4/5ths violation could be established. While the company still would have viable defenses for some of the algorithms under the business necessity defense, you are strongly convinced you can do better - the team will engineer an algorithm to take in relevant datapoints for candidates and spit out selections yet not violate statutory guidelines on job discrimination, shielding Sprawlmart from potential litigatory risks.\n"
   ]
  },
  {
   "cell_type": "markdown",
   "metadata": {},
   "source": [
    "Milestone Outline:\n",
    "* Feature selection\n",
    "* Model selection \n",
    "* Model training\n",
    "* Model Evaluation..."
   ]
  },
  {
   "cell_type": "code",
   "execution_count": null,
   "metadata": {},
   "outputs": [],
   "source": []
  }
 ],
 "metadata": {
  "kernelspec": {
   "display_name": "Python 3",
   "language": "python",
   "name": "python3"
  },
  "language_info": {
   "codemirror_mode": {
    "name": "ipython",
    "version": 3
   },
   "file_extension": ".py",
   "mimetype": "text/x-python",
   "name": "python",
   "nbconvert_exporter": "python",
   "pygments_lexer": "ipython3",
   "version": "3.7.7"
  }
 },
 "nbformat": 4,
 "nbformat_minor": 4
}
