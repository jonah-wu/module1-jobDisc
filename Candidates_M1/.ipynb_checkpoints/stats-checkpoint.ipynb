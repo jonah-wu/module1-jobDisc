{
 "cells": [
  {
   "cell_type": "code",
   "execution_count": 1,
   "metadata": {},
   "outputs": [],
   "source": [
    "import math\n",
    "import numpy as np\n",
    "import pandas as pd"
   ]
  },
  {
   "cell_type": "code",
   "execution_count": 2,
   "metadata": {},
   "outputs": [],
   "source": [
    "def loadPpl(race, gender):\n",
    "    numPpl = 500\n",
    "    Gender = {\"male\": .60, \"female\": .40}\n",
    "\n",
    "    races = {\n",
    "        \"Caucasian\": .55,\n",
    "        \"African-American\": .14,\n",
    "        \"Asian\": .15,\n",
    "        \"Hispanic\": .10,\n",
    "        \"Other\": .06\n",
    "    }\n",
    "    \n",
    "    return int(math.floor(numPpl * Gender[gender] * races[race]))\n"
   ]
  },
  {
   "cell_type": "code",
   "execution_count": 3,
   "metadata": {},
   "outputs": [
    {
     "data": {
      "text/plain": [
       "165"
      ]
     },
     "execution_count": 3,
     "metadata": {},
     "output_type": "execute_result"
    }
   ],
   "source": [
    "loadPpl(\"Caucasian\", \"male\")"
   ]
  },
  {
   "cell_type": "markdown",
   "metadata": {},
   "source": [
    "# Run Cell Below to Form Up Dataset"
   ]
  },
  {
   "cell_type": "code",
   "execution_count": 4,
   "metadata": {},
   "outputs": [],
   "source": [
    "def roundToHalves(old_array):\n",
    "    array = old_array\n",
    "    for x in range(len(array)):\n",
    "        num = array[x]\n",
    "        decimal = num - int(num)\n",
    "        if decimal > .33 and decimal < .66:\n",
    "            array[x] = int(num) + .5\n",
    "        elif decimal < .33:\n",
    "            array[x] = int(num)\n",
    "        else:\n",
    "            array[x] = int(num) + 1\n",
    "    return array"
   ]
  },
  {
   "cell_type": "code",
   "execution_count": 5,
   "metadata": {},
   "outputs": [
    {
     "name": "stdout",
     "output_type": "stream",
     "text": [
      "100\n",
      "<class 'pandas.core.frame.DataFrame'>\n",
      "Int64Index: 500 entries, 58 to 1\n",
      "Data columns (total 27 columns):\n",
      " #   Column                        Non-Null Count  Dtype  \n",
      "---  ------                        --------------  -----  \n",
      " 0   Names                         500 non-null    object \n",
      " 1   Race                          500 non-null    object \n",
      " 2   Gender                        500 non-null    object \n",
      " 3   Sports                        500 non-null    float64\n",
      " 4   Birth Origin                  500 non-null    object \n",
      " 5   Age                           500 non-null    float64\n",
      " 6   Zip                           500 non-null    int64  \n",
      " 7   Education                     500 non-null    int64  \n",
      " 8   GPA                           500 non-null    float64\n",
      " 9   Educational Prestige          500 non-null    float64\n",
      " 10  Years of Experience           500 non-null    float64\n",
      " 11  Soft Skills                   500 non-null    float64\n",
      " 12  Manager's Assessment Score    500 non-null    float64\n",
      " 13  Military Tenure               500 non-null    float64\n",
      " 14  Avg Commute Time              500 non-null    float64\n",
      " 15  Job Tenure                    500 non-null    float64\n",
      " 16  Cultural Fit                  500 non-null    float64\n",
      " 17  Leadership Capability         500 non-null    float64\n",
      " 18  HireVue Score                 500 non-null    float64\n",
      " 19  Technical Aptitude            500 non-null    float64\n",
      " 20  Avg Deals Closed              500 non-null    float64\n",
      " 21  Undergraduate Degree          500 non-null    object \n",
      " 22  LinkedIn Score                500 non-null    object \n",
      " 23  Responsible Social Media Use  500 non-null    object \n",
      " 24  Employee Referral             500 non-null    float64\n",
      " 25  Arrest Record                 500 non-null    float64\n",
      " 26  Criminal Record               500 non-null    float64\n",
      "dtypes: float64(18), int64(2), object(7)\n",
      "memory usage: 109.4+ KB\n"
     ]
    }
   ],
   "source": [
    "def loadDataset():\n",
    "    genders = [\"male\", \"female\"]\n",
    "\n",
    "    races = [\n",
    "        \"Caucasian\",\n",
    "        \"African-American\",\n",
    "        \"Asian\",\n",
    "        \"Hispanic\",\n",
    "        \"Other\"\n",
    "        ]\n",
    "    \n",
    "    dfs = []\n",
    "    for gender in genders:\n",
    "        for race in races:\n",
    "            dfs.append(pd.read_csv(\"employeeData_\" + gender + \"_\" + race + \".csv\", index_col=0))\n",
    "            \n",
    "    dataset = pd.concat(dfs)\n",
    "    \n",
    "    \n",
    "    cols = dataset.columns.tolist()\n",
    "    cols = cols[-7:] + cols[:-7]\n",
    "    dataset = dataset[cols]\n",
    "    \n",
    "    # dataset years adjustments to halves\n",
    "    yearsOfExp = roundToHalves(list(dataset[\"Years of Experience\"]))\n",
    "    jobTenure = roundToHalves(list(dataset[\"Job Tenure\"]))\n",
    "    militaryTenure = roundToHalves(list(dataset[\"Military Tenure\"]))\n",
    "    dataset[\"Years of Experience\"] = yearsOfExp\n",
    "    dataset[\"Job Tenure\"] = jobTenure\n",
    "    dataset[\"Military Tenure\"] = militaryTenure\n",
    "    \n",
    "    # prestige normalization     \n",
    "    prestigeMax = dataset[\"Educational Prestige\"].max()\n",
    "    dataset[\"Educational Prestige\"] = np.round(dataset[\"Educational Prestige\"].apply(lambda x: x / prestigeMax), 2)\n",
    "    \n",
    "    # Education Discretization into quintiles\n",
    "    dataset = dataset.sort_values([\"Education\"], ascending=False)\n",
    "    fifth = math.floor(len(dataset) / 5)\n",
    "    print(fifth)\n",
    "    num = 5\n",
    "    labels = []\n",
    "    for x in range(5):\n",
    "        for y in range(fifth):\n",
    "            labels.append(num)\n",
    "        num -= 1\n",
    "    dataset[\"Education\"] = labels\n",
    "    \n",
    "    dataset = dataset.drop(['Job Tenure', 'Avg Deals Closed', \"Manager's Assessment Score\"], axis=1)\n",
    "    dataset.info()\n",
    "    \n",
    "    return dataset\n",
    "\n",
    "dataset = loadDataset()\n",
    "dataset.to_csv(\"candidates_milestone1.csv\", index=False)"
   ]
  },
  {
   "cell_type": "code",
   "execution_count": null,
   "metadata": {},
   "outputs": [],
   "source": []
  },
  {
   "cell_type": "code",
   "execution_count": null,
   "metadata": {},
   "outputs": [],
   "source": []
  }
 ],
 "metadata": {
  "kernelspec": {
   "display_name": "Python 3",
   "language": "python",
   "name": "python3"
  },
  "language_info": {
   "codemirror_mode": {
    "name": "ipython",
    "version": 3
   },
   "file_extension": ".py",
   "mimetype": "text/x-python",
   "name": "python",
   "nbconvert_exporter": "python",
   "pygments_lexer": "ipython3",
   "version": "3.7.7"
  }
 },
 "nbformat": 4,
 "nbformat_minor": 4
}
