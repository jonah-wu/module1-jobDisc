{
 "cells": [
  {
   "cell_type": "code",
   "execution_count": 2,
   "metadata": {},
   "outputs": [],
   "source": [
    "import math\n",
    "import numpy as np\n",
    "import pandas as pd"
   ]
  },
  {
   "cell_type": "code",
   "execution_count": 3,
   "metadata": {},
   "outputs": [],
   "source": [
    "def loadPpl(race, gender):\n",
    "    numPpl = 2500\n",
    "    Gender = {\"male\": .60, \"female\": .40}\n",
    "\n",
    "    races = {\n",
    "        \"Caucasian\": .55,\n",
    "        \"African-American\": .14,\n",
    "        \"Asian\": .15,\n",
    "        \"Hispanic\": .10,\n",
    "        \"Other\": .06\n",
    "    }\n",
    "    \n",
    "    return int(math.floor(numPpl * Gender[gender] * races[race]))\n"
   ]
  },
  {
   "cell_type": "code",
   "execution_count": 4,
   "metadata": {},
   "outputs": [
    {
     "data": {
      "text/plain": [
       "825"
      ]
     },
     "execution_count": 4,
     "metadata": {},
     "output_type": "execute_result"
    }
   ],
   "source": [
    "loadPpl(\"Caucasian\", \"male\")"
   ]
  },
  {
   "cell_type": "markdown",
   "metadata": {},
   "source": [
    "# Run Cell Below to Form Up Dataset"
   ]
  },
  {
   "cell_type": "code",
   "execution_count": 5,
   "metadata": {},
   "outputs": [],
   "source": [
    "def roundToHalves(old_array):\n",
    "    array = old_array\n",
    "    for x in range(len(array)):\n",
    "        num = array[x]\n",
    "        decimal = num - int(num)\n",
    "        if decimal > .33 and decimal < .66:\n",
    "            array[x] = int(num) + .5\n",
    "        elif decimal < .33:\n",
    "            array[x] = int(num)\n",
    "        else:\n",
    "            array[x] = int(num) + 1\n",
    "    return array"
   ]
  },
  {
   "cell_type": "code",
   "execution_count": null,
   "metadata": {
    "scrolled": true
   },
   "outputs": [],
   "source": [
    "def loadDataset():\n",
    "    genders = [\"male\", \"female\"]\n",
    "\n",
    "    races = [\n",
    "        \"Caucasian\",\n",
    "        \"African-American\",\n",
    "        \"Asian\",\n",
    "        \"Hispanic\",\n",
    "        \"Other\"\n",
    "        ]\n",
    "    \n",
    "    dfs = []\n",
    "    for gender in genders:\n",
    "        for race in races:\n",
    "            dfs.append(pd.read_csv(\"employeeData_\" + gender + \"_\" + race + \".csv\", index_col=0))\n",
    "            \n",
    "    dataset = pd.concat(dfs)\n",
    "    \n",
    "    \n",
    "    cols = dataset.columns.tolist()\n",
    "    cols = cols[-7:] + cols[:-7]\n",
    "    dataset = dataset[cols]\n",
    "    \n",
    "    # dataset years adjustments to halves\n",
    "    yearsOfExp = roundToHalves(list(dataset[\"Years of Experience\"]))\n",
    "    jobTenure = roundToHalves(list(dataset[\"Job Tenure\"]))\n",
    "    militaryTenure = roundToHalves(list(dataset[\"Military Tenure\"]))\n",
    "    dataset[\"Years of Experience\"] = yearsOfExp\n",
    "    dataset[\"Job Tenure\"] = jobTenure\n",
    "    dataset[\"Military Tenure\"] = militaryTenure\n",
    "    \n",
    "    # prestige normalization     \n",
    "    prestigeMax = dataset[\"Educational Prestige\"].max()\n",
    "    dataset[\"Educational Prestige\"] = np.round(dataset[\"Educational Prestige\"].apply(lambda x: x / prestigeMax), 2)\n",
    "    \n",
    "    # Education Discretization into quintiles\n",
    "    dataset = dataset.sort_values([\"Education\"], ascending=False)\n",
    "    fifth = math.floor(len(dataset) / 5)\n",
    "    print(fifth)\n",
    "    num = 5\n",
    "    labels = []\n",
    "    for x in range(5):\n",
    "        for y in range(fifth):\n",
    "            labels.append(num)\n",
    "        num -= 1\n",
    "    dataset[\"Education\"] = labels\n",
    "    \n",
    "    dataset[\"Manager's Assessment Score\"] += 10\n",
    "    \n",
    "    dataset = dataset.drop(['Job Tenure', 'Avg Deals Closed', \"Manager's Assessment Score\"], axis=1)\n",
    "    dataset.info()\n",
    "    \n",
    "    return dataset\n",
    "\n",
    "dataset = loadDataset()\n",
    "\n",
    "dataset.to_csv(\"candidates_milestone2.csv\", index=False)"
   ]
  },
  {
   "cell_type": "markdown",
   "metadata": {},
   "source": []
  },
  {
   "cell_type": "code",
   "execution_count": null,
   "metadata": {},
   "outputs": [],
   "source": [
    "dataset.info()"
   ]
  },
  {
   "cell_type": "code",
   "execution_count": null,
   "metadata": {},
   "outputs": [],
   "source": []
  }
 ],
 "metadata": {
  "kernelspec": {
   "display_name": "Python 3",
   "language": "python",
   "name": "python3"
  },
  "language_info": {
   "codemirror_mode": {
    "name": "ipython",
    "version": 3
   },
   "file_extension": ".py",
   "mimetype": "text/x-python",
   "name": "python",
   "nbconvert_exporter": "python",
   "pygments_lexer": "ipython3",
   "version": "3.7.7"
  }
 },
 "nbformat": 4,
 "nbformat_minor": 4
}
