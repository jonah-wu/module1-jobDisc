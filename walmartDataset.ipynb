{
 "cells": [
  {
   "cell_type": "markdown",
   "metadata": {},
   "source": []
  },
  {
   "cell_type": "markdown",
   "metadata": {},
   "source": []
  },
  {
   "cell_type": "code",
   "execution_count": 5,
   "metadata": {},
   "outputs": [],
   "source": [
    "import pandas as pd\n",
    "import names\n",
    "import numpy as np\n",
    "from sklearn import datasets\n",
    "from collections import defaultdict\n",
    "from scipy.stats import truncnorm\n",
    "import matplotlib.pyplot as plt\n",
    "import random"
   ]
  },
  {
   "cell_type": "code",
   "execution_count": 6,
   "metadata": {},
   "outputs": [],
   "source": [
    "# Helper Methods\n",
    "def get_truncated_normal(mean=0, sd=1, low=0, upp=10):\n",
    "    return truncnorm(\n",
    "        (low - mean) / sd, (upp - mean) / sd, loc=mean, scale=sd)\n",
    "\n",
    "def binaryArrayGenerator(n, p): #where n is num values and p is the probability of success (1)\n",
    "    x = np.zeros(n)\n",
    "    num = int(p*100)\n",
    "    x[:num] = 1\n",
    "    np.random.shuffle(x)\n",
    "    return x\n",
    "\n",
    "def genSubGaussianDist(dist1, dist2, n, dist1_percent, shuffle):\n",
    "    x = np.random.normal(dist1[\"mean\"], dist1[\"var\"], int(dist1_percent * n))\n",
    "    y = np.random.normal(dist2[\"mean\"], dist2[\"var\"], n - int(dist1_percent * n))\n",
    "    z = np.append(x, y)\n",
    "    if shuffle:  return np.random.shuffle(z)\n",
    "    return z\n",
    "    \n",
    "def generateNames(sex, n):\n",
    "    nameList = []\n",
    "    for x in range (n):\n",
    "        name = names.get_full_name(gender = sex)\n",
    "        nameList.append(name)\n",
    "    return nameList\n",
    "\n",
    "# Takes in a probs array and a label array and generates an array of size numPpl based on proportions\n",
    "# in the probs array.  Ppl * probs MUST BE = an INTEGER!\n",
    "def generateFields(probs, labels, ppl):\n",
    "    fields = []\n",
    "    for x in range(len(probs)):\n",
    "        fields += [labels[x] for y in range(int(ppl*probs[x]))]\n",
    "    return fields"
   ]
  },
  {
   "cell_type": "code",
   "execution_count": 60,
   "metadata": {},
   "outputs": [],
   "source": [
    "def genEducationalFields(numPpl, noCollegeProb=.05): \n",
    "    # 4 fields generated: education, type of undergraduate degree, educational prestige, and Athletics\n",
    "    # Education - 0, 1, 2 ==> Wherein 0=High School Diploma, 1=Bachelors, 2=Graduate degree\n",
    "    educProbs = [noCollegeProb, .75, .2]\n",
    "    assert(sum(educProbs) == 1.0)\n",
    "    educLabels = [0, 1, 2]\n",
    "    educFields = generateFields(educProbs, educLabels, numPpl)\n",
    "    #Type of Undergrad Degree\n",
    "    degreeProbs = [noCollegeProb, .25, .20, .25, .25]\n",
    "    assert(sum(degreeProbs) == 1.0)\n",
    "    degreeLabels = [\"None\", \"Humanities\", \"Sciences\", \"Quantitative\", \"Engineering\"]\n",
    "    degreeFields = generateFields(degreeProbs, degreeLabels, numPpl)\n",
    "\n",
    "    #Educational Prestige ==> none, low-tier, mid-tier, high-tier\n",
    "    prestigeProbs = [noCollegeProb, .3, .5, .15]\n",
    "    assert(sum(prestigeProbs) == 1)\n",
    "    prestigeLabels = [0, 1, 2, 3]\n",
    "    prestigeFields = generateFields(prestigeProbs, prestigeLabels, numPpl)\n",
    "\n",
    "    #Sports ==> None, Club/Intramural, NCAA\n",
    "    sportsProbs = [noCollegeProb + .55, .3, .1]\n",
    "    assert(int(sum(sportsProbs)) == 1)\n",
    "    sportsLabels = [\"None\", \"Club/Intramural\", \"NCAA/Professional\"]\n",
    "    sportsFields = generateFields(sportsProbs, sportsLabels, numPpl)\n",
    "\n",
    "    ## Randomizing\n",
    "    dependentIndexCutoff = int(noCollegeProb * numPpl)\n",
    "    neweducFields, newdegreeFields, newprestigeFields, newsportsFields = educFields[dependentIndexCutoff:], degreeFields[dependentIndexCutoff:],prestigeFields[dependentIndexCutoff:], sportsFields[dependentIndexCutoff:]\n",
    "    random.shuffle(neweducFields)\n",
    "    random.shuffle(newdegreeFields)\n",
    "    random.shuffle(newprestigeFields)\n",
    "    random.shuffle(newsportsFields)\n",
    "    \n",
    "    for x in range(dependentIndexCutoff):\n",
    "        indexToInsert = random.randint(0, len(neweducFields)-1)\n",
    "        neweducFields.insert(indexToInsert, educLabels[0])\n",
    "        newdegreeFields.insert(indexToInsert, degreeLabels[0])\n",
    "        newprestigeFields.insert(indexToInsert, prestigeLabels[0])\n",
    "        newsportsFields.insert(indexToInsert, sportsLabels[0])\n",
    "           \n",
    "    print(len(neweducFields))\n",
    "    print(len(newdegreeFields))\n",
    "    print(len(newprestigeFields))\n",
    "    print(len(newsportsFields))\n",
    "    #### NEED TO RANDOMIZE THE NON noCollege ppl. \n",
    "    return neweducFields, newdegreeFields, newprestigeFields, newsportsFields\n",
    "\n"
   ]
  },
  {
   "cell_type": "code",
   "execution_count": 61,
   "metadata": {},
   "outputs": [],
   "source": [
    "# We expect prob to be a tuple wherein the 0th element is the % of individuals in dataset\n",
    "# with an arrest record and the 1th element is the % of individuals with a criminal record\n",
    "# Returns a tuple of arrays where the first element is the array for arrestHistory, and the second is\n",
    "# for criminal history\n",
    "def genCriminalAndArrestRecords(numPpl, probs):\n",
    "    assert(probs[0] > probs[1]) #Ensures that the number of arrests is greater than the num of those with criminal records\n",
    "    # Criminal & Arrest\n",
    "    dependentIndexCutoff = int(probs[1] * numPpl)\n",
    "    criminalHistory = binaryArrayGenerator(numPpl, probs[1])\n",
    "    arrestHistory = binaryArrayGenerator(numPpl, probs[0])\n",
    "    newCrimHistory, newArrestHistory = list(criminalHistory[dependentIndexCutoff:]), list(arrestHistory[dependentIndexCutoff:])\n",
    "    random.shuffle(newCrimHistory)\n",
    "    random.shuffle(newArrestHistory)\n",
    "    for x in range(dependentIndexCutoff):\n",
    "        indexToInsert = random.randint(0, len(newCrimHistory)-1)\n",
    "        newCrimHistory.insert(indexToInsert, 1)\n",
    "        newArrestHistory.insert(indexToInsert, 1)\n",
    "    return (newArrestHistory, newCrimHistory)\n",
    "\n",
    "def genSensitiveAttributes(numPpl):\n",
    "    # Sensitive Attributes\n",
    "    raceValues = {\"Caucasian\": 0, \"African-American\": 1, \"Asian\": 2, \"Hispanic\": 3, \"Other\": 4}\n",
    "    raceLabels = [0, 1, 2, 3, 4]\n",
    "    raceProbs = [.7, .1, .1, .05, .05]\n",
    "    raceFields = generateFields(raceProbs, raceLabels, numPpl)\n",
    "    assert(len(raceFields) == numPpl)\n",
    "    random.shuffle(raceFields)\n",
    "    \n",
    "    sexValues = {\"Male\": 0, \"Female\": 1}\n",
    "    maleRatio = .6\n",
    "    femaleRatio = .4\n",
    "\n",
    "    maleNames = generateNames('male', int(maleRatio*numPpl))\n",
    "    femaleNames = generateNames('female', int(femaleRatio*numPpl))\n",
    "    nameFields = maleNames + femaleNames\n",
    "    nameToSex = {name: 0 for name in maleNames}\n",
    "    nameToSex2 = {name: 1 for name in femaleNames}\n",
    "    nameToSex.update(nameToSex2)\n",
    "    random.shuffle(nameFields)\n",
    "    \n",
    "    sexFields = [nameToSex[name] for name in nameFields]\n",
    "    assert(len(sexFields) == numPpl)\n",
    "    \n",
    "    ages = get_truncated_normal(mean=25, sd=5, low=21, upp=60)\n",
    "    ageFields = np.rint(ages.rvs(numPpl))\n",
    "#     ageDist1 = defaultdict(float)\n",
    "#     ageDist1[\"mean\"] = 28 #years old\n",
    "#     ageDist1[\"var\"] = 6\n",
    "#     ageDist2 = defaultdict(float)\n",
    "#     ageDist2[\"mean\"] = 50 #years old\n",
    "#     ageDist2[\"var\"] = 3\n",
    "#     ageFields = np.rint(genSubGaussianDist(ageDist1, ageDist2, numPpl, .75, False))\n",
    "    assert(len(ageFields) == numPpl)\n",
    "    \n",
    "    return nameFields, raceFields, sexFields, ageFields"
   ]
  },
  {
   "cell_type": "code",
   "execution_count": 62,
   "metadata": {},
   "outputs": [],
   "source": [
    "# Birth Origin\n",
    "def genBirthOrigin(ppl):\n",
    "    countries = [\"United States\", \"China\", \"Mexico\", \"India\", \"Canada\", \"Australia\"]\n",
    "    countryProbs = [.85, .05, .02, .03, .03, .02]\n",
    "    candidateCountries = []\n",
    "    for x in range(len(countryProbs)):\n",
    "        candidateCountries += [countries[x] for y in range(int(ppl*countryProbs[x]))]\n",
    "    print(len(candidateCountries))\n",
    "    return candidateCountries\n",
    "\n",
    "# LinkedIn\n",
    "def genLinkedinScore(ppl):\n",
    "    linkedinScore = []\n",
    "    probs = [.30, .50, .20] # Percentage of students with low-tier - (0), mid-tier(1), high tier university(2)\n",
    "    for x in range(len(probs)):\n",
    "        linkedinScore += [x for y in range(int(ppl*probs[x]))]\n",
    "    return linkedinScore\n"
   ]
  },
  {
   "cell_type": "code",
   "execution_count": 63,
   "metadata": {},
   "outputs": [
    {
     "name": "stdout",
     "output_type": "stream",
     "text": [
      "22\n"
     ]
    }
   ],
   "source": [
    "# Build the list of features we desire to include in our rough hiring platform data\n",
    "# Put yourself in pymetrics' shoes where a Fortune 500 comes to them and asks them to evaluate the following candidates for \n",
    "# a entry-level product management / business analyst / sales associate position.\n",
    "# given their employee selection tests.\n",
    "\n",
    "# What data parameters would enable you to make the best decision?\n",
    "# Level of education, GPA, technical aptitude, soft skills, cultural fit, average commute time, address, languagues, years of work experience, number of \n",
    "# companies worked for, average stay at each company, past recommendations, Employee Referral, awards from previous work, race, gender, leadership experience, criminal history, \n",
    "# LinkedIn profile score, Instagram/Facebook/Twitter content is reasonable. \n",
    "# Communication, Problem Solving, Willing To Learn, Emotional Skills, Cognitive Ability.\n",
    "\n",
    "features = [\"Names\", \"GPA\", \"Avg Commute Time\", \"Cultural Fit\", \"Technical Aptitude\", \n",
    "           \"Soft Skills\", \"Employee Referral\", \"Years of Experience\", \"Leadership Capability\", \n",
    "           \"Race\", \"Sex\", \"Age\", \"Birth Origin\", \"Education\", \n",
    "           \"Undergraduate Degree\", \"Educational Prestige\", \"Sports\", \"Criminal Record\",\n",
    "           \"Arrest Records\", \"LinkedIn Score\", \"Responsible Social Media Use\", \"HireVue Score\"]\n",
    "\n",
    "print(len(features))"
   ]
  },
  {
   "cell_type": "code",
   "execution_count": null,
   "metadata": {},
   "outputs": [],
   "source": []
  },
  {
   "cell_type": "code",
   "execution_count": 64,
   "metadata": {
    "scrolled": false
   },
   "outputs": [],
   "source": [
    "\n",
    "def loadDataset(numPpl, features):\n",
    "    print(\"Loading the dataset .... this might take a few seconds!\")\n",
    "    dataset = pd.DataFrame(columns = features)\n",
    "    #Traditional Features\n",
    "    GPAs = get_truncated_normal(mean=3.2, sd=0.5, low=0, upp=4.33)\n",
    "    GPA = GPAs.rvs(numPpl) #mean, stdev, numSamples out of 4.0\n",
    "    commuteTimes = get_truncated_normal(mean=25, sd=40, low=0, upp=120) #mean, stdev, numSamples in minutes\n",
    "    techAptitude = np.random.choice(5, numPpl) # represent num of technical platforms proficient in. \n",
    "    culturalFit = np.random.choice(3, numPpl) # Where higher means their beliefs align with org more. \n",
    "    softSkills = binaryArrayGenerator(numPpl, .7)\n",
    "    np.random.shuffle(softSkills)\n",
    "    employeeReferral =binaryArrayGenerator(numPpl, .33) \n",
    "    np.random.shuffle(employeeReferral)\n",
    "    yearsExperience = get_truncated_normal(mean=3, sd = 2, low = 0, upp=6)\n",
    "    leadershipCapability = np.random.normal(.5, .25, numPpl)    \n",
    "    nameFields, raceFields, sexFields, ageFields = genSensitiveAttributes(numPpl)\n",
    "\n",
    "    #Load our additional Features in\n",
    "    birthOrigin = genBirthOrigin(numPpl)\n",
    "    random.shuffle(birthOrigin)\n",
    "    percentageResponsible = .75\n",
    "    responsibleSocmediaUse = binaryArrayGenerator(numPpl, percentageResponsible*numPpl)\n",
    "    np.random.shuffle(responsibleSocmediaUse)\n",
    "    hirevueScore = np.random.choice(3, numPpl)\n",
    "    linkedinScore = genLinkedinScore(numPpl)\n",
    "    random.shuffle(linkedinScore)\n",
    "    arrestRecords, criminalRecords = genCriminalAndArrestRecords(numPpl, (.1, .05))\n",
    "    educFields, degreeFields, prestigeFields, sportsFields = genEducationalFields(numPpl, noCollegeProb=.05)\n",
    "\n",
    "    # Load those values into our dataset. \n",
    "    dataset[\"Names\"] = nameFields\n",
    "    dataset[\"GPA\"] = GPA\n",
    "    dataset[\"Avg Commute Time\"] = commuteTimes.rvs(numPpl)\n",
    "    dataset[\"Technical Aptitude\"] = techAptitude\n",
    "    dataset[\"Cultural Fit\"] = culturalFit\n",
    "    dataset[\"Soft Skills\"] = softSkills\n",
    "    dataset[\"Employee Referral\"] = employeeReferral\n",
    "    dataset[\"Years of Experience\"] = np.rint(yearsExperience.rvs(numPpl))\n",
    "    dataset[\"Leadership Capability\"] = leadershipCapability\n",
    "    dataset[\"Race\"] = raceFields\n",
    "    dataset[\"Sex\"] = sexFields\n",
    "    dataset[\"Age\"] = ageFields\n",
    "    dataset[\"Birth Origin\"] = birthOrigin\n",
    "    dataset[\"Education\"] = educFields\n",
    "    dataset[\"Undergraduate Degree\"] = degreeFields\n",
    "    dataset[\"Educational Prestige\"] = prestigeFields\n",
    "    dataset[\"Sports\"] = sportsFields\n",
    "    dataset[\"Criminal Record\"] = criminalRecords\n",
    "    dataset[\"Arrest Records\"] = arrestRecords\n",
    "    dataset[\"LinkedIn Score\"] = linkedinScore\n",
    "    dataset[\"Responsible Social Media Use\"] = responsibleSocmediaUse \n",
    "    dataset[\"HireVue Score\"] = hirevueScore\n",
    "    return dataset\n"
   ]
  },
  {
   "cell_type": "code",
   "execution_count": 66,
   "metadata": {},
   "outputs": [
    {
     "name": "stdout",
     "output_type": "stream",
     "text": [
      "Loading the dataset .... this might take a few seconds!\n",
      "500\n",
      "500\n",
      "500\n",
      "500\n",
      "500\n"
     ]
    }
   ],
   "source": [
    "dataset = loadDataset(500, features)   \n",
    "dataset\n",
    "dataset.to_csv(\"dataset.csv\")"
   ]
  },
  {
   "cell_type": "code",
   "execution_count": 17,
   "metadata": {},
   "outputs": [],
   "source": [
    "metrics = [\"GPA\", \"Leadership Capability\", \"Technical Aptitude\"]\n",
    "topPerformers = selectTopQuarterAvgNaively(metrics, 3)"
   ]
  },
  {
   "cell_type": "code",
   "execution_count": 21,
   "metadata": {},
   "outputs": [
    {
     "data": {
      "image/png": "[encoded data removed]",
      "text/plain": [
       "<Figure size 432x288 with 1 Axes>"
      ]
     },
     "metadata": {
      "needs_background": "light"
     },
     "output_type": "display_data"
    },
    {
     "data": {
      "image/png": "[encoded data removed]",
      "text/plain": [
       "<Figure size 432x288 with 1 Axes>"
      ]
     },
     "metadata": {
      "needs_background": "light"
     },
     "output_type": "display_data"
    },
    {
     "data": {
      "image/png": "[encoded data removed]",
      "text/plain": [
       "<Figure size 432x288 with 1 Axes>"
      ]
     },
     "metadata": {
      "needs_background": "light"
     },
     "output_type": "display_data"
    }
   ],
   "source": [
    "#### Graphing some basic relations\n",
    "dataset.plot(kind='scatter',x='GPA',y='Race',color='red')\n",
    "plt.show()\n",
    "\n",
    "dataset.plot(kind='scatter',x='Cultural Fit',y='Race',color='red')\n",
    "plt.show()\n",
    "\n",
    "\n",
    "ax = plt.gca()\n",
    "\n",
    "dataset.plot(kind='line',x='Race',y='Avg Commute Time',ax=ax)\n",
    "dataset.plot(kind='line',x='Race',y='Age', color='red', ax=ax)\n",
    "\n",
    "plt.show()\n"
   ]
  },
  {
   "cell_type": "code",
   "execution_count": 55,
   "metadata": {},
   "outputs": [
    {
     "data": {
      "image/png": "[encoded data removed]",
      "text/plain": [
       "<Figure size 432x288 with 1 Axes>"
      ]
     },
     "metadata": {
      "needs_background": "light"
     },
     "output_type": "display_data"
    }
   ],
   "source": [
    "###---- Now attempt to violate disparate impact clauses ---###\n",
    "mCulturalFit = np.random.normal(2, .5, 60)\n",
    "fCulturalFit = np.random.normal(0.5, .5, 40)\n",
    "biasedCulturalFit = np.append(mCulturalFit, fCulturalFit)\n",
    "\n",
    "dataset[\"Cultural Fit\"] = biasedCulturalFit\n",
    "dataset.plot(kind='scatter',x='Sex',y='Cultural Fit',color='red')\n",
    "plt.show()\n"
   ]
  },
  {
   "cell_type": "code",
   "execution_count": 1,
   "metadata": {},
   "outputs": [],
   "source": [
    "### --- Devise Tests to select Candidates ---- ###\n",
    "def selectTopQuarterAvgNaively(metrics, numFeatures):\n",
    "    if numFeatures == 3:\n",
    "        dataset[\"Avg Score\"] = (dataset[metrics[0]] + dataset[metrics[1]] + dataset[metrics[2]]) / numFeatures\n",
    "    values = dataset[\"Avg Score\"]\n",
    "    idx = (-values).argsort()[:ppl]\n",
    "    return idx\n",
    "\n",
    "def kNN():\n",
    "    return 0\n",
    "\n",
    "\n",
    "def NN():\n",
    "    return 0"
   ]
  },
  {
   "cell_type": "code",
   "execution_count": null,
   "metadata": {},
   "outputs": [],
   "source": []
  }
 ],
 "metadata": {
  "kernelspec": {
   "display_name": "Python 3",
   "language": "python",
   "name": "python3"
  },
  "language_info": {
   "codemirror_mode": {
    "name": "ipython",
    "version": 3
   },
   "file_extension": ".py",
   "mimetype": "text/x-python",
   "name": "python",
   "nbconvert_exporter": "python",
   "pygments_lexer": "ipython3",
   "version": "3.7.7"
  }
 },
 "nbformat": 4,
 "nbformat_minor": 4
}
